{
  "nbformat": 4,
  "nbformat_minor": 0,
  "metadata": {
    "celltoolbar": "Slideshow",
    "kernelspec": {
      "name": "python3",
      "display_name": "Python 3"
    },
    "language_info": {
      "codemirror_mode": {
        "name": "ipython",
        "version": 3
      },
      "file_extension": ".py",
      "mimetype": "text/x-python",
      "name": "python",
      "nbconvert_exporter": "python",
      "pygments_lexer": "ipython3",
      "version": "3.8.2"
    },
    "colab": {
      "name": "PyTorch_Introduction.ipynb",
      "provenance": [],
      "collapsed_sections": [
        "zqyBFdobMTha",
        "jlzoXa6UMThg",
        "l08nQdE9MThp",
        "Tmg4eFQAMThr",
        "jifMOIcNMTh5",
        "aSO1McZLMTiT",
        "OCwLf9C2MTiY",
        "IrapEC2XMTiY",
        "NwsmNTYLMTig",
        "OyN-mHRoMTii"
      ],
      "include_colab_link": true
    },
    "accelerator": "GPU"
  },
  "cells": [
    {
      "cell_type": "markdown",
      "metadata": {
        "id": "view-in-github",
        "colab_type": "text"
      },
      "source": [
        "<a href=\"https://colab.research.google.com/github/matthew-lyr/other_stuffs/blob/main/PyTorch_Introduction.ipynb\" target=\"_parent\"><img src=\"https://colab.research.google.com/assets/colab-badge.svg\" alt=\"Open In Colab\"/></a>"
      ]
    },
    {
      "cell_type": "markdown",
      "metadata": {
        "id": "X7Lg2NXGMThA"
      },
      "source": [
        "# PyTorch Introduction\n",
        "\n",
        "### TA: Chi-Liang Liu\n",
        "##### This Tutorial is modified from [University of Washington CSE446](https://courses.cs.washington.edu/courses/cse446/19au/section9.html) and [PyTorch Official Tutorials](https://pytorch.org/tutorials/)"
      ]
    },
    {
      "cell_type": "markdown",
      "metadata": {
        "id": "Xi_QP1bmMThC"
      },
      "source": [
        "Today, we will be intoducing PyTorch, \"an open source deep learning platform that provides a seamless path from research prototyping to production deployment\".\n",
        "\n",
        "This notebook is by no means comprehensive. If you have any questions the **documentation** and **Google** are your friends.\n",
        "\n",
        "Goal takeaways:\n",
        "- Automatic differentiation is a powerful tool\n",
        "- PyTorch implements common functions used in deep learning\n",
        "- Data Processing with PyTorch DataSet\n",
        "- Mixed Presision Training in PyTorch"
      ]
    },
    {
      "cell_type": "code",
      "metadata": {
        "id": "RQIPkkKdMThD"
      },
      "source": [
        "import torch\n",
        "import torch.nn as nn\n",
        "import torch.nn.functional as F\n",
        "\n",
        "from mpl_toolkits.mplot3d import Axes3D\n",
        "import matplotlib.pyplot as plt\n",
        "\n",
        "import numpy as np\n",
        "\n",
        "torch.manual_seed(446)\n",
        "np.random.seed(446)"
      ],
      "execution_count": 1,
      "outputs": []
    },
    {
      "cell_type": "markdown",
      "metadata": {
        "id": "fCQTBsnWMThH"
      },
      "source": [
        "## Tensors and relation to numpy\n",
        "\n",
        "By this point, we have worked with numpy quite a bit. PyTorch's basic building block, the `tensor` is similar to numpy's `ndarray`"
      ]
    },
    {
      "cell_type": "code",
      "metadata": {
        "id": "IXnFLFr1MThI",
        "colab": {
          "base_uri": "https://localhost:8080/"
        },
        "outputId": "750fb6af-d71c-4f40-bfa9-d4797044fb4c"
      },
      "source": [
        "# torch.tensor 用来产生array和matrix\n",
        "# 不是太懂这里面matrix的dimension怎么量\n",
        "# 当用torch.sum(x,dim = )时候，dim是几，就消灭x的shape的哪一项\n",
        "# https://towardsdatascience.com/understanding-dimensions-in-pytorch-6edf9972d3be\n",
        "\n",
        "# we create tensors in a similar way to numpy nd arrays\n",
        "x_numpy = np.array([0.1, 0.2, 0.3])\n",
        "x_torch = torch.tensor([0.1, 0.2, 0.3])\n",
        "print('x_numpy, x_torch')\n",
        "print(x_numpy, x_torch)\n",
        "print()\n",
        "\n",
        "# to and from numpy, pytorch\n",
        "print('to and from numpy and pytorch')\n",
        "print(torch.from_numpy(x_numpy), x_torch.numpy())\n",
        "print()\n",
        "\n",
        "# we can do basic operations like +-*/\n",
        "y_numpy = np.array([3,4,5.])\n",
        "y_torch = torch.tensor([3,4,5.])\n",
        "print(\"x+y\")\n",
        "print(x_numpy + y_numpy, x_torch + y_torch)\n",
        "print()\n",
        "\n",
        "# many functions that are in numpy are also in pytorch\n",
        "print(\"norm\")\n",
        "print(np.linalg.norm(x_numpy), torch.norm(x_torch))\n",
        "print()\n",
        "\n",
        "# to apply an operation along a dimension,\n",
        "# we use the dim keyword argument instead of axis\n",
        "print(\"mean along the 0th dimension\")\n",
        "x_numpy = np.array([[1,2],[3,4.]])\n",
        "x_torch = torch.tensor([[[1,2,1],[3,4,1]],[[5,6,1],[7,8,1]]])\n",
        "print(x_torch.shape)\n",
        "print(np.mean(x_numpy, axis=0), torch.max(x_torch, dim=1))\n"
      ],
      "execution_count": null,
      "outputs": [
        {
          "output_type": "stream",
          "text": [
            "x_numpy, x_torch\n",
            "[0.1 0.2 0.3] tensor([0.1000, 0.2000, 0.3000])\n",
            "\n",
            "to and from numpy and pytorch\n",
            "tensor([0.1000, 0.2000, 0.3000], dtype=torch.float64) [0.1 0.2 0.3]\n",
            "\n",
            "x+y\n",
            "[3.1 4.2 5.3] tensor([3.1000, 4.2000, 5.3000])\n",
            "\n",
            "norm\n",
            "0.37416573867739417 tensor(0.3742)\n",
            "\n",
            "mean along the 0th dimension\n",
            "torch.Size([2, 2, 3])\n",
            "[2. 3.] torch.return_types.max(\n",
            "values=tensor([[3, 4, 1],\n",
            "        [7, 8, 1]]),\n",
            "indices=tensor([[1, 1, 0],\n",
            "        [1, 1, 0]]))\n"
          ],
          "name": "stdout"
        }
      ]
    },
    {
      "cell_type": "markdown",
      "metadata": {
        "id": "TtyttsoZMThL"
      },
      "source": [
        "### `Tensor.view`\n",
        "We can use the `Tensor.view()` function to reshape tensors similarly to `numpy.reshape()`\n",
        "\n",
        "It can also automatically calculate the correct dimension if a `-1` is passed in. This is useful if we are working with batches, but the batch size is unknown."
      ]
    },
    {
      "cell_type": "code",
      "metadata": {
        "id": "ABhZ5mKpMThM",
        "colab": {
          "base_uri": "https://localhost:8080/"
        },
        "outputId": "a25ddb99-7093-4603-e61b-8cd40ed66af6"
      },
      "source": [
        "# 不懂reshape完，element怎么排列，有什么规律\n",
        "# 感觉就是先弄成一行，一个dimension的array，然后再依次塞到新的matrix里\n",
        "# \"MNIST\"\n",
        "N, C, W, H = 10000, 3, 28, 28\n",
        "X = torch.randn((N, C, W, H))\n",
        "\n",
        "print(X.shape)\n",
        "print(X.view(N, C, 784).shape)\n",
        "print(X.view(-1, C, 784).shape) # automatically choose the 0th dimension"
      ],
      "execution_count": null,
      "outputs": [
        {
          "output_type": "stream",
          "text": [
            "torch.Size([10000, 3, 28, 28])\n",
            "torch.Size([10000, 3, 784])\n",
            "torch.Size([10000, 3, 784])\n"
          ],
          "name": "stdout"
        }
      ]
    },
    {
      "cell_type": "code",
      "metadata": {
        "colab": {
          "base_uri": "https://localhost:8080/"
        },
        "id": "SiO8W1E8gl6z",
        "outputId": "2ca703ba-041c-4697-d256-92cc7c68c27a"
      },
      "source": [
        "x_torch = torch.tensor([[[1,2,1],[3,4,1]],[[5,6,1],[7,8,1]]])\n",
        "print(x_torch.shape)\n",
        "x_torch.view(-1)"
      ],
      "execution_count": null,
      "outputs": [
        {
          "output_type": "stream",
          "text": [
            "torch.Size([2, 2, 3])\n"
          ],
          "name": "stdout"
        },
        {
          "output_type": "execute_result",
          "data": {
            "text/plain": [
              "tensor([1, 2, 1, 3, 4, 1, 5, 6, 1, 7, 8, 1])"
            ]
          },
          "metadata": {
            "tags": []
          },
          "execution_count": 24
        }
      ]
    },
    {
      "cell_type": "markdown",
      "metadata": {
        "id": "AXgxfCTMOjIp"
      },
      "source": [
        "### `BROADCASTING SEMANTICS`\n",
        "Two tensors are “broadcastable” if the following rules hold:\n",
        "\n",
        "Each tensor has at least one dimension.\n",
        "\n",
        "When iterating over the dimension sizes, starting at the trailing dimension, the dimension sizes must either be equal, one of them is 1, or one of them does not exist."
      ]
    },
    {
      "cell_type": "code",
      "metadata": {
        "id": "9ioj-DAhOjiN",
        "colab": {
          "base_uri": "https://localhost:8080/"
        },
        "outputId": "f167cc23-edb0-4975-a011-39b8909b88c9"
      },
      "source": [
        "# PyTorch operations support NumPy Broadcasting Semantics.\n",
        "x=torch.rand(5,1,4,1)\n",
        "y=torch.empty(  3,1,1)\n",
        "print((x+y).size())\n",
        "x"
      ],
      "execution_count": null,
      "outputs": [
        {
          "output_type": "stream",
          "text": [
            "torch.Size([5, 3, 4, 1])\n"
          ],
          "name": "stdout"
        },
        {
          "output_type": "execute_result",
          "data": {
            "text/plain": [
              "tensor([[[[0.3959],\n",
              "          [0.6177],\n",
              "          [0.7256],\n",
              "          [0.0971]]],\n",
              "\n",
              "\n",
              "        [[[0.9186],\n",
              "          [0.8277],\n",
              "          [0.4409],\n",
              "          [0.9344]]],\n",
              "\n",
              "\n",
              "        [[[0.8967],\n",
              "          [0.1897],\n",
              "          [0.6028],\n",
              "          [0.4290]]],\n",
              "\n",
              "\n",
              "        [[[0.8083],\n",
              "          [0.6786],\n",
              "          [0.3323],\n",
              "          [0.2304]]],\n",
              "\n",
              "\n",
              "        [[[0.0098],\n",
              "          [0.3594],\n",
              "          [0.4761],\n",
              "          [0.8707]]]])"
            ]
          },
          "metadata": {
            "tags": []
          },
          "execution_count": 26
        }
      ]
    },
    {
      "cell_type": "markdown",
      "metadata": {
        "id": "Y3vQ3yD9MThP"
      },
      "source": [
        "## Computation graphs\n",
        "\n",
        "What's special about PyTorch's `tensor` object is that it implicitly creates a computation graph in the background. A computation graph is a a way of writing a mathematical expression as a graph. There is an algorithm to compute the gradients of all the variables of a computation graph in time on the same order it is to compute the function itself.\n",
        "\n",
        "Consider the expression $e=(a+b)*(b+1)$ with values $a=2, b=1$. We can draw the evaluated computation graph as\n",
        "<br>\n",
        "<br>\n",
        "\n",
        "In PyTorch, we can write this as"
      ]
    },
    {
      "cell_type": "markdown",
      "metadata": {
        "id": "G-HpojJ_MThQ"
      },
      "source": [
        "![tree-img](https://colah.github.io/posts/2015-08-Backprop/img/tree-eval.png)\n",
        "\n",
        "[source](https://colah.github.io/posts/2015-08-Backprop/)"
      ]
    },
    {
      "cell_type": "code",
      "metadata": {
        "id": "n7NGX7CVMThR",
        "colab": {
          "base_uri": "https://localhost:8080/"
        },
        "outputId": "095901dc-972a-4e50-e09c-5bb9e1ff55aa"
      },
      "source": [
        "# 记住graph又有何用？require grad里的grad是gradients的意思 \n",
        "a = torch.tensor(2.0, requires_grad=True) # we set requires_grad=True to let PyTorch know to keep the graph\n",
        "b = torch.tensor(1.0, requires_grad=True)\n",
        "\n",
        "c = a + b\n",
        "d = b + 1\n",
        "e = c * d\n",
        "\n",
        "print('c', c)\n",
        "print('d', d)\n",
        "print('e', e)"
      ],
      "execution_count": null,
      "outputs": [
        {
          "output_type": "stream",
          "text": [
            "tensor(2., requires_grad=True)\n",
            "tensor(2., requires_grad=True)\n",
            "c tensor(3., grad_fn=<AddBackward0>)\n",
            "d tensor(2., grad_fn=<AddBackward0>)\n",
            "e tensor(6., grad_fn=<MulBackward0>)\n"
          ],
          "name": "stdout"
        }
      ]
    },
    {
      "cell_type": "markdown",
      "metadata": {
        "id": "orGtJTjkMThU"
      },
      "source": [
        "We can see that PyTorch kept track of the computation graph for us."
      ]
    },
    {
      "cell_type": "markdown",
      "metadata": {
        "id": "gPZfJ1hy4uxj"
      },
      "source": [
        "## CUDA SEMANTICS\n",
        "It's easy cupy tensor from cpu to gpu or from gpu to cpu."
      ]
    },
    {
      "cell_type": "code",
      "metadata": {
        "id": "JYqe5vVv43tG",
        "colab": {
          "base_uri": "https://localhost:8080/",
          "height": 121
        },
        "outputId": "202de93f-1f82-4ee4-9c53-0ec985655323"
      },
      "source": [
        "cpu = torch.device(\"cpu\")\n",
        "gpu = torch.device(\"cuda\")\n",
        "\n",
        "x = torch.rand(10)\n",
        "print(x)\n",
        "x = x.to(gpu)\n",
        "print(x)\n",
        "x = x.to(cpu)\n",
        "print(x)"
      ],
      "execution_count": null,
      "outputs": [
        {
          "output_type": "stream",
          "text": [
            "tensor([0.3959, 0.6177, 0.7256, 0.0971, 0.9186, 0.8277, 0.4409, 0.9344, 0.8967,\n",
            "        0.1897])\n",
            "tensor([0.3959, 0.6177, 0.7256, 0.0971, 0.9186, 0.8277, 0.4409, 0.9344, 0.8967,\n",
            "        0.1897], device='cuda:0')\n",
            "tensor([0.3959, 0.6177, 0.7256, 0.0971, 0.9186, 0.8277, 0.4409, 0.9344, 0.8967,\n",
            "        0.1897])\n"
          ],
          "name": "stdout"
        }
      ]
    },
    {
      "cell_type": "markdown",
      "metadata": {
        "id": "R7Wy2mEOMThU"
      },
      "source": [
        "## PyTorch as an auto grad framework\n",
        "\n",
        "Now that we have seen that PyTorch keeps the graph around for us, let's use it to compute some gradients for us.\n",
        "\n",
        "Consider the function $f(x) = (x-2)^2$.\n",
        "\n",
        "Q: Compute $\\frac{d}{dx} f(x)$ and then compute $f'(1)$.\n",
        "\n",
        "We make a `backward()` call on the leaf variable (`y`) in the computation, computing all the gradients of `y` at once."
      ]
    },
    {
      "cell_type": "code",
      "metadata": {
        "id": "zvN0jSOKMThV",
        "colab": {
          "base_uri": "https://localhost:8080/"
        },
        "outputId": "0671305b-2808-4f8b-f2c1-565b8efdcbf2"
      },
      "source": [
        "# 什么意思？你这个demo里的y很鸡肋啊。除了展示可以有backword的操作，但这个操作到底有什么效果？backward就是算gradients，假设是x是最开始的variable, y是x经过一系列变形后的结果，y.backward()算出的是dy/dx当x等于现在值时的值。\n",
        "# 如果有y1，y2，y3等等好几个x的函数，然后再进行好几次backward：y1.backward()，y2.backward(),y3.backward(),其实最后算出的就是|dy1/dx,dy2/dx,dy3/dx|当x等于目前给他赋予的数字时的值\n",
        "def f(x):\n",
        "    return (x-2)**3\n",
        "\n",
        "x = torch.tensor([1.0], requires_grad=True)\n",
        "y = (x-2)**3\n",
        "yy = (x-2)**4\n",
        "yyy = (x-2)**5\n",
        "\n",
        "print('PyTorch\\'s f\\'(x):', x.grad)\n",
        "yyy.backward()\n",
        "yy.backward()\n",
        "y.backward()\n",
        "\n",
        "print('PyTorch\\'s f\\'(x):', x.grad)"
      ],
      "execution_count": null,
      "outputs": [
        {
          "output_type": "stream",
          "text": [
            "PyTorch's f'(x): None\n",
            "PyTorch's f'(x): tensor([4.])\n"
          ],
          "name": "stdout"
        }
      ]
    },
    {
      "cell_type": "markdown",
      "metadata": {
        "id": "yvJR6H7KMThX"
      },
      "source": [
        "It can also find gradients of functions.\n",
        "\n",
        "Let $w = [w_1, w_2]^T$\n",
        "\n",
        "Consider $g(w) = 2w_1w_2 + w_2\\cos(w_1)$\n",
        "\n",
        "Q: Compute $\\nabla_w g(w)$ and verify $\\nabla_w g([\\pi,1]) = [2, \\pi - 1]^T$"
      ]
    },
    {
      "cell_type": "code",
      "metadata": {
        "id": "-WCp53C1MThY",
        "colab": {
          "base_uri": "https://localhost:8080/",
          "height": 52
        },
        "outputId": "2d448c41-cb28-46c1-e072-5095a1dd82aa"
      },
      "source": [
        "def g(w):\n",
        "    return 2*w[0]*w[1] + w[1]*torch.cos(w[0])\n",
        "\n",
        "def grad_g(w):\n",
        "    return torch.tensor([2*w[1] - w[1]*torch.sin(w[0]), 2*w[0] + torch.cos(w[0])])\n",
        "\n",
        "w = torch.tensor([np.pi, 1], requires_grad=True)\n",
        "\n",
        "z = g(w)\n",
        "z.backward()\n",
        "\n",
        "print('Analytical grad g(w)', grad_g(w))\n",
        "print('PyTorch\\'s grad g(w)', w.grad)\n"
      ],
      "execution_count": null,
      "outputs": [
        {
          "output_type": "stream",
          "text": [
            "Analytical grad g(w) tensor([2.0000, 5.2832])\n",
            "PyTorch's grad g(w) tensor([2.0000, 5.2832])\n"
          ],
          "name": "stdout"
        }
      ]
    },
    {
      "cell_type": "markdown",
      "metadata": {
        "id": "zqyBFdobMTha"
      },
      "source": [
        "## Using the gradients\n",
        "Now that we have gradients, we can use our favorite optimization algorithm: gradient descent!\n",
        "\n",
        "Let $f$ the same function we defined above.\n",
        "\n",
        "Q: What is the value of $x$ that minimizes $f$?"
      ]
    },
    {
      "cell_type": "code",
      "metadata": {
        "id": "m4-8fhqAMThb",
        "colab": {
          "base_uri": "https://localhost:8080/",
          "height": 295
        },
        "outputId": "98f1d676-b28f-4269-8cd0-17a405d9a8f8"
      },
      "source": [
        "x = torch.tensor([5.0], requires_grad=True)\n",
        "step_size = 0.25\n",
        "\n",
        "print('iter,\\tx,\\tf(x),\\tf\\'(x),\\tf\\'(x) pytorch')\n",
        "for i in range(15):\n",
        "    y = f(x)\n",
        "    y.backward() # compute the gradient\n",
        "    \n",
        "    print('{},\\t{:.3f},\\t{:.3f},\\t{:.3f},\\t{:.3f}'.format(i, x.item(), f(x).item(), fp(x).item(), x.grad.item()))\n",
        "    \n",
        "    x.data = x.data - step_size * x.grad # perform a GD update step\n",
        "    \n",
        "    # We need to zero the grad variable since the backward()\n",
        "    # call accumulates the gradients in .grad instead of overwriting.\n",
        "    # The detach_() is for efficiency. You do not need to worry too much about it.\n",
        "    x.grad.detach_()\n",
        "    x.grad.zero_()"
      ],
      "execution_count": null,
      "outputs": [
        {
          "output_type": "stream",
          "text": [
            "iter,\tx,\tf(x),\tf'(x),\tf'(x) pytorch\n",
            "0,\t5.000,\t9.000,\t6.000,\t6.000\n",
            "1,\t3.500,\t2.250,\t3.000,\t3.000\n",
            "2,\t2.750,\t0.562,\t1.500,\t1.500\n",
            "3,\t2.375,\t0.141,\t0.750,\t0.750\n",
            "4,\t2.188,\t0.035,\t0.375,\t0.375\n",
            "5,\t2.094,\t0.009,\t0.188,\t0.188\n",
            "6,\t2.047,\t0.002,\t0.094,\t0.094\n",
            "7,\t2.023,\t0.001,\t0.047,\t0.047\n",
            "8,\t2.012,\t0.000,\t0.023,\t0.023\n",
            "9,\t2.006,\t0.000,\t0.012,\t0.012\n",
            "10,\t2.003,\t0.000,\t0.006,\t0.006\n",
            "11,\t2.001,\t0.000,\t0.003,\t0.003\n",
            "12,\t2.001,\t0.000,\t0.001,\t0.001\n",
            "13,\t2.000,\t0.000,\t0.001,\t0.001\n",
            "14,\t2.000,\t0.000,\t0.000,\t0.000\n"
          ],
          "name": "stdout"
        }
      ]
    },
    {
      "cell_type": "markdown",
      "metadata": {
        "id": "2TPWiwARMThd"
      },
      "source": [
        "# Linear Regression\n",
        "\n",
        "Now, instead of minimizing a made-up function, lets minimize a loss function on some made-up data.\n",
        "\n",
        "We will implement Gradient Descent in order to solve the task of linear regression."
      ]
    },
    {
      "cell_type": "code",
      "metadata": {
        "id": "3el-4esEMThe",
        "colab": {
          "base_uri": "https://localhost:8080/",
          "height": 69
        },
        "outputId": "40f1a3ea-24e9-4fd1-b93d-12882e6052c7"
      },
      "source": [
        "# make a simple linear dataset with some noise\n",
        "# @是什么？dot product？\n",
        "d = 2\n",
        "n = 50\n",
        "X = torch.randn(n,d)\n",
        "true_w = torch.tensor([[-1.0], [2.0]])\n",
        "y = X @ true_w + torch.randn(n,1) * 0.1\n",
        "print('X shape', X.shape)\n",
        "print('y shape', y.shape)\n",
        "print('w shape', true_w.shape)\n"
      ],
      "execution_count": null,
      "outputs": [
        {
          "output_type": "stream",
          "text": [
            "X shape torch.Size([50, 2])\n",
            "y shape torch.Size([50, 1])\n",
            "w shape torch.Size([2, 1])\n"
          ],
          "name": "stdout"
        }
      ]
    },
    {
      "cell_type": "markdown",
      "metadata": {
        "id": "jlzoXa6UMThg"
      },
      "source": [
        "### Note: dimensions\n",
        "PyTorch does a lot of operations on batches of data. The convention is to have your data be of size $(N, d)$ where $N$ is the size of the batch of data."
      ]
    },
    {
      "cell_type": "markdown",
      "metadata": {
        "id": "l08nQdE9MThp"
      },
      "source": [
        "### Sanity check\n",
        "To verify PyTorch is computing the gradients correctly, let's recall the gradient for the RSS objective:\n",
        "\n",
        "$$\\nabla_w \\mathcal{L}_{RSS}(w; X) = \\nabla_w\\frac{1}{n} ||y - Xw||_2^2 = -\\frac{2}{n}X^T(y-Xw)$$"
      ]
    },
    {
      "cell_type": "code",
      "metadata": {
        "id": "R5HfA5YcMThp",
        "colab": {
          "base_uri": "https://localhost:8080/",
          "height": 52
        },
        "outputId": "cad02754-6dde-4c34-c4dc-b273bcf2e614"
      },
      "source": [
        "# define a linear model with no bias\n",
        "def model(X, w):\n",
        "    return X @ w\n",
        "\n",
        "# the residual sum of squares loss function\n",
        "def rss(y, y_hat):\n",
        "    return torch.norm(y - y_hat)**2 / n\n",
        "\n",
        "# analytical expression for the gradient\n",
        "def grad_rss(X, y, w):\n",
        "    return -2*X.t() @ (y - X @ w) / n\n",
        "\n",
        "w = torch.tensor([[1.], [0]], requires_grad=True)\n",
        "y_hat = model(X, w)\n",
        "\n",
        "loss = rss(y, y_hat)\n",
        "loss.backward()\n",
        "\n",
        "print('Analytical gradient', grad_rss(X, y, w).detach().view(2).numpy())\n",
        "print('PyTorch\\'s gradient', w.grad.view(2).numpy())\n"
      ],
      "execution_count": null,
      "outputs": [
        {
          "output_type": "stream",
          "text": [
            "Analytical gradient [ 4.342543  -3.5023162]\n",
            "PyTorch's gradient [ 4.342543 -3.502316]\n"
          ],
          "name": "stdout"
        }
      ]
    },
    {
      "cell_type": "markdown",
      "metadata": {
        "id": "Tmg4eFQAMThr"
      },
      "source": [
        "Now that we've seen PyTorch is doing the right think, let's use the gradients!\n",
        "\n",
        "## Linear regression using GD with automatically computed derivatives\n",
        "\n",
        "We will now use the gradients to run the gradient descent algorithm.\n",
        "\n",
        "Note: This example is an illustration to connect ideas we have seen before to PyTorch's way of doing things. We will see how to do this in the \"PyTorchic\" way in the next example."
      ]
    },
    {
      "cell_type": "code",
      "metadata": {
        "id": "gea4LETnMThs",
        "colab": {
          "base_uri": "https://localhost:8080/",
          "height": 433
        },
        "outputId": "e9701f26-7f06-4bc2-80c2-1cb2b68ea666"
      },
      "source": [
        "step_size = 0.1\n",
        "\n",
        "print('iter,\\tloss,\\tw')\n",
        "for i in range(20):\n",
        "    y_hat = model(X, w)\n",
        "    loss = rss(y, y_hat)\n",
        "    \n",
        "    loss.backward() # compute the gradient of the loss\n",
        "    \n",
        "    w.data = w.data - step_size * w.grad # do a gradient descent step\n",
        "    \n",
        "    print('{},\\t{:.2f},\\t{}'.format(i, loss.item(), w.view(2).detach().numpy()))\n",
        "    \n",
        "    # We need to zero the grad variable since the backward()\n",
        "    # call accumulates the gradients in .grad instead of overwriting.\n",
        "    # The detach_() is for efficiency. You do not need to worry too much about it.\n",
        "    w.grad.detach()\n",
        "    w.grad.zero_()\n",
        "\n",
        "print('\\ntrue w\\t\\t', true_w.view(2).numpy())\n",
        "print('estimated w\\t', w.view(2).detach().numpy())"
      ],
      "execution_count": null,
      "outputs": [
        {
          "output_type": "stream",
          "text": [
            "iter,\tloss,\tw\n",
            "0,\t7.82,\t[0.13149136 0.70046324]\n",
            "1,\t2.84,\t[-0.11822014  0.9229876 ]\n",
            "2,\t1.84,\t[-0.31444427  1.1054724 ]\n",
            "3,\t1.19,\t[-0.4684834  1.2552956]\n",
            "4,\t0.77,\t[-0.58927345  1.3784461 ]\n",
            "5,\t0.50,\t[-0.68387645  1.4797904 ]\n",
            "6,\t0.33,\t[-0.75787055  1.563287  ]\n",
            "7,\t0.22,\t[-0.8156596  1.632159 ]\n",
            "8,\t0.15,\t[-0.86071837  1.6890337 ]\n",
            "9,\t0.10,\t[-0.89578694  1.736055  ]\n",
            "10,\t0.07,\t[-0.9230244  1.7749742]\n",
            "11,\t0.05,\t[-0.94413096  1.8072236 ]\n",
            "12,\t0.03,\t[-0.9604442  1.8339758]\n",
            "13,\t0.02,\t[-0.9730157  1.8561921]\n",
            "14,\t0.02,\t[-0.9826713  1.8746614]\n",
            "15,\t0.01,\t[-0.99005884  1.8900318 ]\n",
            "16,\t0.01,\t[-0.99568594  1.9028363 ]\n",
            "17,\t0.01,\t[-0.99994993  1.913514  ]\n",
            "18,\t0.01,\t[-1.0031612  1.9224268]\n",
            "19,\t0.01,\t[-1.0055621  1.9298735]\n",
            "\n",
            "true w\t\t [-1.  2.]\n",
            "estimated w\t [-1.0055621  1.9298735]\n"
          ],
          "name": "stdout"
        }
      ]
    },
    {
      "cell_type": "markdown",
      "metadata": {
        "id": "AexdjJtcMThu"
      },
      "source": [
        "## torch.nn.Module\n",
        "\n",
        "`Module` is PyTorch's way of performing operations on tensors. Modules are implemented as subclasses of the `torch.nn.Module` class. All modules are callable and can be composed together to create complex functions.\n",
        "\n",
        "[`torch.nn` docs](https://pytorch.org/docs/stable/nn.html)\n",
        "\n",
        "Note: most of the functionality implemented for modules can be accessed in a functional form via `torch.nn.functional`, but these require you to create and manage the weight tensors yourself.\n",
        "\n",
        "[`torch.nn.functional` docs](https://pytorch.org/docs/stable/nn.html#torch-nn-functional)."
      ]
    },
    {
      "cell_type": "markdown",
      "metadata": {
        "id": "vuigjBAiMThv"
      },
      "source": [
        "### Linear Module\n",
        "The bread and butter of modules is the Linear module which does a linear transformation with a bias. It takes the input and output dimensions as parameters, and creates the weights in the object.\n",
        "\n",
        "Unlike how we initialized our $w$ manually, the Linear module automatically initializes the weights randomly. For minimizing non convex loss functions (e.g. training neural networks), initialization is important and can affect results. If training isn't working as well as expected, one thing to try is manually initializing the weights to something different from the default. PyTorch implements some common initializations in `torch.nn.init`.\n",
        "\n",
        "[`torch.nn.init` docs](https://pytorch.org/docs/stable/nn.html#torch-nn-init)"
      ]
    },
    {
      "cell_type": "code",
      "metadata": {
        "id": "Yi4lhPVCMThv",
        "colab": {
          "base_uri": "https://localhost:8080/"
        },
        "outputId": "97f087db-8139-45c7-dc61-20ab3d034885"
      },
      "source": [
        "# pytorch linear_module 把2x3 变成 2x5, 那weights岂不是需要乘以3x5,怎么是5X3? \n",
        "# 网上搜了一下，就应该是3x5,weights其实是transpose后的结果\n",
        "d_in = 3\n",
        "d_out = 5\n",
        "linear_module = nn.Linear(d_in, d_out)\n",
        "\n",
        "example_tensor = torch.tensor([[1.,2,3], [4,5,6]])\n",
        "# applys a linear transformation to the data\n",
        "transformed = linear_module(example_tensor)\n",
        "print('example_tensor', example_tensor)\n",
        "print('transormed', transformed)\n",
        "print()\n",
        "print('We can see that the weights exist in the background\\n')\n",
        "print('W:')\n",
        "params = linear_module.parameters()\n",
        "for param in params:\n",
        "    print(param)\n",
        "print('b:', linear_module.bias)\n"
      ],
      "execution_count": null,
      "outputs": [
        {
          "output_type": "stream",
          "text": [
            "example_tensor tensor([[1., 2., 3.],\n",
            "        [4., 5., 6.]])\n",
            "transormed tensor([[-0.7032, -0.8563, -1.0732,  0.7261,  2.2426],\n",
            "        [-1.9358, -1.0281, -2.6585,  0.8080,  4.9279]],\n",
            "       grad_fn=<AddmmBackward>)\n",
            "\n",
            "We can see that the weights exist in the background\n",
            "\n",
            "W:\n",
            "Parameter containing:\n",
            "tensor([[ 0.2880, -0.5320, -0.1669],\n",
            "        [ 0.5167, -0.0162, -0.5578],\n",
            "        [-0.0987, -0.5202,  0.0905],\n",
            "        [-0.0967, -0.4257,  0.5497],\n",
            "        [ 0.3375,  0.1064,  0.4512]], requires_grad=True)\n",
            "Parameter containing:\n",
            "tensor([ 0.5734,  0.3327, -0.2054,  0.0251,  0.3387], requires_grad=True)\n",
            "b: Parameter containing:\n",
            "tensor([ 0.5734,  0.3327, -0.2054,  0.0251,  0.3387], requires_grad=True)\n"
          ],
          "name": "stdout"
        }
      ]
    },
    {
      "cell_type": "markdown",
      "metadata": {
        "id": "YLNmKz9BMThx"
      },
      "source": [
        "### Activation functions\n",
        "PyTorch implements a number of activation functions including but not limited to `ReLU`, `Tanh`, and `Sigmoid`. Since they are modules, they need to be instantiated."
      ]
    },
    {
      "cell_type": "code",
      "metadata": {
        "id": "toOsF9qXMThy",
        "colab": {
          "base_uri": "https://localhost:8080/"
        },
        "outputId": "2d8345bf-b42b-48d6-a5bd-8adab011b0b2"
      },
      "source": [
        "activation_fn = nn.ReLU() # we instantiate an instance of the ReLU module\n",
        "example_tensor = torch.tensor([-1.0, 1.0, 0.0])\n",
        "activated = activation_fn(example_tensor)\n",
        "print('example_tensor', example_tensor)\n",
        "print('activated', activated)\n",
        "print('weight:')\n",
        "for i in activation_fn.parameters():\n",
        "  print(i)"
      ],
      "execution_count": null,
      "outputs": [
        {
          "output_type": "stream",
          "text": [
            "example_tensor tensor([-1.,  1.,  0.])\n",
            "activated tensor([0., 1., 0.])\n",
            "weight:\n"
          ],
          "name": "stdout"
        }
      ]
    },
    {
      "cell_type": "markdown",
      "metadata": {
        "id": "tPdu_KS_MTh0"
      },
      "source": [
        "### Sequential\n",
        "\n",
        "Many times, we want to compose Modules together. `torch.nn.Sequential` provides a good interface for composing simple modules."
      ]
    },
    {
      "cell_type": "code",
      "metadata": {
        "id": "yn-jaKd3MTh1",
        "colab": {
          "base_uri": "https://localhost:8080/",
          "height": 35
        },
        "outputId": "1dd86d16-7560-4882-c7bf-c8b3f1e63fbd"
      },
      "source": [
        "d_in = 3\n",
        "d_hidden = 4\n",
        "d_out = 1\n",
        "model = torch.nn.Sequential(\n",
        "                            nn.Linear(d_in, d_hidden),\n",
        "                            nn.Tanh(),\n",
        "                            nn.Linear(d_hidden, d_out),\n",
        "                            nn.Sigmoid()\n",
        "                           )\n",
        "\n",
        "example_tensor = torch.tensor([[1.,2,3],[4,5,6]])\n",
        "transformed = model(example_tensor)\n",
        "print('transformed', transformed.shape)"
      ],
      "execution_count": null,
      "outputs": [
        {
          "output_type": "stream",
          "text": [
            "transformed torch.Size([2, 1])\n"
          ],
          "name": "stdout"
        }
      ]
    },
    {
      "cell_type": "markdown",
      "metadata": {
        "id": "D5GkJ1UTMTh2"
      },
      "source": [
        "Note: we can access *all* of the parameters (of any `nn.Module`) with the `parameters()` method. "
      ]
    },
    {
      "cell_type": "code",
      "metadata": {
        "id": "zTTsMkxoMTh3",
        "colab": {
          "base_uri": "https://localhost:8080/",
          "height": 208
        },
        "outputId": "6b52d368-18a1-4486-8735-00d82482dc2b"
      },
      "source": [
        "# 怎么tanh和sigmoid还有weights？\n",
        "# 用来这四组不都是weights，不是给每一个部分都有weights，只有其中的两个linear transformation有。显示的四组tensors分别是两个linear transformation的weights和bias，两组weights，两组bias\n",
        "params = model.parameters()\n",
        "\n",
        "for param in params:\n",
        "    print(param)"
      ],
      "execution_count": null,
      "outputs": [
        {
          "output_type": "stream",
          "text": [
            "Parameter containing:\n",
            "tensor([[-0.5607,  0.4221, -0.0254],\n",
            "        [-0.3630,  0.4541,  0.0275],\n",
            "        [-0.0703, -0.1463,  0.3065],\n",
            "        [ 0.0065, -0.2664,  0.0267]], requires_grad=True)\n",
            "Parameter containing:\n",
            "tensor([-0.3196,  0.2911,  0.1999, -0.3758], requires_grad=True)\n",
            "Parameter containing:\n",
            "tensor([[-0.0289,  0.1544,  0.3992, -0.3301]], requires_grad=True)\n",
            "Parameter containing:\n",
            "tensor([-0.1438], requires_grad=True)\n"
          ],
          "name": "stdout"
        }
      ]
    },
    {
      "cell_type": "code",
      "metadata": {
        "id": "4Y5HJVuuz6ey",
        "colab": {
          "base_uri": "https://localhost:8080/"
        },
        "outputId": "0ddb4d5a-d2c3-4037-a057-f41eb95cca0b"
      },
      "source": [
        "d_in = 3\n",
        "d_hidden = 4\n",
        "d_out = 1\n",
        "l1 = nn.Linear(d_in, d_hidden)\n",
        "model = torch.nn.Sequential(\n",
        "                            l1,\n",
        "                            nn.Tanh(),\n",
        "                            nn.Linear(d_hidden, d_out),\n",
        "                            nn.Sigmoid()\n",
        "                           )\n",
        "transformed = model(example_tensor)\n",
        "params = model.parameters()\n",
        "\n",
        "for param in params:\n",
        "    print(param)\n",
        "\n",
        "\n",
        "print(\"l1 bias\",l1.bias)"
      ],
      "execution_count": null,
      "outputs": [
        {
          "output_type": "stream",
          "text": [
            "Parameter containing:\n",
            "tensor([[-0.1181,  0.5671,  0.3901],\n",
            "        [-0.0432,  0.2027,  0.3270],\n",
            "        [ 0.2183,  0.2269, -0.5094],\n",
            "        [-0.4306,  0.2483, -0.0776]], requires_grad=True)\n",
            "Parameter containing:\n",
            "tensor([-0.5372,  0.0966, -0.1610,  0.2270], requires_grad=True)\n",
            "Parameter containing:\n",
            "tensor([[-0.0054,  0.1198, -0.1696, -0.2241]], requires_grad=True)\n",
            "Parameter containing:\n",
            "tensor([0.0306], requires_grad=True)\n",
            "l1 bias Parameter containing:\n",
            "tensor([-0.5372,  0.0966, -0.1610,  0.2270], requires_grad=True)\n"
          ],
          "name": "stdout"
        }
      ]
    },
    {
      "cell_type": "markdown",
      "metadata": {
        "id": "jifMOIcNMTh5"
      },
      "source": [
        "### Loss functions\n",
        "PyTorch implements many common loss functions including `MSELoss` and `CrossEntropyLoss`."
      ]
    },
    {
      "cell_type": "code",
      "metadata": {
        "id": "b8NXNEhlMTh6",
        "colab": {
          "base_uri": "https://localhost:8080/",
          "height": 35
        },
        "outputId": "24e9a149-87e7-48a4-f96f-1ee6a14f0f86"
      },
      "source": [
        "mse_loss_fn = nn.MSELoss()\n",
        "\n",
        "input = torch.tensor([[0., 0, 0]])\n",
        "target = torch.tensor([[1., 0, -1]])\n",
        "\n",
        "loss = mse_loss_fn(input, target)\n",
        "\n",
        "print(loss)"
      ],
      "execution_count": null,
      "outputs": [
        {
          "output_type": "stream",
          "text": [
            "tensor(0.6667)\n"
          ],
          "name": "stdout"
        }
      ]
    },
    {
      "cell_type": "markdown",
      "metadata": {
        "id": "Hh0YZh1QMTh7"
      },
      "source": [
        "## torch.optim\n",
        "PyTorch implements a number of gradient-based optimization methods in `torch.optim`, including Gradient Descent. At the minimum, it takes in the model parameters and a learning rate.\n",
        "\n",
        "Optimizers do not compute the gradients for you, so you must call `backward()` yourself. You also must call the `optim.zero_grad()` function before calling `backward()` since by default PyTorch does and inplace add to the `.grad` member variable rather than overwriting it.\n",
        "\n",
        "This does both the `detach_()` and `zero_()` calls on all tensor's `grad` variables.\n",
        "\n",
        "[`torch.optim` docs](https://pytorch.org/docs/stable/optim.html)"
      ]
    },
    {
      "cell_type": "code",
      "metadata": {
        "id": "CldNJzMHMTh8",
        "colab": {
          "base_uri": "https://localhost:8080/",
          "height": 87
        },
        "outputId": "c62667a6-2b2a-4191-85d2-84e3ba51f1be"
      },
      "source": [
        "# create a simple model\n",
        "model = nn.Linear(1, 1)\n",
        "\n",
        "# create a simple dataset\n",
        "X_simple = torch.tensor([[1.]])\n",
        "y_simple = torch.tensor([[2.]])\n",
        "\n",
        "# create our optimizer\n",
        "optim = torch.optim.SGD(model.parameters(), lr=1e-2)\n",
        "mse_loss_fn = nn.MSELoss()\n",
        "\n",
        "y_hat = model(X_simple)\n",
        "print('model params before:', model.weight)\n",
        "loss = mse_loss_fn(y_hat, y_simple)\n",
        "optim.zero_grad()\n",
        "loss.backward()\n",
        "optim.step()\n",
        "print('model params after:', model.weight)\n"
      ],
      "execution_count": null,
      "outputs": [
        {
          "output_type": "stream",
          "text": [
            "model params before: Parameter containing:\n",
            "tensor([[-0.9604]], requires_grad=True)\n",
            "model params after: Parameter containing:\n",
            "tensor([[-0.9060]], requires_grad=True)\n"
          ],
          "name": "stdout"
        }
      ]
    },
    {
      "cell_type": "markdown",
      "metadata": {
        "id": "dxv9VHTOMTh-"
      },
      "source": [
        "As we can see, the parameter was updated in the correct direction"
      ]
    },
    {
      "cell_type": "markdown",
      "metadata": {
        "id": "VjiD9FATMTh_"
      },
      "source": [
        "## Linear regression using GD with automatically computed derivatives and PyTorch's Modules\n",
        "\n",
        "Now let's combine what we've learned to solve linear regression in a \"PyTorchic\" way."
      ]
    },
    {
      "cell_type": "code",
      "metadata": {
        "id": "RGz8gPweMTh_",
        "colab": {
          "base_uri": "https://localhost:8080/",
          "height": 433
        },
        "outputId": "e3401d7e-9f8a-4e42-96e5-dfb00c32ccf6"
      },
      "source": [
        "step_size = 0.1\n",
        "\n",
        "linear_module = nn.Linear(d, 1, bias=False)\n",
        "\n",
        "loss_func = nn.MSELoss()\n",
        "\n",
        "optim = torch.optim.SGD(linear_module.parameters(), lr=step_size)\n",
        "\n",
        "print('iter,\\tloss,\\tw')\n",
        "\n",
        "for i in range(20):\n",
        "    y_hat = linear_module(X)\n",
        "    loss = loss_func(y_hat, y)\n",
        "    optim.zero_grad()\n",
        "    loss.backward()\n",
        "    optim.step()\n",
        "    \n",
        "    print('{},\\t{:.2f},\\t{}'.format(i, loss.item(), linear_module.weight.view(2).detach().numpy()))\n",
        "\n",
        "print('\\ntrue w\\t\\t', true_w.view(2).numpy())\n",
        "print('estimated w\\t', linear_module.weight.view(2).detach().numpy())"
      ],
      "execution_count": null,
      "outputs": [
        {
          "output_type": "stream",
          "text": [
            "iter,\tloss,\tw\n",
            "0,\t6.14,\t[-0.4951109  -0.20055914]\n",
            "1,\t4.19,\t[-0.64017504  0.1509075 ]\n",
            "2,\t2.87,\t[-0.7496651  0.4441856]\n",
            "3,\t1.98,\t[-0.8317375  0.689143 ]\n",
            "4,\t1.37,\t[-0.8927491   0.89393103]\n",
            "5,\t0.95,\t[-0.93764454  1.0652909 ]\n",
            "6,\t0.67,\t[-0.9702622  1.208804 ]\n",
            "7,\t0.47,\t[-0.99357456  1.3290964 ]\n",
            "8,\t0.33,\t[-1.0098771  1.4300069]\n",
            "9,\t0.23,\t[-1.0209374  1.5147243]\n",
            "10,\t0.17,\t[-1.028112   1.5859002]\n",
            "11,\t0.12,\t[-1.0324373  1.6457422]\n",
            "12,\t0.09,\t[-1.0347017  1.6960896]\n",
            "13,\t0.06,\t[-1.035502   1.7384766]\n",
            "14,\t0.05,\t[-1.0352864  1.7741843]\n",
            "15,\t0.04,\t[-1.0343897  1.8042834]\n",
            "16,\t0.03,\t[-1.033059  1.829669]\n",
            "17,\t0.02,\t[-1.031475   1.8510911]\n",
            "18,\t0.02,\t[-1.0297676  1.8691778]\n",
            "19,\t0.01,\t[-1.0280287  1.8844559]\n",
            "\n",
            "true w\t\t [-1.  2.]\n",
            "estimated w\t [-1.0280287  1.8844559]\n"
          ],
          "name": "stdout"
        }
      ]
    },
    {
      "cell_type": "markdown",
      "metadata": {
        "id": "3j9hUvjQMTiD"
      },
      "source": [
        "## Linear regression using SGD \n",
        "In the previous examples, we computed the average gradient over the entire dataset (Gradient Descent). We can implement Stochastic Gradient Descent with a simple modification."
      ]
    },
    {
      "cell_type": "code",
      "metadata": {
        "id": "q3EUcFMbMTiE",
        "colab": {
          "base_uri": "https://localhost:8080/",
          "height": 260
        },
        "outputId": "34a3f055-cefa-4bc2-b6fb-13b3117b620c"
      },
      "source": [
        "# gradient descent 和 stochastic gradient descent 就是算gradient时loss一个是用所有x算的，另一个只用了一个x\n",
        "step_size = 0.01\n",
        "\n",
        "linear_module = nn.Linear(d, 1)\n",
        "loss_func = nn.MSELoss()\n",
        "optim = torch.optim.SGD(linear_module.parameters(), lr=step_size)\n",
        "print('iter,\\tloss,\\tw')\n",
        "for i in range(200):\n",
        "    rand_idx = np.random.choice(n) # take a random point from the dataset\n",
        "    x = X[rand_idx] \n",
        "    y_hat = linear_module(x)\n",
        "    loss = loss_func(y_hat, y[rand_idx]) # only compute the loss on the single point\n",
        "    optim.zero_grad()\n",
        "    loss.backward()\n",
        "    optim.step()\n",
        "    \n",
        "    if i % 20 == 0:\n",
        "        print('{},\\t{:.2f},\\t{}'.format(i, loss.item(), linear_module.weight.view(2).detach().numpy()))\n",
        "\n",
        "print('\\ntrue w\\t\\t', true_w.view(2).numpy())\n",
        "print('estimated w\\t', linear_module.weight.view(2).detach().numpy())"
      ],
      "execution_count": null,
      "outputs": [
        {
          "output_type": "stream",
          "text": [
            "iter,\tloss,\tw\n",
            "0,\t5.33,\t[-0.52818084  0.2690754 ]\n",
            "20,\t1.33,\t[-0.5849738   0.54701847]\n",
            "40,\t0.21,\t[-0.68336743  0.93094164]\n",
            "60,\t0.41,\t[-0.76554966  1.3865377 ]\n",
            "80,\t0.22,\t[-0.8548197  1.528812 ]\n",
            "100,\t0.45,\t[-0.9011376  1.679943 ]\n",
            "120,\t0.04,\t[-0.9418524  1.7858417]\n",
            "140,\t0.00,\t[-0.97288156  1.857902  ]\n",
            "160,\t0.00,\t[-0.98335326  1.893024  ]\n",
            "180,\t0.01,\t[-0.9927237  1.904962 ]\n",
            "\n",
            "true w\t\t [-1.  2.]\n",
            "estimated w\t [-0.99158174  1.9331173 ]\n"
          ],
          "name": "stdout"
        }
      ]
    },
    {
      "cell_type": "markdown",
      "metadata": {
        "id": "6Re8u8STMTiI"
      },
      "source": [
        "# Neural Network Basics in PyTorch\n",
        "We will try and fit a simple neural network to the data."
      ]
    },
    {
      "cell_type": "code",
      "metadata": {
        "id": "401On5ckMTiJ",
        "colab": {
          "base_uri": "https://localhost:8080/",
          "height": 1000
        },
        "outputId": "b9929b87-bee5-40aa-a3ee-60632fabf110"
      },
      "source": [
        "%matplotlib inline\n",
        "\n",
        "d = 1\n",
        "n = 200\n",
        "X = torch.rand(n,d)\n",
        "y = 4 * torch.sin(np.pi * X) * torch.cos(6*np.pi*X**2)\n",
        "print(X)\n",
        "print(y)\n",
        "plt.scatter(X.numpy(), y.numpy())\n",
        "plt.title('plot of $f(x)$')\n",
        "plt.xlabel('$x$')\n",
        "plt.ylabel('$y$')\n",
        "\n",
        "plt.show()"
      ],
      "execution_count": 3,
      "outputs": [
        {
          "output_type": "stream",
          "text": [
            "tensor([[0.2010],\n",
            "        [0.5419],\n",
            "        [0.0024],\n",
            "        [0.3200],\n",
            "        [0.1604],\n",
            "        [0.6338],\n",
            "        [0.5056],\n",
            "        [0.5847],\n",
            "        [0.8565],\n",
            "        [0.0176],\n",
            "        [0.4135],\n",
            "        [0.1011],\n",
            "        [0.5402],\n",
            "        [0.3133],\n",
            "        [0.7141],\n",
            "        [0.1675],\n",
            "        [0.5838],\n",
            "        [0.6331],\n",
            "        [0.2302],\n",
            "        [0.0330],\n",
            "        [0.2040],\n",
            "        [0.0416],\n",
            "        [0.2260],\n",
            "        [0.2483],\n",
            "        [0.9169],\n",
            "        [0.8225],\n",
            "        [0.4267],\n",
            "        [0.8418],\n",
            "        [0.4762],\n",
            "        [0.6946],\n",
            "        [0.1608],\n",
            "        [0.9399],\n",
            "        [0.1452],\n",
            "        [0.3706],\n",
            "        [0.3608],\n",
            "        [0.0253],\n",
            "        [0.1087],\n",
            "        [0.6947],\n",
            "        [0.9682],\n",
            "        [0.7935],\n",
            "        [0.6013],\n",
            "        [0.2559],\n",
            "        [0.9169],\n",
            "        [0.3298],\n",
            "        [0.3513],\n",
            "        [0.3303],\n",
            "        [0.2823],\n",
            "        [0.1627],\n",
            "        [0.2472],\n",
            "        [0.4383],\n",
            "        [0.9006],\n",
            "        [0.6461],\n",
            "        [0.5617],\n",
            "        [0.1450],\n",
            "        [0.4811],\n",
            "        [0.2799],\n",
            "        [0.6104],\n",
            "        [0.4229],\n",
            "        [0.0238],\n",
            "        [0.3950],\n",
            "        [0.3410],\n",
            "        [0.9077],\n",
            "        [0.1675],\n",
            "        [0.0588],\n",
            "        [0.6713],\n",
            "        [0.8758],\n",
            "        [0.3267],\n",
            "        [0.1689],\n",
            "        [0.1733],\n",
            "        [0.2573],\n",
            "        [0.6466],\n",
            "        [0.8861],\n",
            "        [0.8167],\n",
            "        [0.1816],\n",
            "        [0.1098],\n",
            "        [0.9730],\n",
            "        [0.6588],\n",
            "        [0.4947],\n",
            "        [0.1547],\n",
            "        [0.3688],\n",
            "        [0.9194],\n",
            "        [0.4075],\n",
            "        [0.1428],\n",
            "        [0.6983],\n",
            "        [0.1379],\n",
            "        [0.7733],\n",
            "        [0.0778],\n",
            "        [0.4971],\n",
            "        [0.6632],\n",
            "        [0.1232],\n",
            "        [0.5469],\n",
            "        [0.8115],\n",
            "        [0.4634],\n",
            "        [0.1223],\n",
            "        [0.1832],\n",
            "        [0.3011],\n",
            "        [0.3696],\n",
            "        [0.0679],\n",
            "        [0.1072],\n",
            "        [0.9881],\n",
            "        [0.9051],\n",
            "        [0.2801],\n",
            "        [0.4557],\n",
            "        [0.9989],\n",
            "        [0.1402],\n",
            "        [0.8137],\n",
            "        [0.0967],\n",
            "        [0.4736],\n",
            "        [0.5631],\n",
            "        [0.4148],\n",
            "        [0.8420],\n",
            "        [0.2187],\n",
            "        [0.5048],\n",
            "        [0.1609],\n",
            "        [0.6916],\n",
            "        [0.4334],\n",
            "        [0.4283],\n",
            "        [0.4502],\n",
            "        [0.6819],\n",
            "        [0.1385],\n",
            "        [0.8980],\n",
            "        [0.7635],\n",
            "        [0.2332],\n",
            "        [0.3833],\n",
            "        [0.4890],\n",
            "        [0.0019],\n",
            "        [0.5284],\n",
            "        [0.8105],\n",
            "        [0.9890],\n",
            "        [0.5760],\n",
            "        [0.5665],\n",
            "        [0.5503],\n",
            "        [0.2564],\n",
            "        [0.0196],\n",
            "        [0.2203],\n",
            "        [0.1602],\n",
            "        [0.1025],\n",
            "        [0.6358],\n",
            "        [0.3922],\n",
            "        [0.8682],\n",
            "        [0.2584],\n",
            "        [0.7494],\n",
            "        [0.0393],\n",
            "        [0.3555],\n",
            "        [0.9475],\n",
            "        [0.4860],\n",
            "        [0.0169],\n",
            "        [0.4146],\n",
            "        [0.0495],\n",
            "        [0.5783],\n",
            "        [0.4163],\n",
            "        [0.1314],\n",
            "        [0.9760],\n",
            "        [0.7923],\n",
            "        [0.5921],\n",
            "        [0.8908],\n",
            "        [0.9965],\n",
            "        [0.7881],\n",
            "        [0.3221],\n",
            "        [0.5217],\n",
            "        [0.7933],\n",
            "        [0.8591],\n",
            "        [0.7843],\n",
            "        [0.5572],\n",
            "        [0.2246],\n",
            "        [0.9024],\n",
            "        [0.8722],\n",
            "        [0.9181],\n",
            "        [0.3633],\n",
            "        [0.5701],\n",
            "        [0.2749],\n",
            "        [0.9531],\n",
            "        [0.0779],\n",
            "        [0.6554],\n",
            "        [0.5617],\n",
            "        [0.3336],\n",
            "        [0.8160],\n",
            "        [0.3978],\n",
            "        [0.9911],\n",
            "        [0.8379],\n",
            "        [0.4626],\n",
            "        [0.6756],\n",
            "        [0.7832],\n",
            "        [0.6891],\n",
            "        [0.6965],\n",
            "        [0.0589],\n",
            "        [0.1271],\n",
            "        [0.7150],\n",
            "        [0.4328],\n",
            "        [0.0348],\n",
            "        [0.5836],\n",
            "        [0.3606],\n",
            "        [0.6966],\n",
            "        [0.4946],\n",
            "        [0.6198],\n",
            "        [0.3304],\n",
            "        [0.2759],\n",
            "        [0.5306],\n",
            "        [0.9744],\n",
            "        [0.0034]])\n",
            "tensor([[ 1.7092],\n",
            "        [ 2.9049],\n",
            "        [ 0.0305],\n",
            "        [-1.1887],\n",
            "        [ 1.7087],\n",
            "        [ 1.0188],\n",
            "        [ 0.4269],\n",
            "        [ 3.8087],\n",
            "        [ 0.5311],\n",
            "        [ 0.2210],\n",
            "        [-3.8405],\n",
            "        [ 1.2260],\n",
            "        [ 2.8162],\n",
            "        [-0.9184],\n",
            "        [-3.0736],\n",
            "        [ 1.7347],\n",
            "        [ 3.8235],\n",
            "        [ 1.0790],\n",
            "        [ 1.4328],\n",
            "        [ 0.4135],\n",
            "        [ 1.6929],\n",
            "        [ 0.5212],\n",
            "        [ 1.4895],\n",
            "        [ 1.1180],\n",
            "        [-1.0221],\n",
            "        [ 2.0795],\n",
            "        [-3.7318],\n",
            "        [ 1.3388],\n",
            "        [-1.6909],\n",
            "        [-3.0989],\n",
            "        [ 1.7105],\n",
            "        [-0.4392],\n",
            "        [ 1.6247],\n",
            "        [-3.1265],\n",
            "        [-2.7995],\n",
            "        [ 0.3179],\n",
            "        [ 1.3060],\n",
            "        [-3.0997],\n",
            "        [ 0.1524],\n",
            "        [ 1.8517],\n",
            "        [ 3.2751],\n",
            "        [ 0.9505],\n",
            "        [-1.0220],\n",
            "        [-1.5893],\n",
            "        [-2.4492],\n",
            "        [-1.6078],\n",
            "        [ 0.2112],\n",
            "        [ 1.7181],\n",
            "        [ 1.1412],\n",
            "        [-3.4835],\n",
            "        [-1.1221],\n",
            "        [-0.0527],\n",
            "        [ 3.7064],\n",
            "        [ 1.6235],\n",
            "        [-1.3689],\n",
            "        [ 0.2880],\n",
            "        [ 2.7767],\n",
            "        [-3.7814],\n",
            "        [ 0.2989],\n",
            "        [-3.7087],\n",
            "        [-2.0412],\n",
            "        [-1.1257],\n",
            "        [ 1.7347],\n",
            "        [ 0.7332],\n",
            "        [-2.0516],\n",
            "        [-0.4809],\n",
            "        [-1.4605],\n",
            "        [ 1.7387],\n",
            "        [ 1.7485],\n",
            "        [ 0.9189],\n",
            "        [-0.0996],\n",
            "        [-0.8628],\n",
            "        [ 2.1780],\n",
            "        [ 1.7561],\n",
            "        [ 1.3173],\n",
            "        [ 0.1821],\n",
            "        [-1.1295],\n",
            "        [-0.3960],\n",
            "        [ 1.6816],\n",
            "        [-3.0685],\n",
            "        [-0.9770],\n",
            "        [-3.8322],\n",
            "        [ 1.6081],\n",
            "        [-3.1602],\n",
            "        [ 1.5724],\n",
            "        [ 0.7144],\n",
            "        [ 0.9622],\n",
            "        [-0.2167],\n",
            "        [-1.4748],\n",
            "        [ 1.4485],\n",
            "        [ 3.1610],\n",
            "        [ 2.2065],\n",
            "        [-2.4485],\n",
            "        [ 1.4402],\n",
            "        [ 1.7558],\n",
            "        [-0.4473],\n",
            "        [-3.0955],\n",
            "        [ 0.8437],\n",
            "        [ 1.2911],\n",
            "        [ 0.1350],\n",
            "        [-1.1336],\n",
            "        [ 0.2843],\n",
            "        [-2.8355],\n",
            "        [ 0.0143],\n",
            "        [ 1.5896],\n",
            "        [ 2.2014],\n",
            "        [ 1.1784],\n",
            "        [-1.8564],\n",
            "        [ 3.7388],\n",
            "        [-3.8377],\n",
            "        [ 1.3327],\n",
            "        [ 1.5735],\n",
            "        [ 0.3605],\n",
            "        [ 1.7109],\n",
            "        [-3.0243],\n",
            "        [-3.6058],\n",
            "        [-3.7049],\n",
            "        [-3.0752],\n",
            "        [-2.6592],\n",
            "        [ 1.5772],\n",
            "        [-1.1012],\n",
            "        [-0.0177],\n",
            "        [ 1.3882],\n",
            "        [-3.4787],\n",
            "        [-0.8154],\n",
            "        [ 0.0235],\n",
            "        [ 2.0844],\n",
            "        [ 2.2052],\n",
            "        [ 0.1269],\n",
            "        [ 3.8849],\n",
            "        [ 3.8061],\n",
            "        [ 3.3171],\n",
            "        [ 0.9396],\n",
            "        [ 0.2459],\n",
            "        [ 1.5569],\n",
            "        [ 1.7079],\n",
            "        [ 1.2412],\n",
            "        [ 0.8411],\n",
            "        [-3.6633],\n",
            "        [-0.1168],\n",
            "        [ 0.8908],\n",
            "        [-1.1252],\n",
            "        [ 0.4920],\n",
            "        [-2.6065],\n",
            "        [-0.2290],\n",
            "        [-1.0273],\n",
            "        [ 0.2123],\n",
            "        [-3.8383],\n",
            "        [ 0.6184],\n",
            "        [ 3.8786],\n",
            "        [-3.8324],\n",
            "        [ 1.5201],\n",
            "        [ 0.1888],\n",
            "        [ 1.8034],\n",
            "        [ 3.6320],\n",
            "        [-0.9833],\n",
            "        [ 0.0431],\n",
            "        [ 1.6163],\n",
            "        [-1.2737],\n",
            "        [ 1.6204],\n",
            "        [ 1.8439],\n",
            "        [ 0.3841],\n",
            "        [ 1.4140],\n",
            "        [ 3.5744],\n",
            "        [ 1.5075],\n",
            "        [-1.1306],\n",
            "        [-0.3119],\n",
            "        [-1.0006],\n",
            "        [-2.8886],\n",
            "        [ 3.8558],\n",
            "        [ 0.4420],\n",
            "        [-0.0912],\n",
            "        [ 0.9632],\n",
            "        [-0.8522],\n",
            "        [ 3.7067],\n",
            "        [-1.7431],\n",
            "        [ 2.1857],\n",
            "        [-3.7473],\n",
            "        [ 0.1052],\n",
            "        [ 1.5337],\n",
            "        [-2.4924],\n",
            "        [-2.3197],\n",
            "        [ 1.3513],\n",
            "        [-2.9489],\n",
            "        [-3.1341],\n",
            "        [ 0.7342],\n",
            "        [ 1.4834],\n",
            "        [-3.0512],\n",
            "        [-3.6186],\n",
            "        [ 0.4359],\n",
            "        [ 3.8263],\n",
            "        [-2.7915],\n",
            "        [-3.1351],\n",
            "        [-0.4070],\n",
            "        [ 2.1381],\n",
            "        [-1.6105],\n",
            "        [ 0.4121],\n",
            "        [ 2.2284],\n",
            "        [ 0.1862],\n",
            "        [ 0.0427]])\n"
          ],
          "name": "stdout"
        },
        {
          "output_type": "display_data",
          "data": {
            "image/png": "[encoded data removed]",
            "text/plain": [
              "<Figure size 432x288 with 1 Axes>"
            ]
          },
          "metadata": {
            "tags": [],
            "needs_background": "light"
          }
        }
      ]
    },
    {
      "cell_type": "markdown",
      "metadata": {
        "id": "iQl2A_XDMTiL"
      },
      "source": [
        "Here we define a simple two hidden layer neural network with Tanh activations. There are a few hyper parameters to play with to get a feel for how they change the results."
      ]
    },
    {
      "cell_type": "code",
      "metadata": {
        "id": "C72y6DtpMTiM",
        "colab": {
          "base_uri": "https://localhost:8080/",
          "height": 208
        },
        "outputId": "e91ae971-a87f-430e-ab35-1918173b0b4f"
      },
      "source": [
        "# feel free to play with these parameters\n",
        "\n",
        "step_size = 0.05\n",
        "n_epochs = 6000\n",
        "n_hidden_1 = 32\n",
        "n_hidden_2 = 32\n",
        "d_out = 1\n",
        "\n",
        "neural_network = nn.Sequential(\n",
        "                            nn.Linear(d, n_hidden_1), \n",
        "                            nn.Tanh(),\n",
        "                            nn.Linear(n_hidden_1, n_hidden_2),\n",
        "                            nn.Tanh(),\n",
        "                            nn.Linear(n_hidden_2, d_out)\n",
        "                            )\n",
        "\n",
        "loss_func = nn.MSELoss()\n",
        "\n",
        "optim = torch.optim.SGD(neural_network.parameters(), lr=step_size)\n",
        "print('iter,\\tloss')\n",
        "for i in range(n_epochs):\n",
        "    y_hat = neural_network(X)\n",
        "    loss = loss_func(y_hat, y)\n",
        "    optim.zero_grad()\n",
        "    loss.backward()\n",
        "    optim.step()\n",
        "    \n",
        "    if i % (n_epochs // 10) == 0:\n",
        "        print('{},\\t{:.2f}'.format(i, loss.item()))\n",
        "\n"
      ],
      "execution_count": null,
      "outputs": [
        {
          "output_type": "stream",
          "text": [
            "iter,\tloss\n",
            "0,\t4.33\n",
            "600,\t4.27\n",
            "1200,\t3.87\n",
            "1800,\t1.54\n",
            "2400,\t0.71\n",
            "3000,\t0.78\n",
            "3600,\t0.24\n",
            "4200,\t0.10\n",
            "4800,\t0.08\n",
            "5400,\t0.08\n"
          ],
          "name": "stdout"
        }
      ]
    },
    {
      "cell_type": "code",
      "metadata": {
        "id": "vQBkFt9LMTiO",
        "colab": {
          "base_uri": "https://localhost:8080/",
          "height": 302
        },
        "outputId": "c4353831-4f51-4087-fcaf-41b21cca1b73"
      },
      "source": [
        "X_grid = torch.from_numpy(np.linspace(0,1,50)).float().view(-1, d)\n",
        "y_hat = neural_network(X_grid)\n",
        "plt.scatter(X.numpy(), y.numpy())\n",
        "plt.plot(X_grid.detach().numpy(), y_hat.detach().numpy(), 'r')\n",
        "plt.title('plot of $f(x)$ and $\\hat{f}(x)$')\n",
        "plt.xlabel('$x$')\n",
        "plt.ylabel('$y$')\n",
        "plt.show()"
      ],
      "execution_count": null,
      "outputs": [
        {
          "output_type": "display_data",
          "data": {
            "image/png": "[encoded data removed]",
            "text/plain": [
              "<Figure size 432x288 with 1 Axes>"
            ]
          },
          "metadata": {
            "tags": []
          }
        }
      ]
    },
    {
      "cell_type": "markdown",
      "metadata": {
        "id": "K8mPkng3MTiQ"
      },
      "source": [
        "# Things that might help on the homework\n",
        "\n",
        "## Brief Sidenote: Momentum\n",
        "\n",
        "There are other optimization algorithms besides stochastic gradient descent. One is a modification of SGD called momentum. We won't get into it here, but if you would like to read more [here](https://distill.pub/2017/momentum/) is a good place to start.\n",
        "\n",
        "We only change the step size and add the momentum keyword argument to the optimizer. Notice how it reduces the training loss in fewer iterations."
      ]
    },
    {
      "cell_type": "code",
      "metadata": {
        "id": "QhGP8gZDMTiQ",
        "colab": {
          "base_uri": "https://localhost:8080/"
        },
        "outputId": "5fdd3395-284c-4d20-c892-8593978764eb"
      },
      "source": [
        "# feel free to play with these parameters\n",
        "\n",
        "step_size = 0.05\n",
        "momentum = 0.9\n",
        "n_epochs = 1500\n",
        "n_hidden_1 = 32\n",
        "n_hidden_2 = 32\n",
        "d_out = 1\n",
        "\n",
        "neural_network = nn.Sequential(\n",
        "                            nn.Linear(d, n_hidden_1), \n",
        "                            nn.Tanh(),\n",
        "                            nn.Linear(n_hidden_1, n_hidden_2),\n",
        "                            nn.Tanh(),\n",
        "                            nn.Linear(n_hidden_2, d_out)\n",
        "                            )\n",
        "\n",
        "loss_func = nn.MSELoss()\n",
        "\n",
        "optim = torch.optim.SGD(neural_network.parameters(), lr=step_size, momentum=momentum)\n",
        "print('iter,\\tloss')\n",
        "for i in range(n_epochs):\n",
        "    y_hat = neural_network(X)\n",
        "    loss = loss_func(y_hat, y)\n",
        "    optim.zero_grad()\n",
        "    loss.backward()\n",
        "    optim.step()\n",
        "    \n",
        "    if i % (n_epochs // 10) == 0:\n",
        "        print('{},\\t{:.2f}'.format(i, loss.item()))\n",
        "\n"
      ],
      "execution_count": 4,
      "outputs": [
        {
          "output_type": "stream",
          "text": [
            "iter,\tloss\n",
            "0,\t4.30\n",
            "150,\t1.87\n",
            "300,\t0.46\n",
            "450,\t0.15\n",
            "600,\t0.07\n",
            "750,\t0.05\n",
            "900,\t0.01\n",
            "1050,\t0.01\n",
            "1200,\t0.00\n",
            "1350,\t0.00\n"
          ],
          "name": "stdout"
        }
      ]
    },
    {
      "cell_type": "code",
      "metadata": {
        "id": "rGZL4mkbMTiS",
        "outputId": "a47a0eb5-8e93-4538-8506-cda2ad4ce633",
        "colab": {
          "base_uri": "https://localhost:8080/",
          "height": 302
        }
      },
      "source": [
        "X_grid = torch.from_numpy(np.linspace(0,1,50)).float().view(-1, d)\n",
        "y_hat = neural_network(X_grid)\n",
        "plt.scatter(X.numpy(), y.numpy())\n",
        "plt.plot(X_grid.detach().numpy(), y_hat.detach().numpy(), 'r')\n",
        "plt.title('plot of $f(x)$ and $\\hat{f}(x)$')\n",
        "plt.xlabel('$x$')\n",
        "plt.ylabel('$y$')\n",
        "plt.show()"
      ],
      "execution_count": 5,
      "outputs": [
        {
          "output_type": "display_data",
          "data": {
            "image/png": "[encoded data removed]",
            "text/plain": [
              "<Figure size 432x288 with 1 Axes>"
            ]
          },
          "metadata": {
            "tags": [],
            "needs_background": "light"
          }
        }
      ]
    },
    {
      "cell_type": "markdown",
      "metadata": {
        "id": "aSO1McZLMTiT"
      },
      "source": [
        "## CrossEntropyLoss\n",
        "So far, we have been considering regression tasks and have used the [MSELoss](https://pytorch.org/docs/stable/nn.html#torch.nn.MSELoss) module. For the homework, we will be performing a classification task and will use the cross entropy loss.\n",
        "\n",
        "PyTorch implements a version of the cross entropy loss in one module called [CrossEntropyLoss](https://pytorch.org/docs/stable/nn.html#torch.nn.CrossEntropyLoss). Its usage is slightly different than MSE, so we will break it down here. \n",
        "\n",
        "- input: The first parameter to CrossEntropyLoss is the output of our network. It expects a *real valued* tensor of dimensions $(N,C)$ where $N$ is the minibatch size and $C$ is the number of classes. In our case $N=3$ and $C=2$. The values along the second dimension correspond to raw unnormalized scores for each class. The CrossEntropyLoss module does the softmax calculation for us, so we do not need to apply our own softmax to the output of our neural network.\n",
        "- output: The second parameter to CrossEntropyLoss is the true label. It expects an *integer valued* tensor of dimension $(N)$. The integer at each element corresponds to the correct class. In our case, the \"correct\" class labels are class 0, class 1, and class 1.\n",
        "\n",
        "Try out the loss function on three toy predictions. The true class labels are $y=[1,1,0]$. The first two examples correspond to predictions that are \"correct\" in that they have higher raw scores for the correct class. The second example is \"more confident\" in the prediction, leading to a smaller loss. The last two examples are incorrect predictions with lower and higher confidence respectively."
      ]
    },
    {
      "cell_type": "code",
      "metadata": {
        "id": "ALoGYsu1MTiU",
        "outputId": "4a7f4c3d-8e06-45e4-bef1-72ddc36421c4",
        "colab": {
          "base_uri": "https://localhost:8080/"
        }
      },
      "source": [
        "loss = nn.CrossEntropyLoss()\n",
        "\n",
        "input = torch.tensor([[-1., 1],[-1, 1],[1, -1]]) # raw scores correspond to the correct class\n",
        "# input = torch.tensor([[-3., 3],[-3, 3],[3, -3]]) # raw scores correspond to the correct class with higher confidence\n",
        "# input = torch.tensor([[1., -1],[1, -1],[-1, 1]]) # raw scores correspond to the incorrect class\n",
        "# input = torch.tensor([[3., -3],[3, -3],[-3, 3]]) # raw scores correspond to the incorrect class with incorrectly placed confidence\n",
        "\n",
        "target = torch.tensor([1, 1, 0])\n",
        "output = loss(input, target)\n",
        "print(output)\n"
      ],
      "execution_count": 6,
      "outputs": [
        {
          "output_type": "stream",
          "text": [
            "tensor(0.1269)\n"
          ],
          "name": "stdout"
        }
      ]
    },
    {
      "cell_type": "markdown",
      "metadata": {
        "id": "OCwLf9C2MTiY"
      },
      "source": [
        "## Learning rate schedulers\n",
        "\n",
        "Often we do not want to use a fixed learning rate throughout all training. PyTorch offers learning rate schedulers to change the learning rate over time. Common strategies include multiplying the lr by a constant every epoch (e.g. 0.9) and halving the learning rate when the training loss flattens out.\n",
        "\n",
        "See the [learning rate scheduler docs](https://pytorch.org/docs/stable/optim.html#how-to-adjust-learning-rate) for usage and examples"
      ]
    },
    {
      "cell_type": "markdown",
      "metadata": {
        "id": "IrapEC2XMTiY"
      },
      "source": [
        "## Convolutions\n",
        "When working with images, we often want to use convolutions to extract features using convolutions. PyTorch implments this for us in the `torch.nn.Conv2d` module. It expects the input to have a specific dimension $(N, C_{in}, H_{in}, W_{in})$ where $N$ is batch size, $C_{in}$ is the number of channels the image has, and $H_{in}, W_{in}$ are the image height and width respectively.\n",
        "\n",
        "We can modify the convolution to have different properties with the parameters:\n",
        "- kernel_size\n",
        "- stride\n",
        "- padding\n",
        "\n",
        "They can change the output dimension so be careful.\n",
        "\n",
        "See the [`torch.nn.Conv2d` docs](https://pytorch.org/docs/stable/nn.html#torch.nn.Conv2d) for more information."
      ]
    },
    {
      "cell_type": "markdown",
      "metadata": {
        "id": "8gKSeJYuMTiZ"
      },
      "source": [
        "To illustrate what the `Conv2d` module is doing, let's set the conv weights manually to a Gaussian blur kernel.\n",
        "\n",
        "We can see that it applies the kernel to the image."
      ]
    },
    {
      "cell_type": "code",
      "metadata": {
        "id": "QJjlv1lOMTiZ",
        "outputId": "57deb85b-ae64-46e3-8c48-cc51e6f44c2d",
        "colab": {
          "base_uri": "https://localhost:8080/"
        }
      },
      "source": [
        "# an entire mnist digit\n",
        "image = np.array([0., 0., 0., 0., 0.,0., 0., 0., 0., 0.,0., 0., 0., 0., 0.,0., 0., 0., 0., 0.,0., 0., 0., 0., 0.,0., 0., 0., 0., 0.,0., 0., 0., 0., 0.,0., 0., 0., 0., 0.,0., 0., 0., 0., 0.,0., 0., 0., 0., 0.,0., 0., 0., 0., 0.,0., 0., 0., 0., 0.,0., 0., 0., 0., 0.,0., 0., 0., 0., 0.,0., 0., 0., 0., 0.,0., 0., 0., 0., 0.,0., 0., 0., 0., 0.,0., 0., 0., 0., 0.,0., 0., 0., 0., 0.,0., 0., 0., 0., 0.,0., 0., 0., 0., 0.,0., 0., 0., 0., 0.,0., 0., 0., 0., 0.,0., 0., 0., 0., 0.,0., 0., 0., 0., 0.,0., 0., 0., 0., 0.,0., 0., 0., 0., 0.,0., 0., 0., 0., 0.,0., 0., 0., 0., 0.,0., 0., 0., 0., 0.,0., 0., 0., 0., 0.,0., 0., 0., 0., 0.,0., 0., 0., 0., 0.,0., 0., 0., 0., 0.,0., 0., 0., 0., 0.,0., 0., 0., 0., 0.,0., 0., 0., 0., 0.,0., 0., 0., 0., 0.,0., 0., 0., 0., 0.,0., 0., 0., 0., 0.,0., 0., 0., 0., 0.,0., 0., 0.3803922 , 0.37647063, 0.3019608 ,0.46274513, 0.2392157 , 0., 0., 0.,0., 0., 0., 0., 0.,0., 0., 0., 0., 0.,0., 0., 0.3529412 , 0.5411765 , 0.9215687 ,0.9215687 , 0.9215687 , 0.9215687 , 0.9215687 , 0.9215687 ,0.9843138 , 0.9843138 , 0.9725491 , 0.9960785 , 0.9607844 ,0.9215687 , 0.74509805, 0.08235294, 0., 0.,0., 0., 0., 0., 0.,0., 0., 0., 0., 0.54901963,0.9843138 , 0.9960785 , 0.9960785 , 0.9960785 , 0.9960785 ,0.9960785 , 0.9960785 , 0.9960785 , 0.9960785 , 0.9960785 ,0.9960785 , 0.9960785 , 0.9960785 , 0.9960785 , 0.9960785 ,0.7411765 , 0.09019608, 0., 0., 0.,0., 0., 0., 0., 0.,0., 0., 0.8862746 , 0.9960785 , 0.81568635,0.7803922 , 0.7803922 , 0.7803922 , 0.7803922 , 0.54509807,0.2392157 , 0.2392157 , 0.2392157 , 0.2392157 , 0.2392157 ,0.5019608 , 0.8705883 , 0.9960785 , 0.9960785 , 0.7411765 ,0.08235294, 0., 0., 0., 0.,0., 0., 0., 0., 0.,0.14901961, 0.32156864, 0.0509804 , 0., 0.,0., 0., 0., 0., 0.,0., 0., 0., 0., 0.13333334,0.8352942 , 0.9960785 , 0.9960785 , 0.45098042, 0.,0., 0., 0., 0., 0.,0., 0., 0., 0., 0.,0., 0., 0., 0., 0.,0., 0., 0., 0., 0.,0., 0., 0., 0.32941177, 0.9960785 ,0.9960785 , 0.9176471 , 0., 0., 0.,0., 0., 0., 0., 0.,0., 0., 0., 0., 0.,0., 0., 0., 0., 0.,0., 0., 0., 0., 0.,0., 0.32941177, 0.9960785 , 0.9960785 , 0.9176471 ,0., 0., 0., 0., 0.,0., 0., 0., 0., 0.,0., 0., 0., 0., 0.,0., 0., 0., 0., 0.,0., 0., 0., 0.4156863 , 0.6156863 ,0.9960785 , 0.9960785 , 0.95294124, 0.20000002, 0.,0., 0., 0., 0., 0.,0., 0., 0., 0., 0.,0., 0., 0., 0., 0.,0., 0.09803922, 0.45882356, 0.8941177 , 0.8941177 ,0.8941177 , 0.9921569 , 0.9960785 , 0.9960785 , 0.9960785 ,0.9960785 , 0.94117653, 0., 0., 0.,0., 0., 0., 0., 0.,0., 0., 0., 0., 0.,0., 0., 0.26666668, 0.4666667 , 0.86274517,0.9960785 , 0.9960785 , 0.9960785 , 0.9960785 , 0.9960785 ,0.9960785 , 0.9960785 , 0.9960785 , 0.9960785 , 0.5568628 ,0., 0., 0., 0., 0.,0., 0., 0., 0., 0.,0., 0., 0., 0.14509805, 0.73333335,0.9921569 , 0.9960785 , 0.9960785 , 0.9960785 , 0.8745099 ,0.8078432 , 0.8078432 , 0.29411766, 0.26666668, 0.8431373 ,0.9960785 , 0.9960785 , 0.45882356, 0., 0.,0., 0., 0., 0., 0.,0., 0., 0., 0., 0.,0.4431373 , 0.8588236 , 0.9960785 , 0.9490197 , 0.89019614,0.45098042, 0.34901962, 0.12156864, 0., 0.,0., 0., 0.7843138 , 0.9960785 , 0.9450981 ,0.16078432, 0., 0., 0., 0.,0., 0., 0., 0., 0.,0., 0., 0., 0.6627451 , 0.9960785 ,0.6901961 , 0.24313727, 0., 0., 0.,0., 0., 0., 0., 0.18823531,0.9058824 , 0.9960785 , 0.9176471 , 0., 0.,0., 0., 0., 0., 0.,0., 0., 0., 0., 0.,0., 0.07058824, 0.48627454, 0., 0.,0., 0., 0., 0., 0.,0., 0., 0.32941177, 0.9960785 , 0.9960785 ,0.6509804 , 0., 0., 0., 0.,0., 0., 0., 0., 0.,0., 0., 0., 0., 0.,0., 0., 0., 0., 0.,0., 0., 0., 0., 0.,0.54509807, 0.9960785 , 0.9333334 , 0.22352943, 0.,0., 0., 0., 0., 0.,0., 0., 0., 0., 0.,0., 0., 0., 0., 0.,0., 0., 0., 0., 0.,0., 0., 0.8235295 , 0.9803922 , 0.9960785 ,0.65882355, 0., 0., 0., 0.,0., 0., 0., 0., 0.,0., 0., 0., 0., 0.,0., 0., 0., 0., 0.,0., 0., 0., 0., 0.,0.9490197 , 0.9960785 , 0.93725497, 0.22352943, 0.,0., 0., 0., 0., 0.,0., 0., 0., 0., 0.,0., 0., 0., 0., 0.,0., 0., 0., 0., 0.,0., 0., 0.34901962, 0.9843138 , 0.9450981 ,0.3372549 , 0., 0., 0., 0.,0., 0., 0., 0., 0.,0., 0., 0., 0., 0.,0., 0., 0., 0., 0.,0., 0., 0., 0., 0.01960784,0.8078432 , 0.96470594, 0.6156863 , 0., 0.,0., 0., 0., 0., 0.,0., 0., 0., 0., 0.,0., 0., 0., 0., 0.,0., 0., 0., 0., 0.,0., 0., 0.01568628, 0.45882356, 0.27058825,0., 0., 0., 0., 0.,0., 0., 0., 0., 0.,0., 0., 0., 0., 0.,0., 0., 0., 0., 0.,0., 0., 0., 0., 0.,0., 0., 0., 0., 0.,0., 0., 0., 0., 0.,0., 0., 0., 0.], dtype=np.float32)\n",
        "image_torch = torch.from_numpy(image).view(1, 1, 28, 28)\n",
        "print(image_torch)"
      ],
      "execution_count": 3,
      "outputs": [
        {
          "output_type": "stream",
          "text": [
            "tensor([[[[0.0000, 0.0000, 0.0000, 0.0000, 0.0000, 0.0000, 0.0000, 0.0000,\n",
            "           0.0000, 0.0000, 0.0000, 0.0000, 0.0000, 0.0000, 0.0000, 0.0000,\n",
            "           0.0000, 0.0000, 0.0000, 0.0000, 0.0000, 0.0000, 0.0000, 0.0000,\n",
            "           0.0000, 0.0000, 0.0000, 0.0000],\n",
            "          [0.0000, 0.0000, 0.0000, 0.0000, 0.0000, 0.0000, 0.0000, 0.0000,\n",
            "           0.0000, 0.0000, 0.0000, 0.0000, 0.0000, 0.0000, 0.0000, 0.0000,\n",
            "           0.0000, 0.0000, 0.0000, 0.0000, 0.0000, 0.0000, 0.0000, 0.0000,\n",
            "           0.0000, 0.0000, 0.0000, 0.0000],\n",
            "          [0.0000, 0.0000, 0.0000, 0.0000, 0.0000, 0.0000, 0.0000, 0.0000,\n",
            "           0.0000, 0.0000, 0.0000, 0.0000, 0.0000, 0.0000, 0.0000, 0.0000,\n",
            "           0.0000, 0.0000, 0.0000, 0.0000, 0.0000, 0.0000, 0.0000, 0.0000,\n",
            "           0.0000, 0.0000, 0.0000, 0.0000],\n",
            "          [0.0000, 0.0000, 0.0000, 0.0000, 0.0000, 0.0000, 0.0000, 0.0000,\n",
            "           0.0000, 0.0000, 0.0000, 0.0000, 0.0000, 0.0000, 0.0000, 0.0000,\n",
            "           0.0000, 0.0000, 0.0000, 0.0000, 0.0000, 0.0000, 0.0000, 0.0000,\n",
            "           0.0000, 0.0000, 0.0000, 0.0000],\n",
            "          [0.0000, 0.0000, 0.0000, 0.0000, 0.0000, 0.0000, 0.0000, 0.0000,\n",
            "           0.0000, 0.0000, 0.0000, 0.0000, 0.0000, 0.0000, 0.0000, 0.0000,\n",
            "           0.0000, 0.0000, 0.0000, 0.0000, 0.0000, 0.0000, 0.0000, 0.0000,\n",
            "           0.0000, 0.0000, 0.0000, 0.0000],\n",
            "          [0.0000, 0.0000, 0.0000, 0.0000, 0.0000, 0.0000, 0.0000, 0.0000,\n",
            "           0.0000, 0.0000, 0.0000, 0.0000, 0.0000, 0.0000, 0.0000, 0.0000,\n",
            "           0.0000, 0.0000, 0.0000, 0.0000, 0.0000, 0.0000, 0.0000, 0.0000,\n",
            "           0.0000, 0.0000, 0.0000, 0.0000],\n",
            "          [0.0000, 0.0000, 0.0000, 0.0000, 0.0000, 0.0000, 0.0000, 0.0000,\n",
            "           0.0000, 0.0000, 0.0000, 0.0000, 0.0000, 0.0000, 0.0000, 0.0000,\n",
            "           0.0000, 0.0000, 0.0000, 0.0000, 0.0000, 0.0000, 0.0000, 0.0000,\n",
            "           0.0000, 0.0000, 0.0000, 0.0000],\n",
            "          [0.0000, 0.0000, 0.0000, 0.0000, 0.0000, 0.0000, 0.0000, 0.0000,\n",
            "           0.0000, 0.0000, 0.0000, 0.3804, 0.3765, 0.3020, 0.4627, 0.2392,\n",
            "           0.0000, 0.0000, 0.0000, 0.0000, 0.0000, 0.0000, 0.0000, 0.0000,\n",
            "           0.0000, 0.0000, 0.0000, 0.0000],\n",
            "          [0.0000, 0.0000, 0.0000, 0.3529, 0.5412, 0.9216, 0.9216, 0.9216,\n",
            "           0.9216, 0.9216, 0.9216, 0.9843, 0.9843, 0.9725, 0.9961, 0.9608,\n",
            "           0.9216, 0.7451, 0.0824, 0.0000, 0.0000, 0.0000, 0.0000, 0.0000,\n",
            "           0.0000, 0.0000, 0.0000, 0.0000],\n",
            "          [0.0000, 0.0000, 0.5490, 0.9843, 0.9961, 0.9961, 0.9961, 0.9961,\n",
            "           0.9961, 0.9961, 0.9961, 0.9961, 0.9961, 0.9961, 0.9961, 0.9961,\n",
            "           0.9961, 0.9961, 0.7412, 0.0902, 0.0000, 0.0000, 0.0000, 0.0000,\n",
            "           0.0000, 0.0000, 0.0000, 0.0000],\n",
            "          [0.0000, 0.0000, 0.8863, 0.9961, 0.8157, 0.7804, 0.7804, 0.7804,\n",
            "           0.7804, 0.5451, 0.2392, 0.2392, 0.2392, 0.2392, 0.2392, 0.5020,\n",
            "           0.8706, 0.9961, 0.9961, 0.7412, 0.0824, 0.0000, 0.0000, 0.0000,\n",
            "           0.0000, 0.0000, 0.0000, 0.0000],\n",
            "          [0.0000, 0.0000, 0.1490, 0.3216, 0.0510, 0.0000, 0.0000, 0.0000,\n",
            "           0.0000, 0.0000, 0.0000, 0.0000, 0.0000, 0.0000, 0.0000, 0.0000,\n",
            "           0.1333, 0.8353, 0.9961, 0.9961, 0.4510, 0.0000, 0.0000, 0.0000,\n",
            "           0.0000, 0.0000, 0.0000, 0.0000],\n",
            "          [0.0000, 0.0000, 0.0000, 0.0000, 0.0000, 0.0000, 0.0000, 0.0000,\n",
            "           0.0000, 0.0000, 0.0000, 0.0000, 0.0000, 0.0000, 0.0000, 0.0000,\n",
            "           0.0000, 0.3294, 0.9961, 0.9961, 0.9176, 0.0000, 0.0000, 0.0000,\n",
            "           0.0000, 0.0000, 0.0000, 0.0000],\n",
            "          [0.0000, 0.0000, 0.0000, 0.0000, 0.0000, 0.0000, 0.0000, 0.0000,\n",
            "           0.0000, 0.0000, 0.0000, 0.0000, 0.0000, 0.0000, 0.0000, 0.0000,\n",
            "           0.0000, 0.3294, 0.9961, 0.9961, 0.9176, 0.0000, 0.0000, 0.0000,\n",
            "           0.0000, 0.0000, 0.0000, 0.0000],\n",
            "          [0.0000, 0.0000, 0.0000, 0.0000, 0.0000, 0.0000, 0.0000, 0.0000,\n",
            "           0.0000, 0.0000, 0.0000, 0.0000, 0.0000, 0.0000, 0.0000, 0.0000,\n",
            "           0.4157, 0.6157, 0.9961, 0.9961, 0.9529, 0.2000, 0.0000, 0.0000,\n",
            "           0.0000, 0.0000, 0.0000, 0.0000],\n",
            "          [0.0000, 0.0000, 0.0000, 0.0000, 0.0000, 0.0000, 0.0000, 0.0000,\n",
            "           0.0000, 0.0000, 0.0000, 0.0980, 0.4588, 0.8941, 0.8941, 0.8941,\n",
            "           0.9922, 0.9961, 0.9961, 0.9961, 0.9961, 0.9412, 0.0000, 0.0000,\n",
            "           0.0000, 0.0000, 0.0000, 0.0000],\n",
            "          [0.0000, 0.0000, 0.0000, 0.0000, 0.0000, 0.0000, 0.0000, 0.0000,\n",
            "           0.0000, 0.2667, 0.4667, 0.8627, 0.9961, 0.9961, 0.9961, 0.9961,\n",
            "           0.9961, 0.9961, 0.9961, 0.9961, 0.9961, 0.5569, 0.0000, 0.0000,\n",
            "           0.0000, 0.0000, 0.0000, 0.0000],\n",
            "          [0.0000, 0.0000, 0.0000, 0.0000, 0.0000, 0.0000, 0.0000, 0.1451,\n",
            "           0.7333, 0.9922, 0.9961, 0.9961, 0.9961, 0.8745, 0.8078, 0.8078,\n",
            "           0.2941, 0.2667, 0.8431, 0.9961, 0.9961, 0.4588, 0.0000, 0.0000,\n",
            "           0.0000, 0.0000, 0.0000, 0.0000],\n",
            "          [0.0000, 0.0000, 0.0000, 0.0000, 0.0000, 0.0000, 0.4431, 0.8588,\n",
            "           0.9961, 0.9490, 0.8902, 0.4510, 0.3490, 0.1216, 0.0000, 0.0000,\n",
            "           0.0000, 0.0000, 0.7843, 0.9961, 0.9451, 0.1608, 0.0000, 0.0000,\n",
            "           0.0000, 0.0000, 0.0000, 0.0000],\n",
            "          [0.0000, 0.0000, 0.0000, 0.0000, 0.0000, 0.0000, 0.6627, 0.9961,\n",
            "           0.6902, 0.2431, 0.0000, 0.0000, 0.0000, 0.0000, 0.0000, 0.0000,\n",
            "           0.0000, 0.1882, 0.9059, 0.9961, 0.9176, 0.0000, 0.0000, 0.0000,\n",
            "           0.0000, 0.0000, 0.0000, 0.0000],\n",
            "          [0.0000, 0.0000, 0.0000, 0.0000, 0.0000, 0.0000, 0.0706, 0.4863,\n",
            "           0.0000, 0.0000, 0.0000, 0.0000, 0.0000, 0.0000, 0.0000, 0.0000,\n",
            "           0.0000, 0.3294, 0.9961, 0.9961, 0.6510, 0.0000, 0.0000, 0.0000,\n",
            "           0.0000, 0.0000, 0.0000, 0.0000],\n",
            "          [0.0000, 0.0000, 0.0000, 0.0000, 0.0000, 0.0000, 0.0000, 0.0000,\n",
            "           0.0000, 0.0000, 0.0000, 0.0000, 0.0000, 0.0000, 0.0000, 0.0000,\n",
            "           0.0000, 0.5451, 0.9961, 0.9333, 0.2235, 0.0000, 0.0000, 0.0000,\n",
            "           0.0000, 0.0000, 0.0000, 0.0000],\n",
            "          [0.0000, 0.0000, 0.0000, 0.0000, 0.0000, 0.0000, 0.0000, 0.0000,\n",
            "           0.0000, 0.0000, 0.0000, 0.0000, 0.0000, 0.0000, 0.0000, 0.0000,\n",
            "           0.8235, 0.9804, 0.9961, 0.6588, 0.0000, 0.0000, 0.0000, 0.0000,\n",
            "           0.0000, 0.0000, 0.0000, 0.0000],\n",
            "          [0.0000, 0.0000, 0.0000, 0.0000, 0.0000, 0.0000, 0.0000, 0.0000,\n",
            "           0.0000, 0.0000, 0.0000, 0.0000, 0.0000, 0.0000, 0.0000, 0.0000,\n",
            "           0.9490, 0.9961, 0.9373, 0.2235, 0.0000, 0.0000, 0.0000, 0.0000,\n",
            "           0.0000, 0.0000, 0.0000, 0.0000],\n",
            "          [0.0000, 0.0000, 0.0000, 0.0000, 0.0000, 0.0000, 0.0000, 0.0000,\n",
            "           0.0000, 0.0000, 0.0000, 0.0000, 0.0000, 0.0000, 0.0000, 0.3490,\n",
            "           0.9843, 0.9451, 0.3373, 0.0000, 0.0000, 0.0000, 0.0000, 0.0000,\n",
            "           0.0000, 0.0000, 0.0000, 0.0000],\n",
            "          [0.0000, 0.0000, 0.0000, 0.0000, 0.0000, 0.0000, 0.0000, 0.0000,\n",
            "           0.0000, 0.0000, 0.0000, 0.0000, 0.0000, 0.0000, 0.0196, 0.8078,\n",
            "           0.9647, 0.6157, 0.0000, 0.0000, 0.0000, 0.0000, 0.0000, 0.0000,\n",
            "           0.0000, 0.0000, 0.0000, 0.0000],\n",
            "          [0.0000, 0.0000, 0.0000, 0.0000, 0.0000, 0.0000, 0.0000, 0.0000,\n",
            "           0.0000, 0.0000, 0.0000, 0.0000, 0.0000, 0.0000, 0.0157, 0.4588,\n",
            "           0.2706, 0.0000, 0.0000, 0.0000, 0.0000, 0.0000, 0.0000, 0.0000,\n",
            "           0.0000, 0.0000, 0.0000, 0.0000],\n",
            "          [0.0000, 0.0000, 0.0000, 0.0000, 0.0000, 0.0000, 0.0000, 0.0000,\n",
            "           0.0000, 0.0000, 0.0000, 0.0000, 0.0000, 0.0000, 0.0000, 0.0000,\n",
            "           0.0000, 0.0000, 0.0000, 0.0000, 0.0000, 0.0000, 0.0000, 0.0000,\n",
            "           0.0000, 0.0000, 0.0000, 0.0000]]]])\n"
          ],
          "name": "stdout"
        }
      ]
    },
    {
      "cell_type": "code",
      "metadata": {
        "id": "28-oVco6MTib",
        "colab": {
          "base_uri": "https://localhost:8080/",
          "height": 617
        },
        "outputId": "d1578ac1-4aa2-4321-946b-ef7f5bb187f5"
      },
      "source": [
        "# a gaussian blur kernel\n",
        "gaussian_kernel = torch.tensor([[1., 2, 1],[2, 4, 2],[1, 2, 1]]) / 16.0\n",
        "\n",
        "# 这里怎么少一个dimension？不是N，channel，height 和width吗\n",
        "# 不，是input channel，output channel，和kernel size，如果是正方形的话，kernel size是一个数字就行了，不是的话得来个括号，然后里面是（长，宽）\n",
        "\n",
        "# 这两个都一样\n",
        "conv = nn.Conv2d(1, 1, (3,3))\n",
        "conv = nn.Conv2d(1, 1, 3)\n",
        "\n",
        "# conv = nn.Conv2d(1, 1, 3, padding=1)\n",
        "\n",
        "\n",
        "print(conv)\n",
        "# manually set the conv weight\n",
        "print(conv.weight.data)\n",
        "# conv.weight.data[:] = gaussian_kernel\n",
        "\n",
        "convolved = conv(image_torch)\n",
        "\n",
        "plt.title('original image')\n",
        "plt.imshow(image_torch.view(28,28).detach().numpy())\n",
        "plt.show()\n",
        "\n",
        "plt.title('blurred image')\n",
        "# 这里变成了26x26是因为没有padding\n",
        "plt.imshow(convolved.view(26,26).detach().numpy())\n",
        "plt.show()"
      ],
      "execution_count": 14,
      "outputs": [
        {
          "output_type": "stream",
          "text": [
            "Conv2d(1, 1, kernel_size=(3, 3), stride=(1, 1), padding=(1, 1))\n",
            "tensor([[[[ 0.2700, -0.1466, -0.0295],\n",
            "          [ 0.3326, -0.2399,  0.2092],\n",
            "          [-0.2688, -0.0176,  0.0421]]]])\n"
          ],
          "name": "stdout"
        },
        {
          "output_type": "display_data",
          "data": {
            "image/png": "[encoded data removed]",
            "text/plain": [
              "<Figure size 432x288 with 1 Axes>"
            ]
          },
          "metadata": {
            "tags": [],
            "needs_background": "light"
          }
        },
        {
          "output_type": "display_data",
          "data": {
            "image/png": "[encoded data removed]",
            "text/plain": [
              "<Figure size 432x288 with 1 Axes>"
            ]
          },
          "metadata": {
            "tags": [],
            "needs_background": "light"
          }
        }
      ]
    },
    {
      "cell_type": "markdown",
      "metadata": {
        "id": "zhf848TRMTid"
      },
      "source": [
        "As we can see, the image is blurred as expected. \n",
        "\n",
        "In practice, we learn many kernels at a time. In this example, we take in an RGB image (3 channels) and output a 16 channel image. After an activation function, that could be used as input to another `Conv2d` module."
      ]
    },
    {
      "cell_type": "code",
      "metadata": {
        "id": "noG9FyJ0MTie",
        "outputId": "af09dd44-d6ed-425e-d221-49e1a1e920d6",
        "colab": {
          "base_uri": "https://localhost:8080/"
        }
      },
      "source": [
        "im_channels = 3 # if we are working with RGB images, there are 3 input channels, with black and white, 1\n",
        "out_channels = 16 # this is a hyperparameter we can tune\n",
        "kernel_size = 3 # this is another hyperparameter we can tune\n",
        "batch_size = 4\n",
        "image_width = 32\n",
        "image_height = 32\n",
        "\n",
        "im = torch.randn(batch_size, im_channels, image_width, image_height)\n",
        "\n",
        "m = nn.Conv2d(im_channels, out_channels, kernel_size)\n",
        "convolved = m(im) # it is a module so we can call it\n",
        "\n",
        "print('im shape', im.shape)\n",
        "print('convolved im shape', convolved.shape)"
      ],
      "execution_count": 15,
      "outputs": [
        {
          "output_type": "stream",
          "text": [
            "im shape torch.Size([4, 3, 32, 32])\n",
            "convolved im shape torch.Size([4, 16, 30, 30])\n"
          ],
          "name": "stdout"
        }
      ]
    },
    {
      "cell_type": "markdown",
      "metadata": {
        "id": "NwsmNTYLMTig"
      },
      "source": [
        "## Useful links:\n",
        "- [60 minute PyTorch Tutorial](https://pytorch.org/tutorials/beginner/deep_learning_60min_blitz.html)\n",
        "- [PyTorch Docs](https://pytorch.org/docs/stable/index.html)\n",
        "- [Lecture notes on Auto-Diff](https://courses.cs.washington.edu/courses/cse446/19wi/notes/auto-diff.pdf)\n",
        "\n"
      ]
    },
    {
      "cell_type": "markdown",
      "metadata": {
        "id": "0d77LgKaMTih"
      },
      "source": [
        "\n",
        "Custom Datasets, DataLoaders\n",
        "===================================================\n",
        "This is modified from pytorch official tutorial.\n",
        "**Author**: `Sasank Chilamkurthy <https://chsasank.github.io>`_\n",
        "\n",
        "A lot of effort in solving any machine learning problem goes in to\n",
        "preparing the data. PyTorch provides many tools to make data loading\n",
        "easy and hopefully, to make your code more readable. In this tutorial,\n",
        "we will see how to load and preprocess/augment data from a non trivial\n",
        "dataset.\n",
        "\n"
      ]
    },
    {
      "cell_type": "markdown",
      "metadata": {
        "id": "OyN-mHRoMTii"
      },
      "source": [
        "Dataset class\n",
        "-------------\n",
        "\n",
        "``torch.utils.data.Dataset`` is an abstract class representing a\n",
        "dataset.\n",
        "Your custom dataset should inherit ``Dataset`` and override the following\n",
        "methods:\n",
        "\n",
        "-  ``__len__`` so that ``len(dataset)`` returns the size of the dataset.\n",
        "-  ``__getitem__`` to support the indexing such that ``dataset[i]`` can\n",
        "   be used to get $i$\\ th sample\n",
        "\n",
        "Let's create a dataset class for our face landmarks dataset. We will\n",
        "read the csv in ``__init__`` but leave the reading of images to\n",
        "``__getitem__``. This is memory efficient because all the images are not\n",
        "stored in the memory at once but read as required.\n",
        "\n",
        "Sample of our dataset will be a dict\n",
        "``{'image': image, 'landmarks': landmarks}``. Our dataset will take an\n",
        "optional argument ``transform`` so that any required processing can be\n",
        "applied on the sample. We will see the usefulness of ``transform`` in the\n",
        "next section."
      ]
    },
    {
      "cell_type": "code",
      "metadata": {
        "id": "I302HaeiMTij"
      },
      "source": [
        "from torch.utils.data import Dataset, DataLoader\n",
        "\n",
        "\n",
        "class FakeDataset(Dataset):\n",
        "\n",
        "    def __init__(self, x, y):\n",
        "        self.x = x\n",
        "        self.y = y\n",
        "\n",
        "    def __len__(self):\n",
        "        return len(self.x)\n",
        "# 必须得有__getitem__, 否则下一步用DataLoader时会不知道怎么分割batch\n",
        "    def __getitem__(self, idx):\n",
        "        return self.x[idx], self.y[idx]"
      ],
      "execution_count": 23,
      "outputs": []
    },
    {
      "cell_type": "markdown",
      "metadata": {
        "id": "vOgpiQcIMTik"
      },
      "source": [
        "However, we are losing a lot of features by using a simple ``for`` loop to\n",
        "iterate over the data. In particular, we are missing out on:\n",
        "\n",
        "-  Batching the data\n",
        "-  Shuffling the data\n",
        "-  Load the data in parallel using ``multiprocessing`` workers.\n",
        "\n",
        "``torch.utils.data.DataLoader`` is an iterator which provides all these\n",
        "features. Parameters used below should be clear. One parameter of\n",
        "interest is ``collate_fn``. You can specify how exactly the samples need\n",
        "to be batched using ``collate_fn``. However, default collate should work\n",
        "fine for most use cases."
      ]
    },
    {
      "cell_type": "code",
      "metadata": {
        "id": "TMHL8d06MTik",
        "colab": {
          "base_uri": "https://localhost:8080/"
        },
        "outputId": "05326ed2-1faa-4e37-ab5e-21b56f5d758d"
      },
      "source": [
        "x = np.random.rand(100, 10)\n",
        "y = np.random.rand(100)\n",
        "\n",
        "dataset = FakeDataset(x, y)\n",
        "dataloader = DataLoader(dataset, batch_size=4,\n",
        "                        shuffle=True, num_workers=2)\n",
        "\n",
        "for i_batch, sample_batched in enumerate(dataloader):\n",
        "    print(i_batch, sample_batched)"
      ],
      "execution_count": 24,
      "outputs": [
        {
          "output_type": "stream",
          "text": [
            "0 [tensor([[0.7193, 0.2741, 0.4420, 0.1557, 0.9420, 0.5117, 0.5931, 0.8154, 0.5361,\n",
            "         0.1872],\n",
            "        [0.5676, 0.6626, 0.4767, 0.1390, 0.2816, 0.0409, 0.5260, 0.3794, 0.2643,\n",
            "         0.3537],\n",
            "        [0.9096, 0.0918, 0.0696, 0.2971, 0.7389, 0.8383, 0.3929, 0.0389, 0.9189,\n",
            "         0.6199],\n",
            "        [0.2380, 0.1677, 0.9380, 0.1448, 0.6922, 0.6069, 0.8344, 0.5863, 0.1457,\n",
            "         0.2014]], dtype=torch.float64), tensor([0.2176, 0.9754, 0.8536, 0.3532], dtype=torch.float64)]\n",
            "1 [tensor([[0.0314, 0.0474, 0.9028, 0.9867, 0.0420, 0.1916, 0.1678, 0.7979, 0.1753,\n",
            "         0.9613],\n",
            "        [0.5514, 0.5059, 0.9791, 0.1536, 0.3263, 0.5719, 0.7523, 0.8745, 0.0716,\n",
            "         0.7475],\n",
            "        [0.5241, 0.7461, 0.4563, 0.6050, 0.6101, 0.5824, 0.1442, 0.3367, 0.7613,\n",
            "         0.4690],\n",
            "        [0.1643, 0.4962, 0.2381, 0.5720, 0.7894, 0.4712, 0.7996, 0.9251, 0.0110,\n",
            "         0.3813]], dtype=torch.float64), tensor([0.7319, 0.4930, 0.8746, 0.4445], dtype=torch.float64)]\n",
            "2 [tensor([[0.5844, 0.8862, 0.0699, 0.6444, 0.5367, 0.9208, 0.7480, 0.0144, 0.9199,\n",
            "         0.0995],\n",
            "        [0.2806, 0.6659, 0.6772, 0.3973, 0.5594, 0.8148, 0.9992, 0.5291, 0.9006,\n",
            "         0.5723],\n",
            "        [0.5862, 0.8508, 0.7199, 0.1911, 0.5497, 0.0289, 0.6275, 0.8197, 0.8303,\n",
            "         0.1428],\n",
            "        [0.1158, 0.9346, 0.5718, 0.8236, 0.0688, 0.4658, 0.1309, 0.2279, 0.5726,\n",
            "         0.6154]], dtype=torch.float64), tensor([0.4240, 0.4308, 0.4070, 0.8229], dtype=torch.float64)]\n",
            "3 [tensor([[0.2483, 0.8856, 0.3049, 0.1242, 0.7612, 0.2720, 0.4562, 0.6301, 0.3054,\n",
            "         0.7610],\n",
            "        [0.7922, 0.8721, 0.7375, 0.4412, 0.8387, 0.6168, 0.0745, 0.5748, 0.8836,\n",
            "         0.8897],\n",
            "        [0.2011, 0.2319, 0.7576, 0.3040, 0.3492, 0.1767, 0.7191, 0.6431, 0.7997,\n",
            "         0.4290],\n",
            "        [0.8193, 0.5891, 0.7714, 0.1626, 0.7857, 0.8589, 0.3915, 0.9859, 0.1276,\n",
            "         0.9227]], dtype=torch.float64), tensor([0.3197, 0.5162, 0.1961, 0.3965], dtype=torch.float64)]\n",
            "4 [tensor([[0.7286, 0.3560, 0.7249, 0.2052, 0.7728, 0.2892, 0.8883, 0.8719, 0.9782,\n",
            "         0.7011],\n",
            "        [0.5232, 0.9802, 0.1296, 0.1223, 0.8721, 0.9366, 0.4230, 0.1198, 0.5949,\n",
            "         0.4491],\n",
            "        [0.8724, 0.5149, 0.3893, 0.9610, 0.5823, 0.1067, 0.2902, 0.5042, 0.6721,\n",
            "         0.1359],\n",
            "        [0.8782, 0.1287, 0.7829, 0.1273, 0.3311, 0.1643, 0.0239, 0.1828, 0.8095,\n",
            "         0.5271]], dtype=torch.float64), tensor([0.9256, 0.5575, 0.7144, 0.4192], dtype=torch.float64)]\n",
            "5 [tensor([[0.8131, 0.2481, 0.9994, 0.9208, 0.1911, 0.9005, 0.4690, 0.2828, 0.7544,\n",
            "         0.4733],\n",
            "        [0.3972, 0.9308, 0.9525, 0.5032, 0.2424, 0.4351, 0.8631, 0.3911, 0.3436,\n",
            "         0.3880],\n",
            "        [0.5676, 0.7747, 0.0766, 0.8108, 0.0686, 0.8337, 0.6514, 0.2370, 0.3409,\n",
            "         0.0724],\n",
            "        [0.7599, 0.3493, 0.5720, 0.5422, 0.9541, 0.3611, 0.6543, 0.5687, 0.9864,\n",
            "         0.5154]], dtype=torch.float64), tensor([0.9470, 0.1105, 0.0977, 0.5998], dtype=torch.float64)]\n",
            "6 [tensor([[0.8666, 0.4252, 0.7587, 0.6702, 0.2597, 0.6034, 0.3960, 0.8095, 0.9669,\n",
            "         0.5710],\n",
            "        [0.0103, 0.6414, 0.6822, 0.2235, 0.3180, 0.9841, 0.1115, 0.1755, 0.8579,\n",
            "         0.1777],\n",
            "        [0.9593, 0.8794, 0.2167, 0.6176, 0.2897, 0.0233, 0.4649, 0.4352, 0.4179,\n",
            "         0.1543],\n",
            "        [0.1820, 0.2417, 0.8614, 0.2018, 0.2046, 0.6464, 0.9676, 0.7790, 0.2166,\n",
            "         0.5023]], dtype=torch.float64), tensor([0.1514, 0.5299, 0.3174, 0.5208], dtype=torch.float64)]\n",
            "7 [tensor([[0.2470, 0.9688, 0.4355, 0.3492, 0.8750, 0.3249, 0.5220, 0.4653, 0.3597,\n",
            "         0.1476],\n",
            "        [0.7581, 0.3579, 0.4255, 0.1752, 0.2802, 0.3451, 0.0837, 0.5392, 0.9778,\n",
            "         0.3526],\n",
            "        [0.3092, 0.2737, 0.4736, 0.8256, 0.9713, 0.4716, 0.6563, 0.6695, 0.2421,\n",
            "         0.6513],\n",
            "        [0.0952, 0.8205, 0.5406, 0.6423, 0.8216, 0.1433, 0.4484, 0.2387, 0.8781,\n",
            "         0.0686]], dtype=torch.float64), tensor([0.9187, 0.7418, 0.1066, 0.9498], dtype=torch.float64)]\n",
            "8 [tensor([[0.7813, 0.6415, 0.3381, 0.4081, 0.2997, 0.6885, 0.5729, 0.9190, 0.6803,\n",
            "         0.6488],\n",
            "        [0.2712, 0.5985, 0.6606, 0.2495, 0.5750, 0.3125, 0.2018, 0.2139, 0.9962,\n",
            "         0.6229],\n",
            "        [0.0305, 0.5266, 0.8390, 0.1262, 0.0888, 0.3125, 0.2020, 0.4675, 0.0024,\n",
            "         0.0545],\n",
            "        [0.4927, 0.5544, 0.7241, 0.5206, 0.6984, 0.8743, 0.4420, 0.3300, 0.0746,\n",
            "         0.1899]], dtype=torch.float64), tensor([0.5924, 0.3642, 0.4210, 0.9091], dtype=torch.float64)]\n",
            "9 [tensor([[0.0017, 0.8764, 0.4341, 0.4187, 0.1138, 0.5352, 0.1087, 0.8659, 0.8653,\n",
            "         0.9963],\n",
            "        [0.6259, 0.7619, 0.3460, 0.0873, 0.4160, 0.6447, 0.5378, 0.1851, 0.6067,\n",
            "         0.2988],\n",
            "        [0.4844, 0.6111, 0.9362, 0.9658, 0.0603, 0.6910, 0.3450, 0.8205, 0.4409,\n",
            "         0.9758],\n",
            "        [0.3612, 0.4280, 0.4271, 0.3757, 0.2818, 0.1289, 0.7074, 0.2780, 0.0569,\n",
            "         0.5659]], dtype=torch.float64), tensor([0.7910, 0.1803, 0.1892, 0.4506], dtype=torch.float64)]\n",
            "10 [tensor([[0.8477, 0.1110, 0.7232, 0.5329, 0.0023, 0.5219, 0.4534, 0.1643, 0.0425,\n",
            "         0.9919],\n",
            "        [0.9997, 0.6225, 0.5405, 0.5993, 0.9458, 0.9620, 0.7767, 0.8790, 0.5936,\n",
            "         0.4575],\n",
            "        [0.3776, 0.7277, 0.1168, 0.6482, 0.5110, 0.6284, 0.4759, 0.1284, 0.5939,\n",
            "         0.3573],\n",
            "        [0.1343, 0.2781, 0.3265, 0.5423, 0.9113, 0.6730, 0.1282, 0.5794, 0.4786,\n",
            "         0.3136]], dtype=torch.float64), tensor([0.0529, 0.4465, 0.0415, 0.8234], dtype=torch.float64)]\n",
            "11 [tensor([[0.4198, 0.0709, 0.9849, 0.2112, 0.3824, 0.0547, 0.0032, 0.2437, 0.1643,\n",
            "         0.2527],\n",
            "        [0.5271, 0.7308, 0.2606, 0.3060, 0.4713, 0.8939, 0.2696, 0.6694, 0.7174,\n",
            "         0.7690],\n",
            "        [0.9640, 0.3807, 0.9718, 0.5965, 0.9739, 0.8423, 0.9324, 0.8974, 0.9478,\n",
            "         0.8207],\n",
            "        [0.0524, 0.2018, 0.9729, 0.9746, 0.7646, 0.3512, 0.5527, 0.7193, 0.1196,\n",
            "         0.9968]], dtype=torch.float64), tensor([0.4475, 0.5668, 0.6453, 0.1496], dtype=torch.float64)]\n",
            "12 [tensor([[0.8105, 0.7770, 0.7919, 0.2277, 0.4961, 0.4951, 0.8445, 0.8258, 0.2101,\n",
            "         0.1465],\n",
            "        [0.8091, 0.6970, 0.2666, 0.9707, 0.0376, 0.6283, 0.5412, 0.1177, 0.3108,\n",
            "         0.7837],\n",
            "        [0.6270, 0.7303, 0.3776, 0.3713, 0.0260, 0.8236, 0.8103, 0.7517, 0.6437,\n",
            "         0.3878],\n",
            "        [0.0843, 0.3827, 0.6860, 0.8026, 0.8955, 0.1372, 0.6357, 0.1304, 0.7118,\n",
            "         0.0218]], dtype=torch.float64), tensor([0.5114, 0.9116, 0.1550, 0.0615], dtype=torch.float64)]\n",
            "13 [tensor([[2.6391e-01, 9.6418e-02, 5.4907e-01, 8.3312e-01, 4.7135e-01, 1.2240e-01,\n",
            "         5.7202e-01, 8.2525e-01, 1.5255e-01, 3.4464e-02],\n",
            "        [5.6448e-01, 4.0810e-01, 7.2110e-01, 7.2452e-01, 9.4733e-01, 1.8188e-01,\n",
            "         3.5771e-01, 7.0004e-02, 7.5087e-01, 9.1636e-04],\n",
            "        [7.7344e-01, 4.5364e-01, 8.5756e-01, 9.6728e-01, 1.3364e-01, 1.5196e-01,\n",
            "         7.6917e-01, 8.4401e-01, 3.7903e-01, 3.4297e-01],\n",
            "        [4.7300e-02, 3.0849e-01, 2.1834e-01, 2.5558e-01, 6.0843e-01, 8.7484e-01,\n",
            "         6.5641e-01, 9.7748e-01, 2.2477e-01, 6.7694e-01]], dtype=torch.float64), tensor([0.2160, 0.9085, 0.6493, 0.0541], dtype=torch.float64)]\n",
            "14 [tensor([[0.7581, 0.2951, 0.7337, 0.3272, 0.3305, 0.6940, 0.7216, 0.8421, 0.7748,\n",
            "         0.2389],\n",
            "        [0.6346, 0.7938, 0.5907, 0.7033, 0.8878, 0.5589, 0.4709, 0.9064, 0.6376,\n",
            "         0.3697],\n",
            "        [0.5473, 0.1063, 0.9086, 0.1076, 0.2286, 0.3228, 0.6951, 0.7462, 0.7201,\n",
            "         0.5295],\n",
            "        [0.3169, 0.9958, 0.4501, 0.6739, 0.5561, 0.6017, 0.0974, 0.1254, 0.8591,\n",
            "         0.4724]], dtype=torch.float64), tensor([0.6282, 0.6679, 0.8601, 0.9078], dtype=torch.float64)]\n",
            "15 [tensor([[0.3366, 0.8714, 0.6115, 0.6810, 0.0068, 0.4266, 0.3561, 0.8192, 0.2736,\n",
            "         0.1911],\n",
            "        [0.9397, 0.3359, 0.9771, 0.4257, 0.3812, 0.3332, 0.9095, 0.0495, 0.1773,\n",
            "         0.7450],\n",
            "        [0.9341, 0.8192, 0.4794, 0.1369, 0.1570, 0.6007, 0.4061, 0.3166, 0.0013,\n",
            "         0.8705],\n",
            "        [0.2496, 0.5103, 0.7602, 0.7545, 0.7864, 0.6920, 0.0506, 0.3063, 0.7926,\n",
            "         0.0234]], dtype=torch.float64), tensor([0.0078, 0.8900, 0.3551, 0.5819], dtype=torch.float64)]\n",
            "16 [tensor([[0.8867, 0.4919, 0.7643, 0.7295, 0.3177, 0.8836, 0.2750, 0.3584, 0.3854,\n",
            "         0.8509],\n",
            "        [0.8784, 0.2035, 0.3684, 0.7283, 0.1674, 0.1531, 0.3919, 0.2363, 0.7387,\n",
            "         0.3775],\n",
            "        [0.5330, 0.0950, 0.9855, 0.3621, 0.1388, 0.6975, 0.0636, 0.5173, 0.6741,\n",
            "         0.8240],\n",
            "        [0.0810, 0.6199, 0.9772, 0.3341, 0.7157, 0.7078, 0.5406, 0.6877, 0.9456,\n",
            "         0.8123]], dtype=torch.float64), tensor([0.0541, 0.0730, 0.9929, 0.3848], dtype=torch.float64)]\n",
            "17 [tensor([[0.4461, 0.6816, 0.0353, 0.1587, 0.4847, 0.1587, 0.1219, 0.4906, 0.2270,\n",
            "         0.3038],\n",
            "        [0.1290, 0.8417, 0.0805, 0.7632, 0.6384, 0.4738, 0.2833, 0.4883, 0.4398,\n",
            "         0.2118],\n",
            "        [0.2940, 0.5913, 0.7963, 0.7031, 0.5146, 0.2531, 0.6995, 0.6184, 0.6100,\n",
            "         0.8252],\n",
            "        [0.7252, 0.1700, 0.4736, 0.5389, 0.5983, 0.1519, 0.1145, 0.5128, 0.4518,\n",
            "         0.8404]], dtype=torch.float64), tensor([0.6640, 0.5692, 0.5294, 0.6043], dtype=torch.float64)]\n",
            "18 [tensor([[0.6924, 0.9485, 0.0995, 0.0456, 0.6549, 0.9433, 0.6102, 0.5603, 0.2408,\n",
            "         0.9095],\n",
            "        [0.4829, 0.8438, 0.5721, 0.7199, 0.2099, 0.9154, 0.4669, 0.9186, 0.5964,\n",
            "         0.1298],\n",
            "        [0.1334, 0.1654, 0.7649, 0.2632, 0.1446, 0.8478, 0.8986, 0.2307, 0.6011,\n",
            "         0.0798],\n",
            "        [0.4193, 0.7755, 0.8711, 0.4332, 0.1093, 0.1503, 0.2798, 0.5293, 0.5112,\n",
            "         0.1526]], dtype=torch.float64), tensor([0.9190, 0.8809, 0.5637, 0.0659], dtype=torch.float64)]\n",
            "19 [tensor([[0.3235, 0.2608, 0.7946, 0.8532, 0.2414, 0.7997, 0.4260, 0.3402, 0.7103,\n",
            "         0.2384],\n",
            "        [0.9319, 0.0412, 0.0863, 0.9706, 0.2272, 0.6107, 0.4235, 0.0705, 0.5725,\n",
            "         0.4531],\n",
            "        [0.2352, 0.6853, 0.2502, 0.9014, 0.4604, 0.5132, 0.5149, 0.4850, 0.8034,\n",
            "         0.0400],\n",
            "        [0.5437, 0.9641, 0.9197, 0.6536, 0.8555, 0.3832, 0.4749, 0.1247, 0.5275,\n",
            "         0.9601]], dtype=torch.float64), tensor([0.2128, 0.2169, 0.0985, 0.6704], dtype=torch.float64)]\n",
            "20 [tensor([[0.0448, 0.0566, 0.1424, 0.3803, 0.8784, 0.8085, 0.0140, 0.6331, 0.3424,\n",
            "         0.6040],\n",
            "        [0.2304, 0.7732, 0.9229, 0.3098, 0.2822, 0.2590, 0.4790, 0.5289, 0.0908,\n",
            "         0.1693],\n",
            "        [0.3365, 0.0709, 0.2704, 0.3270, 0.8304, 0.4986, 0.0080, 0.7490, 0.0788,\n",
            "         0.4996],\n",
            "        [0.2386, 0.2582, 0.0272, 0.7206, 0.0868, 0.1632, 0.3009, 0.2066, 0.9160,\n",
            "         0.5051]], dtype=torch.float64), tensor([3.3145e-04, 1.8411e-01, 5.8064e-01, 3.7615e-01], dtype=torch.float64)]\n",
            "21 [tensor([[0.5824, 0.9879, 0.4630, 0.7460, 0.0692, 0.8884, 0.4320, 0.3974, 0.7387,\n",
            "         0.5217],\n",
            "        [0.4995, 0.1441, 0.4368, 0.0184, 0.7353, 0.0847, 0.4594, 0.2181, 0.4138,\n",
            "         0.0778],\n",
            "        [0.6212, 0.7634, 0.1739, 0.1661, 0.0909, 0.2586, 0.0904, 0.9020, 0.6789,\n",
            "         0.7973],\n",
            "        [0.6777, 0.0363, 0.4096, 0.9201, 0.0534, 0.7125, 0.8117, 0.7707, 0.2715,\n",
            "         0.1595]], dtype=torch.float64), tensor([0.7860, 0.0616, 0.0667, 0.1846], dtype=torch.float64)]\n",
            "22 [tensor([[0.4239, 0.5876, 0.9329, 0.2905, 0.9048, 0.7313, 0.4298, 0.5547, 0.6011,\n",
            "         0.9321],\n",
            "        [0.0340, 0.4668, 0.0750, 0.6089, 0.2053, 0.8292, 0.8497, 0.0069, 0.9975,\n",
            "         0.1573],\n",
            "        [0.4577, 0.1164, 0.8521, 0.5436, 0.1230, 0.8637, 0.6344, 0.3891, 0.9627,\n",
            "         0.3131],\n",
            "        [0.1722, 0.6639, 0.3853, 0.7410, 0.8874, 0.3659, 0.4992, 0.5379, 0.1294,\n",
            "         0.3643]], dtype=torch.float64), tensor([0.4682, 0.2120, 0.1009, 0.7623], dtype=torch.float64)]\n",
            "23 [tensor([[0.3284, 0.6882, 0.4232, 0.9338, 0.3786, 0.2986, 0.2512, 0.3313, 0.7084,\n",
            "         0.9636],\n",
            "        [0.9388, 0.7696, 0.9103, 0.1109, 0.6574, 0.5505, 0.9590, 0.1639, 0.5555,\n",
            "         0.3267],\n",
            "        [0.0771, 0.8194, 0.2498, 0.6350, 0.7631, 0.1724, 0.9001, 0.3070, 0.7412,\n",
            "         0.6617],\n",
            "        [0.4249, 0.5933, 0.4940, 0.7780, 0.8217, 0.7461, 0.6196, 0.7231, 0.9190,\n",
            "         0.7329]], dtype=torch.float64), tensor([0.8468, 0.0537, 0.2348, 0.9653], dtype=torch.float64)]\n",
            "24 [tensor([[0.3573, 0.8464, 0.8960, 0.2023, 0.9011, 0.7337, 0.8791, 0.8478, 0.0427,\n",
            "         0.0810],\n",
            "        [0.0968, 0.6311, 0.4649, 0.9188, 0.0242, 0.4175, 0.3894, 0.2893, 0.2589,\n",
            "         0.6001],\n",
            "        [0.9460, 0.1589, 0.9567, 0.2504, 0.5828, 0.9493, 0.4935, 0.9578, 0.1922,\n",
            "         0.1578],\n",
            "        [0.9475, 0.3444, 0.3755, 0.3436, 0.3452, 0.6241, 0.9106, 0.0189, 0.4924,\n",
            "         0.7676]], dtype=torch.float64), tensor([0.1340, 0.2551, 0.9985, 0.3006], dtype=torch.float64)]\n"
          ],
          "name": "stdout"
        }
      ]
    },
    {
      "cell_type": "markdown",
      "metadata": {
        "id": "-m-ml0NoMTim"
      },
      "source": [
        "Mixed Presision Training\n",
        "===================================================\n",
        "**Author**: `Chi-Liang Liu <https://liangtaiwan.github.io>`\n",
        "**Ref**: https://github.com/NVIDIA/apex\n",
        "Using mixed precision to train your networks can be:\n",
        "- 2-4x faster\n",
        "- memory-efficient\n",
        "in only 3 lines of Python."
      ]
    },
    {
      "cell_type": "markdown",
      "metadata": {
        "id": "a94qxAC_MTin"
      },
      "source": [
        "# Apex \n",
        "\n",
        "NVIDIA-maintained utilities to streamline mixed precision and distributed training in Pytorch. Some of the code here will be included in upstream Pytorch eventually. The intention of Apex is to make up-to-date utilities available to users as quickly as possible."
      ]
    },
    {
      "cell_type": "markdown",
      "metadata": {
        "id": "fw6ociH0MTin"
      },
      "source": [
        "## apex.amp\n",
        "\n",
        "Amp allows users to easily experiment with different pure and mixed precision modes.\n",
        "Commonly-used default modes are chosen by\n",
        "selecting an \"optimization level\" or ``opt_level``; each ``opt_level`` establishes a set of\n",
        "properties that govern Amp's implementation of pure or mixed precision training.\n",
        "Finer-grained control of how a given ``opt_level`` behaves can be achieved by passing values for\n",
        "particular properties directly to ``amp.initialize``.  These manually specified values\n",
        "override the defaults established by the ``opt_level``."
      ]
    },
    {
      "cell_type": "code",
      "metadata": {
        "id": "IxP-tvHcMTio"
      },
      "source": [
        "# 不懂什么是mixed precision training\n",
        "\n",
        "from apex import amp\n",
        "\n",
        "# Declare model and optimizer as usual, with default (FP32) precision\n",
        "model = torch.nn.Linear(10, 100).cuda()\n",
        "optimizer = torch.optim.SGD(model.parameters(), lr=1e-3)\n",
        "\n",
        "# Allow Amp to perform casts as required by the opt_level\n",
        "model, optimizer = amp.initialize(model, optimizer, opt_level=\"O1\")\n",
        "...\n",
        "# loss.backward() becomes:\n",
        "with amp.scale_loss(loss, optimizer) as scaled_loss:\n",
        "    scaled_loss.backward()\n",
        "..."
      ],
      "execution_count": null,
      "outputs": []
    }
  ]
}