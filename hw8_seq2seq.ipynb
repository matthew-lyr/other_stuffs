{
  "nbformat": 4,
  "nbformat_minor": 0,
  "metadata": {
    "colab": {
      "name": "hw8_seq2seq.ipynb",
      "provenance": [],
      "collapsed_sections": [],
      "toc_visible": true,
      "include_colab_link": true
    },
    "kernelspec": {
      "name": "python3",
      "display_name": "Python 3"
    },
    "accelerator": "GPU"
  },
  "cells": [
    {
      "cell_type": "markdown",
      "metadata": {
        "id": "view-in-github",
        "colab_type": "text"
      },
      "source": [
        "<a href=\"https://colab.research.google.com/github/matthew-lyr/other_stuffs/blob/main/hw8_seq2seq.ipynb\" target=\"_parent\"><img src=\"https://colab.research.google.com/assets/colab-badge.svg\" alt=\"Open In Colab\"/></a>"
      ]
    },
    {
      "cell_type": "markdown",
      "metadata": {
        "id": "WdkAyb0Rs6bW"
      },
      "source": [
        "#**Homework 8 - Sequence-to-sequence**\n",
        "\n",
        "若有任何問題，歡迎來信至助教信箱 ntu-ml-2020spring-ta@googlegroups.com"
      ]
    },
    {
      "cell_type": "markdown",
      "metadata": {
        "id": "HJhsqjBlIiP0"
      },
      "source": [
        "# Sequence-to-Sequence 介紹\n",
        "- 大多數常見的 **sequence-to-sequence (seq2seq) model** 為 **encoder-decoder model**，主要由兩個部分組成，分別是 **Encoder** 和 **Decoder**，而這兩個部分則大多使用 **recurrent neural network (RNN)** 來實作，主要是用來解決輸入和輸出的長度不一樣的情況\n",
        "- **Encoder** 是將**一連串**的輸入，如文字、影片、聲音訊號等，編碼為**單個向量**，這單個向量可以想像為是整個輸入的抽象表示，包含了整個輸入的資訊\n",
        "- **Decoder** 是將 Encoder 輸出的單個向量逐步解碼，**一次輸出一個結果**，直到將最後目標輸出被產生出來為止，每次輸出會影響下一次的輸出，一般會在開頭加入 \"< BOS >\" 來表示開始解碼，會在結尾輸出 \"< EOS >\" 來表示輸出結束\n",
        "\n",
        "\n",
        "![seq2seq](https://i.imgur.com/0zeDyuI.png)"
      ]
    },
    {
      "cell_type": "markdown",
      "metadata": {
        "id": "jLpvURxG_xPa"
      },
      "source": [
        "# 作業介紹\n",
        "- 英文翻譯中文\n",
        "  - 輸入： 一句英文 （e.g.\t\ttom is a student .） \n",
        "  - 輸出： 中文翻譯 （e.g. \t\t湯姆 是 個 學生 。）\n",
        "\n",
        "- TODO\n",
        "  - Teachering Forcing 的功用: 嘗試不用 Teachering Forcing 做訓練\n",
        "  - 實作 Attention Mechanism\n",
        "  - 實作 Beam Search\n",
        "  - 實作 Schedule Sampling"
      ]
    },
    {
      "cell_type": "markdown",
      "metadata": {
        "id": "yfFk6r-PujeH"
      },
      "source": [
        "# 資料下載"
      ]
    },
    {
      "cell_type": "code",
      "metadata": {
        "id": "Ww4-VJoJqE-_",
        "colab": {
          "base_uri": "https://localhost:8080/"
        },
        "outputId": "82b553a5-8906-4424-8325-7192a91be7bf"
      },
      "source": [
        "!gdown --id '1r4px0i-NcrnXy1-tkBsIwvYwbWnxAhcg' --output data.tar.gz\n",
        "!tar -zxvf data.tar.gz\n",
        "!mkdir ckpt\n",
        "!ls"
      ],
      "execution_count": 1,
      "outputs": [
        {
          "output_type": "stream",
          "text": [
            "Downloading...\n",
            "From: https://drive.google.com/uc?id=1r4px0i-NcrnXy1-tkBsIwvYwbWnxAhcg\n",
            "To: /content/data.tar.gz\n",
            "\r0.00B [00:00, ?B/s]\r5.83MB [00:00, 51.5MB/s]\n",
            "cmn-eng/\n",
            "cmn-eng/int2word_cn.json\n",
            "cmn-eng/int2word_en.json\n",
            "cmn-eng/preprocess/\n",
            "cmn-eng/preprocess/build_dataset.py\n",
            "cmn-eng/preprocess/build_dictionary.sh\n",
            "cmn-eng/preprocess/cmn.txt\n",
            "cmn-eng/preprocess/cn.txt\n",
            "cmn-eng/preprocess/dict.txt.big\n",
            "cmn-eng/preprocess/dict.txt.small\n",
            "cmn-eng/preprocess/en.txt\n",
            "cmn-eng/preprocess/en_code.txt\n",
            "cmn-eng/preprocess/en_refine.txt\n",
            "cmn-eng/preprocess/en_vocab.txt\n",
            "cmn-eng/preprocess/tokenizer.py\n",
            "cmn-eng/testing.txt\n",
            "cmn-eng/training.txt\n",
            "cmn-eng/validation.txt\n",
            "cmn-eng/word2int_cn.json\n",
            "cmn-eng/word2int_en.json\n",
            "ckpt  cmn-eng  data.tar.gz  sample_data\n"
          ],
          "name": "stdout"
        }
      ]
    },
    {
      "cell_type": "markdown",
      "metadata": {
        "id": "BX2vLCiYuq6a"
      },
      "source": [
        "# 下載和引入需要的 libraries"
      ]
    },
    {
      "cell_type": "code",
      "metadata": {
        "id": "KKShudDCiySL"
      },
      "source": [
        "%%capture\n",
        "!pip3 install --user nltk"
      ],
      "execution_count": 2,
      "outputs": []
    },
    {
      "cell_type": "code",
      "metadata": {
        "colab": {
          "base_uri": "https://localhost:8080/",
          "height": 326
        },
        "id": "bg4Uk65GZfRh",
        "outputId": "caba7209-7018-4a86-9543-32238eea7453"
      },
      "source": [
        "!pip3 install -U numpy"
      ],
      "execution_count": null,
      "outputs": [
        {
          "output_type": "stream",
          "text": [
            "Collecting numpy\n",
            "\u001b[?25l  Downloading https://files.pythonhosted.org/packages/73/ef/8967d406f3f85018ceb5efab50431e901683188f1741ceb053efcab26c87/numpy-1.20.2-cp37-cp37m-manylinux2010_x86_64.whl (15.3MB)\n",
            "\u001b[K     |████████████████████████████████| 15.3MB 207kB/s \n",
            "\u001b[31mERROR: tensorflow 2.4.1 has requirement numpy~=1.19.2, but you'll have numpy 1.20.2 which is incompatible.\u001b[0m\n",
            "\u001b[31mERROR: datascience 0.10.6 has requirement folium==0.2.1, but you'll have folium 0.8.3 which is incompatible.\u001b[0m\n",
            "\u001b[31mERROR: albumentations 0.1.12 has requirement imgaug<0.2.7,>=0.2.5, but you'll have imgaug 0.2.9 which is incompatible.\u001b[0m\n",
            "\u001b[?25hInstalling collected packages: numpy\n",
            "  Found existing installation: numpy 1.19.5\n",
            "    Uninstalling numpy-1.19.5:\n",
            "      Successfully uninstalled numpy-1.19.5\n",
            "Successfully installed numpy-1.20.2\n"
          ],
          "name": "stdout"
        },
        {
          "output_type": "display_data",
          "data": {
            "application/vnd.colab-display-data+json": {
              "pip_warning": {
                "packages": [
                  "numpy"
                ]
              }
            }
          },
          "metadata": {
            "tags": []
          }
        }
      ]
    },
    {
      "cell_type": "code",
      "metadata": {
        "id": "skJCdcXBi5b5"
      },
      "source": [
        "%%capture\n",
        "import torch\n",
        "import torch.nn as nn\n",
        "import torch.optim as optim\n",
        "import torch.nn.functional as F\n",
        "import torch.utils.data as data\n",
        "import torch.utils.data.sampler as sampler\n",
        "import torchvision\n",
        "from torchvision import datasets, transforms\n",
        "\n",
        "import numpy as np\n",
        "import sys\n",
        "import os\n",
        "import random\n",
        "import json\n",
        "\n",
        "device = torch.device(\"cuda\" if torch.cuda.is_available() else \"cpu\") # 判斷是用 CPU 還是 GPU 執行運算\n"
      ],
      "execution_count": 7,
      "outputs": []
    },
    {
      "cell_type": "markdown",
      "metadata": {
        "id": "U-Irl7IluxMT"
      },
      "source": [
        "# 資料結構"
      ]
    },
    {
      "cell_type": "markdown",
      "metadata": {
        "id": "VJb3zc-zwkd6"
      },
      "source": [
        "## 定義資料的轉換\n",
        "- 將不同長度的答案拓展到相同長度，以便訓練模型"
      ]
    },
    {
      "cell_type": "code",
      "metadata": {
        "id": "42Iggb94rKcI"
      },
      "source": [
        "# def __call__ 是干嘛的？是把object当作function使，比如 e = LabelTransform() 建立object之后 可以直接run e()\n",
        "# 比如：\n",
        "# e = LabelTransform(5,0)\n",
        "# e(np.array([1,2]))\n",
        "\n",
        "import numpy as np\n",
        "\n",
        "class LabelTransform(object):\n",
        "  def __init__(self, size, pad):\n",
        "    self.size = size\n",
        "    self.pad = pad\n",
        "\n",
        "  def __call__(self, label):\n",
        "    label = np.pad(label, (0, (self.size - label.shape[0])), mode='constant', constant_values=self.pad)\n",
        "    return label\n"
      ],
      "execution_count": 3,
      "outputs": []
    },
    {
      "cell_type": "code",
      "metadata": {
        "colab": {
          "base_uri": "https://localhost:8080/"
        },
        "id": "XsDX_PzWbFTe",
        "outputId": "a47bbb60-cf7f-4cf8-b002-ff905fa2a70f"
      },
      "source": [
        "e = LabelTransform(5,0)\n",
        "e(np.array([1,2]))"
      ],
      "execution_count": 4,
      "outputs": [
        {
          "output_type": "execute_result",
          "data": {
            "text/plain": [
              "array([1, 2, 0, 0, 0])"
            ]
          },
          "metadata": {
            "tags": []
          },
          "execution_count": 4
        }
      ]
    },
    {
      "cell_type": "markdown",
      "metadata": {
        "id": "42zjTpver4Sk"
      },
      "source": [
        "## 定義 Dataset\n",
        "- Data (出自manythings 的 cmn-eng):\n",
        "  - 訓練資料：18000句\n",
        "  - 檢驗資料：  500句\n",
        "  - 測試資料： 2636句\n",
        "\n",
        "- 資料預處理:\n",
        "  - 英文：\n",
        "    - 用 subword-nmt 套件將word轉為subword\n",
        "    - 建立字典：取出標籤中出現頻率高於定值的subword\n",
        "  - 中文：\n",
        "    - 用 jieba 將中文句子斷詞\n",
        "    - 建立字典：取出標籤中出現頻率高於定值的詞\n",
        "  - 特殊字元： < PAD >, < BOS >, < EOS >, < UNK > \n",
        "    - < PAD >  ：無意義，將句子拓展到相同長度\n",
        "    - < BOS >  ：Begin of sentence, 開始字元\n",
        "    - < EOS >  ：End of sentence, 結尾字元\n",
        "    - < UNK > ：單字沒有出現在字典裡的字\n",
        "  - 將字典裡每個 subword (詞) 用一個整數表示，分為英文和中文的字典，方便之後轉為 one-hot vector   \n",
        "\n",
        "- 處理後的檔案:\n",
        "  - 字典：\n",
        "    - int2word_*.json: 將整數轉為文字\n",
        "    ![int2word_en.json](https://i.imgur.com/31E4MdZ.png)\n",
        "    - word2int_*.json: 將文字轉為整數\n",
        "    ![word2int_en.json](https://i.imgur.com/9vI4AS1.png)\n",
        "    - $*$ 分為英文（en）和中文（cn）\n",
        "  \n",
        "  - 訓練資料:\n",
        "    - 不同語言的句子用 TAB ('\\t') 分開\n",
        "    - 字跟字之間用空白分開\n",
        "    ![data](https://i.imgur.com/nSH1fH4.png)\n",
        "\n",
        "\n",
        "- 在將答案傳出去前，在答案開頭加入 \"< BOS >\" 符號，並於答案結尾加入 \"< EOS >\" 符號"
      ]
    },
    {
      "cell_type": "code",
      "metadata": {
        "colab": {
          "base_uri": "https://localhost:8080/"
        },
        "id": "SkoXW6avfjS2",
        "outputId": "fef326d9-d75e-4a96-c311-2b3a09752cdb"
      },
      "source": [
        "import re\n",
        "import json\n",
        "\n",
        "batch_size = 60\n",
        "emb_dim = 256\n",
        "hid_dim = 512\n",
        "n_layers = 3\n",
        "dropout = 0.5\n",
        "learning_rate = 0.00005\n",
        "max_output_len = 50              # 最後輸出句子的最大長度\n",
        "num_steps = 12000                # 總訓練次數\n",
        "store_steps = 300                # 訓練多少次後須儲存模型\n",
        "summary_steps = 300              # 訓練多少次後須檢驗是否有overfitting\n",
        "load_model = False               # 是否需載入模型\n",
        "store_model_path = \"./ckpt\"      # 儲存模型的位置\n",
        "load_model_path = None           # 載入模型的位置 e.g. \"./ckpt/model_{step}\" \n",
        "root = \"./cmn-eng\"          # 資料存放的位置\n",
        "attention = False                # 是否使用 Attention Mechanism\n",
        "set_name = 'training'\n",
        "\n",
        "\n",
        "\n",
        "\n",
        "\n",
        "def get_dictionary(language):\n",
        "    # 載入字典\n",
        "    with open(os.path.join(root, f'word2int_{language}.json'), \"r\") as f:\n",
        "        word2int = json.load(f)\n",
        "    with open(os.path.join(root, f'int2word_{language}.json'), \"r\") as f:\n",
        "        int2word = json.load(f)\n",
        "    return word2int, int2word\n",
        "\n",
        "word2int_cn, int2word_cn = get_dictionary('cn')\n",
        "word2int_en, int2word_en = get_dictionary('en')\n",
        "\n",
        "\n",
        "\n",
        "\n",
        "\n",
        "\n",
        "data = []\n",
        "with open(os.path.join(root, f'{set_name}.txt'), \"r\") as f:\n",
        "    for line in f:\n",
        "        data.append(line)\n",
        "print (f'{set_name} dataset size: {len(data)}')\n",
        "print ('# 现在数据长这样，就是个array，每个element是一行')\n",
        "print (data[0:10])\n",
        "\n",
        "\n",
        "\n",
        "print ('# 载入的dictionary长这样：')\n",
        "a = []\n",
        "for key, item in word2int_cn.items():\n",
        "    a.append((key,item))\n",
        "print(a[:10])\n",
        "a = []\n",
        "for key, item in int2word_cn.items():\n",
        "    a.append((key,item))\n",
        "print(a[:10])\n",
        "a = []\n",
        "for key, item in word2int_en.items():\n",
        "    a.append((key,item))\n",
        "print(a[:10])\n",
        "a = []\n",
        "for key, item in int2word_en.items():\n",
        "    a.append((key,item))\n",
        "print(a[:10])\n",
        "\n",
        "\n",
        "cn_vocab_size = len(word2int_cn)\n",
        "print(cn_vocab_size)\n",
        "en_vocab_size = len(word2int_en)\n",
        "print(en_vocab_size)\n",
        "transform = LabelTransform(max_output_len, word2int_en['<PAD>'])\n",
        "print(word2int_en['<PAD>'])\n",
        "\n",
        "transform = LabelTransform(max_output_len, word2int_en['<PAD>'])\n",
        "\n",
        "# 每一行怎么拆\n",
        "\n",
        "sentences = data[0]\n",
        "sentences = re.split('[\\t\\n]', sentences)\n",
        "sentences = list(filter(None, sentences))\n",
        "#print (sentences)\n",
        "assert len(sentences) == 2\n",
        "print(sentences)\n",
        "\n",
        "\n",
        "# # 預備特殊字元\n",
        "BOS = word2int_en['<BOS>']\n",
        "print(BOS)\n",
        "EOS = word2int_en['<EOS>']\n",
        "print(EOS)\n",
        "UNK = word2int_en['<UNK>']\n",
        "print(UNK)\n",
        "\n",
        "# # 在開頭添加 <BOS>，在結尾添加 <EOS> ，不在字典的 subword (詞) 用 <UNK> 取代\n",
        "en, cn = [BOS], [BOS]\n",
        "# # 將句子拆解為 subword 並轉為整數\n",
        "sentence = re.split(' ', sentences[0])\n",
        "print(sentence)\n",
        "sentence = list(filter(None, sentence))\n",
        "print(sentence)\n",
        "# #print (f'en: {sentence}')\n",
        "for word in sentence:\n",
        "  en.append(word2int_en.get(word, UNK))\n",
        "en.append(EOS)\n",
        "print(en)\n",
        "\n",
        "# # 將句子拆解為單詞並轉為整數\n",
        "# # e.g. < BOS >, we, are, friends, < EOS > --> 1, 28, 29, 205, 2\n",
        "sentence = re.split(' ', sentences[1])\n",
        "print(sentence)\n",
        "sentence = list(filter(None, sentence))\n",
        "print(sentence)\n",
        "#print (f'cn: {sentence}')\n",
        "for word in sentence:\n",
        "  cn.append(word2int_cn.get(word, UNK))\n",
        "cn.append(EOS)\n",
        "print(cn)\n",
        "en, cn = np.asarray(en), np.asarray(cn)\n",
        "print(en)\n",
        "print(cn)\n",
        "# # 用 <PAD> 將句子補到相同長度\n",
        "en, cn = transform(en), transform(cn)\n",
        "print(en)\n",
        "print(cn)\n",
        "en, cn = torch.LongTensor(en), torch.LongTensor(cn)\n",
        "print(en)\n",
        "print(cn)\n",
        "\n",
        "\n",
        "\n",
        "\n",
        "\n"
      ],
      "execution_count": 5,
      "outputs": [
        {
          "output_type": "stream",
          "text": [
            "training dataset size: 18000\n",
            "# 现在数据长这样，就是个array，每个element是一行\n",
            "[\"it 's none of your concern . \\t這不關 你 的 事 。 \\n\", 'she has a habit of bi@@ ting her na@@ ils . \\t她 有 咬 指甲 的 習慣 。 \\n', 'he is a teacher . \\t他 是 老師 。 \\n', 'japan re@@ lies on ar@@ a@@ b countries for oil . \\t日本 靠 阿拉伯 國家 提供 石油 。 \\n', \"i 'll dream about you . \\t我會 夢到 你 的 。 \\n\", \"i borrowed tom 's phone this morning . \\t我 今天 早上 跟 Tom 藉手機 。 \\n\", \"she does n't know how to play golf . \\t她 不 知道 怎麼 打 高爾夫球 。 \\n\", 'tears ro@@ lled down my chee@@ ks . \\t淚水 沿着 我 的 面頰 流 了 下來 。 \\n', \"that 's soft . \\t這 很 軟 。 \\n\", \"do n't open this door , please . \\t請 不要 打開 此門 。 \\n\"]\n",
            "# 载入的dictionary长这样：\n",
            "[('<PAD>', 0), ('<BOS>', 1), ('<EOS>', 2), ('<UNK>', 3), ('。', 4), ('我', 5), ('的', 6), ('了', 7), ('你', 8), ('他', 9)]\n",
            "[('0', '<PAD>'), ('1', '<BOS>'), ('2', '<EOS>'), ('3', '<UNK>'), ('4', '。'), ('5', '我'), ('6', '的'), ('7', '了'), ('8', '你'), ('9', '他')]\n",
            "[('<PAD>', 0), ('<BOS>', 1), ('<EOS>', 2), ('<UNK>', 3), ('.', 4), ('i', 5), ('the', 6), ('to', 7), ('you', 8), ('a', 9)]\n",
            "[('0', '<PAD>'), ('1', '<BOS>'), ('2', '<EOS>'), ('3', '<UNK>'), ('4', '.'), ('5', 'i'), ('6', 'the'), ('7', 'to'), ('8', 'you'), ('9', 'a')]\n",
            "3805\n",
            "3922\n",
            "0\n",
            "[\"it 's none of your concern . \", '這不關 你 的 事 。 ']\n",
            "1\n",
            "2\n",
            "3\n",
            "['it', \"'s\", 'none', 'of', 'your', 'concern', '.', '']\n",
            "['it', \"'s\", 'none', 'of', 'your', 'concern', '.']\n",
            "[1, 17, 18, 722, 19, 32, 2446, 4, 2]\n",
            "['這不關', '你', '的', '事', '。', '']\n",
            "['這不關', '你', '的', '事', '。']\n",
            "[1, 3300, 8, 6, 67, 4, 2]\n",
            "[   1   17   18  722   19   32 2446    4    2]\n",
            "[   1 3300    8    6   67    4    2]\n",
            "[   1   17   18  722   19   32 2446    4    2    0    0    0    0    0\n",
            "    0    0    0    0    0    0    0    0    0    0    0    0    0    0\n",
            "    0    0    0    0    0    0    0    0    0    0    0    0    0    0\n",
            "    0    0    0    0    0    0    0    0]\n",
            "[   1 3300    8    6   67    4    2    0    0    0    0    0    0    0\n",
            "    0    0    0    0    0    0    0    0    0    0    0    0    0    0\n",
            "    0    0    0    0    0    0    0    0    0    0    0    0    0    0\n",
            "    0    0    0    0    0    0    0    0]\n",
            "tensor([   1,   17,   18,  722,   19,   32, 2446,    4,    2,    0,    0,    0,\n",
            "           0,    0,    0,    0,    0,    0,    0,    0,    0,    0,    0,    0,\n",
            "           0,    0,    0,    0,    0,    0,    0,    0,    0,    0,    0,    0,\n",
            "           0,    0,    0,    0,    0,    0,    0,    0,    0,    0,    0,    0,\n",
            "           0,    0])\n",
            "tensor([   1, 3300,    8,    6,   67,    4,    2,    0,    0,    0,    0,    0,\n",
            "           0,    0,    0,    0,    0,    0,    0,    0,    0,    0,    0,    0,\n",
            "           0,    0,    0,    0,    0,    0,    0,    0,    0,    0,    0,    0,\n",
            "           0,    0,    0,    0,    0,    0,    0,    0,    0,    0,    0,    0,\n",
            "           0,    0])\n"
          ],
          "name": "stdout"
        }
      ]
    },
    {
      "cell_type": "code",
      "metadata": {
        "id": "8uypors6r4zD"
      },
      "source": [
        "# 英文：\n",
        "# 用 subword-nmt 套件將word轉為subword\n",
        "# 建立字典：取出標籤中出現頻率高於定值的subword\n",
        "# 中文：\n",
        "# 用 jieba 將中文句子斷詞\n",
        "# 建立字典：取出標籤中出現頻率高於定值的詞\n",
        "# 將字典裡每個 subword (詞) 用一個整數表示，分為英文和中文的字典，方便之後轉為 one-hot vector\n",
        "# 什么是subword\n",
        "# 中文句子断词后是什么样子？\n",
        "# 这两步都没在notebook里包含，是之前做的\n",
        "\n",
        "# 这一块儿主要就是建一个dataset class能一会儿用来load data\n",
        "# 然后把文本里的raw data转换成pytorch tensors\n",
        "# 每组是两个句子，一个是input句子，一个是output句子\n",
        "# 每个句子里的每一个字都换成数字，然后句子前后都加上标注开始和结尾的数字，然后再把每个句子pad到一样长\n",
        "\n",
        "\n",
        "# 为什么要转变成one-hot vector，不用word embedding？\n",
        "\n",
        "\n",
        "import re\n",
        "import json\n",
        "\n",
        "class EN2CNDataset(data.Dataset):\n",
        "  def __init__(self, root, max_output_len, set_name):\n",
        "    self.root = root\n",
        "\n",
        "    self.word2int_cn, self.int2word_cn = self.get_dictionary('cn')\n",
        "    self.word2int_en, self.int2word_en = self.get_dictionary('en')\n",
        "\n",
        "    # 載入資料\n",
        "    self.data = []\n",
        "    with open(os.path.join(self.root, f'{set_name}.txt'), \"r\") as f:\n",
        "      for line in f:\n",
        "        self.data.append(line)\n",
        "    print (f'{set_name} dataset size: {len(self.data)}')\n",
        "\n",
        "    self.cn_vocab_size = len(self.word2int_cn)\n",
        "    self.en_vocab_size = len(self.word2int_en)\n",
        "    self.transform = LabelTransform(max_output_len, self.word2int_en['<PAD>'])\n",
        "\n",
        "  def get_dictionary(self, language):\n",
        "    # 載入字典\n",
        "    with open(os.path.join(self.root, f'word2int_{language}.json'), \"r\") as f:\n",
        "      word2int = json.load(f)\n",
        "    with open(os.path.join(self.root, f'int2word_{language}.json'), \"r\") as f:\n",
        "      int2word = json.load(f)\n",
        "    return word2int, int2word\n",
        "\n",
        "  def __len__(self):\n",
        "    return len(self.data)\n",
        "\n",
        "  def __getitem__(self, Index):\n",
        "    # 先將中英文分開\n",
        "    sentences = self.data[Index]\n",
        "    sentences = re.split('[\\t\\n]', sentences)\n",
        "    sentences = list(filter(None, sentences))\n",
        "    #print (sentences)\n",
        "    assert len(sentences) == 2\n",
        "\n",
        "    # 預備特殊字元\n",
        "    BOS = self.word2int_en['<BOS>']\n",
        "    EOS = self.word2int_en['<EOS>']\n",
        "    UNK = self.word2int_en['<UNK>']\n",
        "\n",
        "    # 在開頭添加 <BOS>，在結尾添加 <EOS> ，不在字典的 subword (詞) 用 <UNK> 取代\n",
        "    en, cn = [BOS], [BOS]\n",
        "    # 將句子拆解為 subword 並轉為整數\n",
        "    sentence = re.split(' ', sentences[0])\n",
        "    sentence = list(filter(None, sentence))\n",
        "    #print (f'en: {sentence}')\n",
        "    for word in sentence:\n",
        "      en.append(self.word2int_en.get(word, UNK))\n",
        "    en.append(EOS)\n",
        "\n",
        "    # 將句子拆解為單詞並轉為整數\n",
        "    # e.g. < BOS >, we, are, friends, < EOS > --> 1, 28, 29, 205, 2\n",
        "    sentence = re.split(' ', sentences[1])\n",
        "    sentence = list(filter(None, sentence))\n",
        "    #print (f'cn: {sentence}')\n",
        "    for word in sentence:\n",
        "      cn.append(self.word2int_cn.get(word, UNK))\n",
        "    cn.append(EOS)\n",
        "\n",
        "    en, cn = np.asarray(en), np.asarray(cn)\n",
        "\n",
        "    # 用 <PAD> 將句子補到相同長度\n",
        "    en, cn = self.transform(en), self.transform(cn)\n",
        "    en, cn = torch.LongTensor(en), torch.LongTensor(cn)\n",
        "\n",
        "    return en, cn\n"
      ],
      "execution_count": 8,
      "outputs": []
    },
    {
      "cell_type": "markdown",
      "metadata": {
        "id": "WJIsNSRCyNA9"
      },
      "source": [
        "# 模型架構"
      ]
    },
    {
      "cell_type": "markdown",
      "metadata": {
        "id": "3p1ZcU5HyO73"
      },
      "source": [
        "## Encoder\n",
        "- seq2seq模型的編碼器為RNN。 對於每個輸入，，**Encoder** 會輸出**一個向量**和**一個隱藏狀態(hidden state)**，並將隱藏狀態用於下一個輸入，換句話說，**Encoder** 會逐步讀取輸入序列，並輸出單個矢量（最終隱藏狀態）\n",
        "- 參數:\n",
        "  - en_vocab_size 是英文字典的大小，也就是英文的 subword 的個數\n",
        "  - emb_dim 是 embedding 的維度，主要將 one-hot vector 的單詞向量壓縮到指定的維度，主要是為了降維和濃縮資訊的功用，可以使用預先訓練好的 word embedding，如 Glove 和 word2vector\n",
        "  - hid_dim 是 RNN 輸出和隱藏狀態的維度\n",
        "  - n_layers 是 RNN 要疊多少層\n",
        "  - dropout 是決定有多少的機率會將某個節點變為 0，主要是為了防止 overfitting ，一般來說是在訓練時使用，測試時則不使用\n",
        "- Encoder 的輸入和輸出:\n",
        "  - 輸入: \n",
        "    - 英文的整數序列 e.g. 1, 28, 29, 205, 2\n",
        "  - 輸出: \n",
        "    - outputs: 最上層 RNN 全部的輸出，可以用 Attention 再進行處理\n",
        "    - hidden: 每層最後的隱藏狀態，將傳遞到 Decoder 進行解碼\n"
      ]
    },
    {
      "cell_type": "code",
      "metadata": {
        "id": "l6uNIKqvgb9J"
      },
      "source": [
        "# embedding layer里面的weight是哪儿来的？是有default吗，但是如果有default的话，它的row index也应该跟input里面的数字对应吧。input里面每一个数字都是自己做的字典中字的index\n",
        "# 如果没有强制用word2vector或者Glove的话，embedding layer会被随机生成，然后跟model之后一起被train。上个作业中就是强制用了word2vec，然后设定了embedding layer不会一起被train\n",
        "# GRU是什么model，知道它应该类似LSTM. 是gated recurrent neural network\n",
        "# 如果GRU里面设置了bidirectional = True的话那RNN出来的output会是原来的两倍。shape变了。以前是[a,b,c] 现在是[a,b,2c]\n",
        "# 这里nn.GRU里emb_dim和hid_dim有什么影响？没什么影响，emb_dim指的是每个字用几个数字来表示，hid_dim是经过RNN后每个字用几个数字来表示\n",
        "\n",
        "class Encoder(nn.Module):\n",
        "  def __init__(self, en_vocab_size, emb_dim, hid_dim, n_layers, dropout):\n",
        "    super().__init__()\n",
        "    self.embedding = nn.Embedding(en_vocab_size, emb_dim)\n",
        "    self.hid_dim = hid_dim\n",
        "    self.n_layers = n_layers\n",
        "    self.rnn = nn.GRU(emb_dim, hid_dim, n_layers, dropout=dropout, batch_first=True, bidirectional=True)\n",
        "    self.dropout = nn.Dropout(dropout)\n",
        "\n",
        "# input 的shape只有[batch size, sequence len]吧 跟后面decoder的一样\n",
        "  def forward(self, input):\n",
        "    # input = [batch size, sequence len, vocab size]\n",
        "    embedding = self.embedding(input)\n",
        "    outputs, hidden = self.rnn(self.dropout(embedding))\n",
        "    # outputs = [batch size, sequence len, hid dim * directions]\n",
        "    # hidden =  [num_layers * directions, batch size  , hid dim]\n",
        "    # outputs 是最上層RNN的輸出\n",
        "        \n",
        "    return outputs, hidden\n"
      ],
      "execution_count": 9,
      "outputs": []
    },
    {
      "cell_type": "code",
      "metadata": {
        "id": "9xSYFIDYJsOg",
        "colab": {
          "base_uri": "https://localhost:8080/"
        },
        "outputId": "ffa83c3d-b176-4134-e5c9-da13934cddb8"
      },
      "source": [
        "a = Encoder(2447,10,3,3,0.1)\n",
        "\n",
        "# 这个run不了\n",
        "# a(en) \n",
        "\n",
        "# 这个可以run\n",
        "print(en.shape)\n",
        "a.embedding(en)\n",
        "outputs, hidden = a(torch.reshape(en,(1,50)))\n",
        "outputs.shape\n",
        "\n",
        "# 因为embedding layer不在乎input的shape，只要input里没有超出embedding layer中设定好的词典数目的数字就好，\n",
        "# 不能run主要是因为encoder里面的RNN部分，有对于shape的要求，必须至少是三维的 \n",
        "\n"
      ],
      "execution_count": 10,
      "outputs": [
        {
          "output_type": "stream",
          "text": [
            "torch.Size([50])\n"
          ],
          "name": "stdout"
        },
        {
          "output_type": "execute_result",
          "data": {
            "text/plain": [
              "torch.Size([1, 50, 6])"
            ]
          },
          "metadata": {
            "tags": []
          },
          "execution_count": 10
        }
      ]
    },
    {
      "cell_type": "markdown",
      "metadata": {
        "id": "5maDs7wpyRE3"
      },
      "source": [
        "## Decoder\n",
        "- **Decoder** 是另一個 RNN，在最簡單的 seq2seq decoder 中，僅使用 **Encoder** 每一層最後的隱藏狀態來進行解碼，而這最後的隱藏狀態有時被稱為 “content vector”，因為可以想像它對整個前文序列進行編碼， 此 “content vector” 用作 **Decoder** 的**初始**隱藏狀態， 而 **Encoder** 的輸出通常用於 Attention Mechanism\n",
        "- 參數\n",
        "  - en_vocab_size 是英文字典的大小，也就是英文的 subword 的個數\n",
        "  - emb_dim 是 embedding 的維度，是用來將 one-hot vector 的單詞向量壓縮到指定的維度，主要是為了降維和濃縮資訊的功用，可以使用預先訓練好的 word embedding，如 Glove 和 word2vector\n",
        "  - hid_dim 是 RNN 輸出和隱藏狀態的維度\n",
        "  - output_dim 是最終輸出的維度，一般來說是將 hid_dim 轉到 one-hot vector 的單詞向量\n",
        "  - n_layers 是 RNN 要疊多少層\n",
        "  - dropout 是決定有多少的機率會將某個節點變為0，主要是為了防止 overfitting ，一般來說是在訓練時使用，測試時則不用\n",
        "  - isatt 是來決定是否使用 Attention Mechanism\n",
        "\n",
        "- Decoder 的輸入和輸出:\n",
        "  - 輸入:\n",
        "    - 前一次解碼出來的單詞的整數表示\n",
        "  - 輸出:\n",
        "    - hidden: 根據輸入和前一次的隱藏狀態，現在的隱藏狀態更新的結果\n",
        "    - output: 每個字有多少機率是這次解碼的結果"
      ]
    },
    {
      "cell_type": "code",
      "metadata": {
        "colab": {
          "base_uri": "https://localhost:8080/",
          "height": 371
        },
        "id": "dEO9cA8z6Jks",
        "outputId": "060adc77-f873-417a-b401-084ca0863711"
      },
      "source": [
        "print(en)\n",
        "a = Encoder(2447,10,3,7,0.1)\n",
        "# （en_vocab_size, emb_dim, hid_dim, n_layers, dropout)\n",
        "outputs, hidden = a(torch.reshape(en,(50,1)))\n",
        "print(outputs.shape)\n",
        "print(hidden.shape)\n",
        "print(torch.mm(outputs.view(50,-1),hidden.view(50,-1)))\n",
        "# print(outputs)\n",
        "# print(hidden)"
      ],
      "execution_count": 11,
      "outputs": [
        {
          "output_type": "stream",
          "text": [
            "tensor([   1,   17,   18,  722,   19,   32, 2446,    4,    2,    0,    0,    0,\n",
            "           0,    0,    0,    0,    0,    0,    0,    0,    0,    0,    0,    0,\n",
            "           0,    0,    0,    0,    0,    0,    0,    0,    0,    0,    0,    0,\n",
            "           0,    0,    0,    0,    0,    0,    0,    0,    0,    0,    0,    0,\n",
            "           0,    0])\n",
            "torch.Size([50, 1, 6])\n",
            "torch.Size([14, 50, 3])\n"
          ],
          "name": "stdout"
        },
        {
          "output_type": "error",
          "ename": "RuntimeError",
          "evalue": "ignored",
          "traceback": [
            "\u001b[0;31m---------------------------------------------------------------------------\u001b[0m",
            "\u001b[0;31mRuntimeError\u001b[0m                              Traceback (most recent call last)",
            "\u001b[0;32m<ipython-input-11-7b3ba5dedf60>\u001b[0m in \u001b[0;36m<module>\u001b[0;34m()\u001b[0m\n\u001b[1;32m      5\u001b[0m \u001b[0mprint\u001b[0m\u001b[0;34m(\u001b[0m\u001b[0moutputs\u001b[0m\u001b[0;34m.\u001b[0m\u001b[0mshape\u001b[0m\u001b[0;34m)\u001b[0m\u001b[0;34m\u001b[0m\u001b[0;34m\u001b[0m\u001b[0m\n\u001b[1;32m      6\u001b[0m \u001b[0mprint\u001b[0m\u001b[0;34m(\u001b[0m\u001b[0mhidden\u001b[0m\u001b[0;34m.\u001b[0m\u001b[0mshape\u001b[0m\u001b[0;34m)\u001b[0m\u001b[0;34m\u001b[0m\u001b[0;34m\u001b[0m\u001b[0m\n\u001b[0;32m----> 7\u001b[0;31m \u001b[0mprint\u001b[0m\u001b[0;34m(\u001b[0m\u001b[0mtorch\u001b[0m\u001b[0;34m.\u001b[0m\u001b[0mmm\u001b[0m\u001b[0;34m(\u001b[0m\u001b[0moutputs\u001b[0m\u001b[0;34m.\u001b[0m\u001b[0mview\u001b[0m\u001b[0;34m(\u001b[0m\u001b[0;36m50\u001b[0m\u001b[0;34m,\u001b[0m\u001b[0;34m-\u001b[0m\u001b[0;36m1\u001b[0m\u001b[0;34m)\u001b[0m\u001b[0;34m,\u001b[0m\u001b[0mhidden\u001b[0m\u001b[0;34m.\u001b[0m\u001b[0mview\u001b[0m\u001b[0;34m(\u001b[0m\u001b[0;36m50\u001b[0m\u001b[0;34m,\u001b[0m\u001b[0;34m-\u001b[0m\u001b[0;36m1\u001b[0m\u001b[0;34m)\u001b[0m\u001b[0;34m)\u001b[0m\u001b[0;34m)\u001b[0m\u001b[0;34m\u001b[0m\u001b[0;34m\u001b[0m\u001b[0m\n\u001b[0m\u001b[1;32m      8\u001b[0m \u001b[0;31m# print(outputs)\u001b[0m\u001b[0;34m\u001b[0m\u001b[0;34m\u001b[0m\u001b[0;34m\u001b[0m\u001b[0m\n\u001b[1;32m      9\u001b[0m \u001b[0;31m# print(hidden)\u001b[0m\u001b[0;34m\u001b[0m\u001b[0;34m\u001b[0m\u001b[0;34m\u001b[0m\u001b[0m\n",
            "\u001b[0;31mRuntimeError\u001b[0m: mat1 and mat2 shapes cannot be multiplied (50x6 and 50x42)"
          ]
        }
      ]
    },
    {
      "cell_type": "code",
      "metadata": {
        "id": "QTXRCkoug3ut"
      },
      "source": [
        "\n",
        "# 这儿为什么有embedding layer？\n",
        "# decoder吃什么，不是吃encoder吐出来的？不光是\n",
        "# attention mechanism在这儿干什么，什么意思\n",
        "# https://lena-voita.github.io/nlp_course/seq2seq_and_attention.html\n",
        "# encoder最后的output貌似是对每一句的\n",
        "\n",
        "class Decoder(nn.Module):\n",
        "  def __init__(self, cn_vocab_size, emb_dim, hid_dim, n_layers, dropout, isatt):\n",
        "    super().__init__()\n",
        "    self.cn_vocab_size = cn_vocab_size\n",
        "    self.hid_dim = hid_dim * 2\n",
        "    self.n_layers = n_layers\n",
        "    self.embedding = nn.Embedding(cn_vocab_size, config.emb_dim)\n",
        "    self.isatt = isatt\n",
        "    self.attention = Attention(hid_dim)\n",
        "    # 如果使用 Attention Mechanism 會使得輸入維度變化，請在這裡修改\n",
        "    # e.g. Attention 接在輸入後面會使得維度變化，所以輸入維度改為\n",
        "    # self.input_dim = emb_dim + hid_dim * 2 if isatt else emb_dim\n",
        "    self.input_dim = emb_dim\n",
        "    self.rnn = nn.GRU(self.input_dim, self.hid_dim, self.n_layers, dropout = dropout, batch_first=True)\n",
        "    self.embedding2vocab1 = nn.Linear(self.hid_dim, self.hid_dim * 2)\n",
        "    self.embedding2vocab2 = nn.Linear(self.hid_dim * 2, self.hid_dim * 4)\n",
        "    self.embedding2vocab3 = nn.Linear(self.hid_dim * 4, self.cn_vocab_size)\n",
        "    self.dropout = nn.Dropout(dropout)\n",
        "\n",
        "# 什么是unsqueeze\n",
        "# 就是在指定维度在多加一维度\n",
        "# 比如shape是[5]的 unsqueeze(0) 就成了[1,5], unsqueeze(1) 就成了[5,1]\n",
        "# 所以这里的hidden就是encoder吐出来的hidden？\n",
        "# encoder_outputs和attn在这里有什么用？\n",
        "# 通过decoder里的RNN后有个从embedding恢复出来的步骤。大概意思就是以前每个字是几个数字表示，现在变成一个数字\n",
        "\n",
        "  def forward(self, input, hidden, encoder_outputs):\n",
        "    # input = [batch size, vocab size]\n",
        "    # hidden = [batch size, n layers * directions, hid dim]\n",
        "    # Decoder 只會是單向，所以 directions=1\n",
        "    input = input.unsqueeze(1)\n",
        "    embedded = self.dropout(self.embedding(input))\n",
        "    # embedded = [batch size, 1, emb dim]\n",
        "\n",
        "    # 在这儿要干嘛？这里的attention指的是什么？是attention weights？是atention applied\n",
        "    # 所以这里的self.attention是指怎么用encoder的output和decoder的output做\n",
        "    if self.isatt:\n",
        "      attn = self.attention(encoder_outputs, hidden)\n",
        "      # TODO: 在這裡決定如何使用 Attention，e.g. 相加 或是 接在後面， 請注意維度變化\n",
        "      embedded = embedded + attn\n",
        "    output, hidden = self.rnn(embedded, hidden)\n",
        "    # output = [batch size, 1, hid dim]\n",
        "    # hidden = [num_layers, batch size, hid dim]\n",
        "\n",
        "    # 將 RNN 的輸出轉為每個詞出現的機率\n",
        "    output = self.embedding2vocab1(output.squeeze(1))\n",
        "    output = self.embedding2vocab2(output)\n",
        "    prediction = self.embedding2vocab3(output)\n",
        "    # prediction = [batch size, vocab size]\n",
        "    return prediction, hidden\n",
        "\n"
      ],
      "execution_count": 101,
      "outputs": []
    },
    {
      "cell_type": "markdown",
      "metadata": {
        "id": "faboaaSJAcpE"
      },
      "source": [
        "## Attention\n",
        "- 當輸入過長，或是單獨靠 “content vector” 無法取得整個輸入的意思時，用 Attention Mechanism 來提供 **Decoder** 更多的資訊\n",
        "- 主要是根據現在 **Decoder hidden state** ，去計算在 **Encoder outputs** 中，那些與其有較高的關係，根據關系的數值來決定該傳給 **Decoder** 那些額外資訊 \n",
        "- 常見 Attention 的實作是用 Neural Network / Dot Product 來算 **Decoder hidden state** 和 **Encoder outputs** 之間的關係，再對所有算出來的數值做 **softmax** ，最後根據過完 **softmax** 的值對 **Encoder outputs** 做 **weight sum**\n",
        "\n",
        "- TODO:\n",
        "實作 Attention Mechanism"
      ]
    },
    {
      "cell_type": "markdown",
      "metadata": {
        "id": "gHoQIs6TFqAt"
      },
      "source": [
        "![image.png](data:image/png;base64,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)"
      ]
    },
    {
      "cell_type": "code",
      "metadata": {
        "id": "d52g2uFTFZ3w"
      },
      "source": [
        ""
      ],
      "execution_count": null,
      "outputs": []
    },
    {
      "cell_type": "markdown",
      "metadata": {
        "id": "JolFblBFFaTH"
      },
      "source": [
        ""
      ]
    },
    {
      "cell_type": "code",
      "metadata": {
        "colab": {
          "base_uri": "https://localhost:8080/"
        },
        "id": "7DmaCi5y_rW6",
        "outputId": "22ac6e86-44d6-4d48-f9fe-8485e9396fe2"
      },
      "source": [
        "# 我真是服了，到底是什么乘什么？有的说是encoder output 乘以 decoder output，有的说是encoder output乘以decoder hidden state\n",
        "# 命名真的这么casual吗\n",
        "# 如何把hidden和output乘起来？\n",
        "# 为什么hidden和output的shape会是这样？\n",
        "# https://stackoverflow.com/questions/62618222/luong-style-attention-mechanism-with-dot-and-general-scoring-functions-in-keras\n",
        "\n",
        "print(en)\n",
        "\n",
        "# （en_vocab_size, emb_dim, hid_dim, n_layers, dropout)\n",
        "a = Encoder(2447,10,3,7,0.1)\n",
        "\n",
        "outputs, hidden = a(torch.reshape(en,(1,50)))\n",
        "print(outputs.shape)\n",
        "print(hidden.shape)\n",
        "print(hidden.view(1,6,-1).shape)\n",
        "# print(hidden.view(1,-1,1).shape)\n",
        "# print(outputs.view(1,-1,1).shape)\n",
        "print(outputs.bmm(hidden.view(1,6,-1)).shape)\n",
        "print(F.softmax(outputs.bmm(hidden.view(1,6,-1)),dim=1))\n",
        "print(F.softmax(outputs.bmm(hidden.view(1,6,-1)),dim=1)*)\n",
        "# print(cn)\n",
        "# print(outputs.bmm(hidden.view(1,6,-1)).squeeze(2).shape)\n",
        "# outputs2 = outputs.\n",
        "\n",
        "# attention_weights\n",
        "\n",
        "# print(outputs.reshape())\n",
        "# print(hidden)\n",
        "\n",
        "# https://lena-voita.github.io/nlp_course/seq2seq_and_attention.html\n",
        "# 所以attention就是个数字，scalar，看之后是加还是乘还是怎么样\n",
        "# attention 是attention input和attention weights的weighted sum\n"
      ],
      "execution_count": 56,
      "outputs": [
        {
          "output_type": "stream",
          "text": [
            "tensor([   1,   17,   18,  722,   19,   32, 2446,    4,    2,    0,    0,    0,\n",
            "           0,    0,    0,    0,    0,    0,    0,    0,    0,    0,    0,    0,\n",
            "           0,    0,    0,    0,    0,    0,    0,    0,    0,    0,    0,    0,\n",
            "           0,    0,    0,    0,    0,    0,    0,    0,    0,    0,    0,    0,\n",
            "           0,    0])\n",
            "torch.Size([1, 50, 6])\n",
            "torch.Size([14, 1, 3])\n",
            "torch.Size([1, 6, 7])\n",
            "torch.Size([1, 50, 7])\n",
            "tensor([[[0.0235, 0.0172, 0.0160, 0.0255, 0.0214, 0.0223, 0.0197],\n",
            "         [0.0230, 0.0177, 0.0174, 0.0216, 0.0192, 0.0248, 0.0207],\n",
            "         [0.0212, 0.0192, 0.0193, 0.0192, 0.0179, 0.0233, 0.0206],\n",
            "         [0.0206, 0.0195, 0.0195, 0.0195, 0.0186, 0.0230, 0.0213],\n",
            "         [0.0202, 0.0198, 0.0200, 0.0190, 0.0188, 0.0227, 0.0214],\n",
            "         [0.0203, 0.0201, 0.0202, 0.0188, 0.0193, 0.0219, 0.0210],\n",
            "         [0.0206, 0.0206, 0.0207, 0.0182, 0.0198, 0.0209, 0.0203],\n",
            "         [0.0211, 0.0201, 0.0200, 0.0191, 0.0212, 0.0168, 0.0167],\n",
            "         [0.0191, 0.0188, 0.0179, 0.0243, 0.0223, 0.0216, 0.0231],\n",
            "         [0.0195, 0.0190, 0.0174, 0.0269, 0.0250, 0.0212, 0.0244],\n",
            "         [0.0214, 0.0185, 0.0183, 0.0208, 0.0199, 0.0253, 0.0225],\n",
            "         [0.0205, 0.0204, 0.0195, 0.0196, 0.0192, 0.0220, 0.0213],\n",
            "         [0.0203, 0.0209, 0.0200, 0.0193, 0.0199, 0.0213, 0.0213],\n",
            "         [0.0203, 0.0215, 0.0210, 0.0175, 0.0189, 0.0205, 0.0201],\n",
            "         [0.0211, 0.0221, 0.0198, 0.0207, 0.0225, 0.0147, 0.0168],\n",
            "         [0.0202, 0.0207, 0.0203, 0.0196, 0.0221, 0.0184, 0.0195],\n",
            "         [0.0201, 0.0218, 0.0224, 0.0159, 0.0213, 0.0183, 0.0184],\n",
            "         [0.0211, 0.0216, 0.0223, 0.0163, 0.0207, 0.0133, 0.0137],\n",
            "         [0.0209, 0.0199, 0.0206, 0.0193, 0.0234, 0.0133, 0.0142],\n",
            "         [0.0201, 0.0181, 0.0190, 0.0226, 0.0256, 0.0148, 0.0160],\n",
            "         [0.0208, 0.0173, 0.0174, 0.0238, 0.0219, 0.0224, 0.0211],\n",
            "         [0.0200, 0.0192, 0.0192, 0.0215, 0.0208, 0.0200, 0.0203],\n",
            "         [0.0193, 0.0188, 0.0206, 0.0183, 0.0181, 0.0221, 0.0204],\n",
            "         [0.0189, 0.0190, 0.0201, 0.0196, 0.0184, 0.0220, 0.0212],\n",
            "         [0.0195, 0.0192, 0.0195, 0.0206, 0.0199, 0.0223, 0.0220],\n",
            "         [0.0192, 0.0191, 0.0199, 0.0194, 0.0190, 0.0235, 0.0223],\n",
            "         [0.0194, 0.0193, 0.0189, 0.0219, 0.0210, 0.0226, 0.0232],\n",
            "         [0.0193, 0.0191, 0.0189, 0.0224, 0.0216, 0.0227, 0.0236],\n",
            "         [0.0210, 0.0191, 0.0181, 0.0228, 0.0210, 0.0240, 0.0234],\n",
            "         [0.0196, 0.0203, 0.0205, 0.0178, 0.0174, 0.0224, 0.0210],\n",
            "         [0.0189, 0.0204, 0.0198, 0.0194, 0.0178, 0.0221, 0.0219],\n",
            "         [0.0185, 0.0204, 0.0190, 0.0225, 0.0194, 0.0205, 0.0225],\n",
            "         [0.0176, 0.0198, 0.0202, 0.0202, 0.0174, 0.0218, 0.0225],\n",
            "         [0.0185, 0.0203, 0.0186, 0.0241, 0.0212, 0.0206, 0.0236],\n",
            "         [0.0185, 0.0199, 0.0200, 0.0209, 0.0197, 0.0211, 0.0224],\n",
            "         [0.0184, 0.0197, 0.0200, 0.0206, 0.0191, 0.0215, 0.0223],\n",
            "         [0.0184, 0.0196, 0.0196, 0.0215, 0.0194, 0.0213, 0.0225],\n",
            "         [0.0183, 0.0193, 0.0197, 0.0210, 0.0189, 0.0225, 0.0231],\n",
            "         [0.0182, 0.0193, 0.0193, 0.0226, 0.0201, 0.0224, 0.0241],\n",
            "         [0.0194, 0.0190, 0.0205, 0.0161, 0.0162, 0.0276, 0.0224],\n",
            "         [0.0198, 0.0206, 0.0199, 0.0191, 0.0180, 0.0217, 0.0211],\n",
            "         [0.0202, 0.0212, 0.0203, 0.0191, 0.0192, 0.0200, 0.0203],\n",
            "         [0.0202, 0.0217, 0.0219, 0.0161, 0.0177, 0.0195, 0.0186],\n",
            "         [0.0213, 0.0221, 0.0207, 0.0177, 0.0198, 0.0145, 0.0149],\n",
            "         [0.0200, 0.0214, 0.0193, 0.0216, 0.0213, 0.0165, 0.0186],\n",
            "         [0.0200, 0.0220, 0.0216, 0.0177, 0.0193, 0.0160, 0.0170],\n",
            "         [0.0208, 0.0225, 0.0218, 0.0174, 0.0198, 0.0124, 0.0135],\n",
            "         [0.0198, 0.0216, 0.0218, 0.0185, 0.0198, 0.0134, 0.0149],\n",
            "         [0.0206, 0.0216, 0.0233, 0.0184, 0.0213, 0.0101, 0.0120],\n",
            "         [0.0203, 0.0196, 0.0279, 0.0137, 0.0182, 0.0104, 0.0103]]],\n",
            "       grad_fn=<SoftmaxBackward>)\n",
            "tensor([[0.1455, 0.1444, 0.1406, 0.1421, 0.1419, 0.1417, 0.1411, 0.1350, 0.1472,\n",
            "         0.1535, 0.1467, 0.1425, 0.1429, 0.1397, 0.1377, 0.1408, 0.1382, 0.1291,\n",
            "         0.1316, 0.1363, 0.1447, 0.1411, 0.1376, 0.1392, 0.1430, 0.1422, 0.1464,\n",
            "         0.1475, 0.1494, 0.1391, 0.1404, 0.1428, 0.1395, 0.1469, 0.1424, 0.1414,\n",
            "         0.1423, 0.1429, 0.1460, 0.1412, 0.1403, 0.1403, 0.1358, 0.1311, 0.1387,\n",
            "         0.1336, 0.1281, 0.1298, 0.1273, 0.1204]], grad_fn=<SumBackward1>)\n"
          ],
          "name": "stdout"
        }
      ]
    },
    {
      "cell_type": "code",
      "metadata": {
        "colab": {
          "base_uri": "https://localhost:8080/"
        },
        "id": "NkIeacDY06-X",
        "outputId": "22ac6e86-44d6-4d48-f9fe-8485e9396fe2"
      },
      "source": [
        ""
      ],
      "execution_count": null,
      "outputs": [
        {
          "output_type": "stream",
          "text": [
            "tensor([   1,   17,   18,  722,   19,   32, 2446,    4,    2,    0,    0,    0,\n",
            "           0,    0,    0,    0,    0,    0,    0,    0,    0,    0,    0,    0,\n",
            "           0,    0,    0,    0,    0,    0,    0,    0,    0,    0,    0,    0,\n",
            "           0,    0,    0,    0,    0,    0,    0,    0,    0,    0,    0,    0,\n",
            "           0,    0])\n",
            "torch.Size([1, 50, 6])\n",
            "torch.Size([14, 1, 3])\n",
            "torch.Size([1, 6, 7])\n",
            "torch.Size([1, 50, 7])\n",
            "tensor([[[0.0235, 0.0172, 0.0160, 0.0255, 0.0214, 0.0223, 0.0197],\n",
            "         [0.0230, 0.0177, 0.0174, 0.0216, 0.0192, 0.0248, 0.0207],\n",
            "         [0.0212, 0.0192, 0.0193, 0.0192, 0.0179, 0.0233, 0.0206],\n",
            "         [0.0206, 0.0195, 0.0195, 0.0195, 0.0186, 0.0230, 0.0213],\n",
            "         [0.0202, 0.0198, 0.0200, 0.0190, 0.0188, 0.0227, 0.0214],\n",
            "         [0.0203, 0.0201, 0.0202, 0.0188, 0.0193, 0.0219, 0.0210],\n",
            "         [0.0206, 0.0206, 0.0207, 0.0182, 0.0198, 0.0209, 0.0203],\n",
            "         [0.0211, 0.0201, 0.0200, 0.0191, 0.0212, 0.0168, 0.0167],\n",
            "         [0.0191, 0.0188, 0.0179, 0.0243, 0.0223, 0.0216, 0.0231],\n",
            "         [0.0195, 0.0190, 0.0174, 0.0269, 0.0250, 0.0212, 0.0244],\n",
            "         [0.0214, 0.0185, 0.0183, 0.0208, 0.0199, 0.0253, 0.0225],\n",
            "         [0.0205, 0.0204, 0.0195, 0.0196, 0.0192, 0.0220, 0.0213],\n",
            "         [0.0203, 0.0209, 0.0200, 0.0193, 0.0199, 0.0213, 0.0213],\n",
            "         [0.0203, 0.0215, 0.0210, 0.0175, 0.0189, 0.0205, 0.0201],\n",
            "         [0.0211, 0.0221, 0.0198, 0.0207, 0.0225, 0.0147, 0.0168],\n",
            "         [0.0202, 0.0207, 0.0203, 0.0196, 0.0221, 0.0184, 0.0195],\n",
            "         [0.0201, 0.0218, 0.0224, 0.0159, 0.0213, 0.0183, 0.0184],\n",
            "         [0.0211, 0.0216, 0.0223, 0.0163, 0.0207, 0.0133, 0.0137],\n",
            "         [0.0209, 0.0199, 0.0206, 0.0193, 0.0234, 0.0133, 0.0142],\n",
            "         [0.0201, 0.0181, 0.0190, 0.0226, 0.0256, 0.0148, 0.0160],\n",
            "         [0.0208, 0.0173, 0.0174, 0.0238, 0.0219, 0.0224, 0.0211],\n",
            "         [0.0200, 0.0192, 0.0192, 0.0215, 0.0208, 0.0200, 0.0203],\n",
            "         [0.0193, 0.0188, 0.0206, 0.0183, 0.0181, 0.0221, 0.0204],\n",
            "         [0.0189, 0.0190, 0.0201, 0.0196, 0.0184, 0.0220, 0.0212],\n",
            "         [0.0195, 0.0192, 0.0195, 0.0206, 0.0199, 0.0223, 0.0220],\n",
            "         [0.0192, 0.0191, 0.0199, 0.0194, 0.0190, 0.0235, 0.0223],\n",
            "         [0.0194, 0.0193, 0.0189, 0.0219, 0.0210, 0.0226, 0.0232],\n",
            "         [0.0193, 0.0191, 0.0189, 0.0224, 0.0216, 0.0227, 0.0236],\n",
            "         [0.0210, 0.0191, 0.0181, 0.0228, 0.0210, 0.0240, 0.0234],\n",
            "         [0.0196, 0.0203, 0.0205, 0.0178, 0.0174, 0.0224, 0.0210],\n",
            "         [0.0189, 0.0204, 0.0198, 0.0194, 0.0178, 0.0221, 0.0219],\n",
            "         [0.0185, 0.0204, 0.0190, 0.0225, 0.0194, 0.0205, 0.0225],\n",
            "         [0.0176, 0.0198, 0.0202, 0.0202, 0.0174, 0.0218, 0.0225],\n",
            "         [0.0185, 0.0203, 0.0186, 0.0241, 0.0212, 0.0206, 0.0236],\n",
            "         [0.0185, 0.0199, 0.0200, 0.0209, 0.0197, 0.0211, 0.0224],\n",
            "         [0.0184, 0.0197, 0.0200, 0.0206, 0.0191, 0.0215, 0.0223],\n",
            "         [0.0184, 0.0196, 0.0196, 0.0215, 0.0194, 0.0213, 0.0225],\n",
            "         [0.0183, 0.0193, 0.0197, 0.0210, 0.0189, 0.0225, 0.0231],\n",
            "         [0.0182, 0.0193, 0.0193, 0.0226, 0.0201, 0.0224, 0.0241],\n",
            "         [0.0194, 0.0190, 0.0205, 0.0161, 0.0162, 0.0276, 0.0224],\n",
            "         [0.0198, 0.0206, 0.0199, 0.0191, 0.0180, 0.0217, 0.0211],\n",
            "         [0.0202, 0.0212, 0.0203, 0.0191, 0.0192, 0.0200, 0.0203],\n",
            "         [0.0202, 0.0217, 0.0219, 0.0161, 0.0177, 0.0195, 0.0186],\n",
            "         [0.0213, 0.0221, 0.0207, 0.0177, 0.0198, 0.0145, 0.0149],\n",
            "         [0.0200, 0.0214, 0.0193, 0.0216, 0.0213, 0.0165, 0.0186],\n",
            "         [0.0200, 0.0220, 0.0216, 0.0177, 0.0193, 0.0160, 0.0170],\n",
            "         [0.0208, 0.0225, 0.0218, 0.0174, 0.0198, 0.0124, 0.0135],\n",
            "         [0.0198, 0.0216, 0.0218, 0.0185, 0.0198, 0.0134, 0.0149],\n",
            "         [0.0206, 0.0216, 0.0233, 0.0184, 0.0213, 0.0101, 0.0120],\n",
            "         [0.0203, 0.0196, 0.0279, 0.0137, 0.0182, 0.0104, 0.0103]]],\n",
            "       grad_fn=<SoftmaxBackward>)\n",
            "tensor([[0.1455, 0.1444, 0.1406, 0.1421, 0.1419, 0.1417, 0.1411, 0.1350, 0.1472,\n",
            "         0.1535, 0.1467, 0.1425, 0.1429, 0.1397, 0.1377, 0.1408, 0.1382, 0.1291,\n",
            "         0.1316, 0.1363, 0.1447, 0.1411, 0.1376, 0.1392, 0.1430, 0.1422, 0.1464,\n",
            "         0.1475, 0.1494, 0.1391, 0.1404, 0.1428, 0.1395, 0.1469, 0.1424, 0.1414,\n",
            "         0.1423, 0.1429, 0.1460, 0.1412, 0.1403, 0.1403, 0.1358, 0.1311, 0.1387,\n",
            "         0.1336, 0.1281, 0.1298, 0.1273, 0.1204]], grad_fn=<SumBackward1>)\n"
          ],
          "name": "stdout"
        }
      ]
    },
    {
      "cell_type": "code",
      "metadata": {
        "colab": {
          "base_uri": "https://localhost:8080/"
        },
        "id": "osCXEgSS08u3",
        "outputId": "5e69a0f7-36d9-4702-dac7-8cf8e77ca757"
      },
      "source": [
        "# 我真是服了，到底是什么乘什么？有的说是encoder output 乘以 decoder output，有的说是encoder output乘以decoder hidden state\n",
        "# 命名真的这么casual吗\n",
        "# 如何把hidden和output乘起来？\n",
        "# 为什么hidden和output的shape会是这样？\n",
        "# https://stackoverflow.com/questions/62618222/luong-style-attention-mechanism-with-dot-and-general-scoring-functions-in-keras\n",
        "\n",
        "print(en)\n",
        "\n",
        "# （en_vocab_size, emb_dim, hid_dim, n_layers, dropout)\n",
        "a = Encoder(2447,10,3,7,0.1)\n",
        "\n",
        "outputs, hidden = a(torch.reshape(en,(1,50)))\n",
        "\n",
        "batch_size, sequence_len, hid_dim_times_directions = outputs.shape\n",
        "num_layers, _, _ = hidden.shape\n",
        "\n",
        "print(outputs.shape)\n",
        "print(hidden.shape)\n",
        "dot_product = outputs.bmm(hidden.view(batch_size,hid_dim_times_directions,-1))\n",
        "weights = F.softmax(nn.Linear(dot_product.shape[2],1)(dot_product),dim=1).squeeze(2)\n",
        "squeezed_output = nn.Linear(hid_dim_times_directions,1)(outputs).squeeze(2)\n",
        "weighted_sum = torch.sum(squeezed_output*weights,dim=1)\n",
        "print(weighted_sum)\n",
        "print(outputs)\n",
        "print(weighted_sum+outputs)\n",
        "\n",
        "# print(weights.shape)\n",
        "# print(dot_product.shape)\n",
        "# print(squeezed_output.shape)\n",
        "# print((squeezed_output*weights))\n",
        "# print(nn.Linear(hid_dim_times_directions,1)(outputs).shape)\n",
        "\n",
        "\n",
        "\n",
        "# print(hidden.view(1,6,-1).shape)\n",
        "# print(hidden.view(1,-1,1).shape)\n",
        "# print(outputs.view(1,-1,1).shape)\n",
        "# print(outputs.bmm(hidden.view(1,6,-1)).shape)\n",
        "# print(F.softmax(outputs.bmm(hidden.view(1,6,-1)),dim=1))\n",
        "# print(nn.Linear(7,1)(F.softmax(outputs.bmm(hidden.view(1,6,-1)),dim=1)))\n",
        "# print(cn)\n",
        "# print(outputs.bmm(hidden.view(1,6,-1)).squeeze(2).shape)\n",
        "# outputs2 = outputs.\n",
        "\n",
        "# attention_weights\n",
        "\n",
        "# print(outputs.reshape())\n",
        "# print(hidden)\n",
        "\n",
        "# https://lena-voita.github.io/nlp_course/seq2seq_and_attention.html\n",
        "# 所以attention就是个数字，scalar，看之后是加还是乘还是怎么样\n",
        "# attention 是attention input和attention weights的weighted sum\n"
      ],
      "execution_count": 100,
      "outputs": [
        {
          "output_type": "stream",
          "text": [
            "tensor([   1,   17,   18,  722,   19,   32, 2446,    4,    2,    0,    0,    0,\n",
            "           0,    0,    0,    0,    0,    0,    0,    0,    0,    0,    0,    0,\n",
            "           0,    0,    0,    0,    0,    0,    0,    0,    0,    0,    0,    0,\n",
            "           0,    0,    0,    0,    0,    0,    0,    0,    0,    0,    0,    0,\n",
            "           0,    0])\n",
            "torch.Size([1, 50, 6])\n",
            "torch.Size([14, 1, 3])\n",
            "tensor([-0.0553], grad_fn=<SumBackward1>)\n",
            "tensor([[[-0.0020,  0.1805, -0.2081, -0.5300, -0.6259, -0.1553],\n",
            "         [-0.0256,  0.2370, -0.3081, -0.5187, -0.6766, -0.1710],\n",
            "         [-0.0334,  0.1863, -0.4036, -0.4835, -0.7010, -0.1882],\n",
            "         [-0.0584,  0.1523, -0.4152, -0.4923, -0.7117, -0.1981],\n",
            "         [-0.0836,  0.1190, -0.4446, -0.4922, -0.7212, -0.1971],\n",
            "         [-0.1043,  0.1048, -0.4259, -0.4836, -0.7272, -0.1995],\n",
            "         [-0.1238,  0.0981, -0.4105, -0.5009, -0.7242, -0.1932],\n",
            "         [-0.1478,  0.0943, -0.4133, -0.5185, -0.6982, -0.1868],\n",
            "         [-0.1416,  0.3202, -0.3086, -0.5182, -0.6434, -0.1845],\n",
            "         [-0.1634,  0.0939, -0.4271, -0.4082, -0.6866, -0.2470],\n",
            "         [-0.1838,  0.0322, -0.4648, -0.3945, -0.6818, -0.2525],\n",
            "         [-0.1816, -0.0193, -0.5093, -0.3793, -0.6803, -0.2573],\n",
            "         [-0.2003, -0.0318, -0.4999, -0.3818, -0.6840, -0.2593],\n",
            "         [-0.2164, -0.0190, -0.4828, -0.4066, -0.6956, -0.2544],\n",
            "         [-0.2165, -0.0380, -0.4489, -0.4119, -0.7041, -0.2537],\n",
            "         [-0.2277, -0.0285, -0.4251, -0.4232, -0.7063, -0.2396],\n",
            "         [-0.2618,  0.0802, -0.4082, -0.4332, -0.6928, -0.2264],\n",
            "         [-0.2576, -0.0240, -0.4536, -0.4010, -0.6854, -0.2426],\n",
            "         [-0.2565, -0.0431, -0.4483, -0.4129, -0.6843, -0.2304],\n",
            "         [-0.2527, -0.0627, -0.4503, -0.4352, -0.6718, -0.2111],\n",
            "         [-0.2286,  0.2277, -0.3318, -0.4900, -0.6323, -0.1819],\n",
            "         [-0.1981, -0.0231, -0.4430, -0.4099, -0.6590, -0.2252],\n",
            "         [-0.1569,  0.1696, -0.4052, -0.4588, -0.6235, -0.1902],\n",
            "         [-0.1824,  0.0329, -0.4428, -0.4043, -0.6743, -0.2113],\n",
            "         [-0.2483, -0.0891, -0.4946, -0.3706, -0.6305, -0.1948],\n",
            "         [-0.1953,  0.2471, -0.4506, -0.4675, -0.6098, -0.1445],\n",
            "         [-0.1570,  0.2701, -0.3776, -0.5634, -0.6628, -0.1693],\n",
            "         [-0.1858,  0.1108, -0.4370, -0.5262, -0.7044, -0.1806],\n",
            "         [-0.1678,  0.2637, -0.3502, -0.5502, -0.6635, -0.1765],\n",
            "         [-0.1854,  0.1002, -0.3852, -0.5020, -0.7218, -0.2085],\n",
            "         [-0.2108,  0.0735, -0.3955, -0.5108, -0.7049, -0.1974],\n",
            "         [-0.1787,  0.2178, -0.3411, -0.5448, -0.6723, -0.1904],\n",
            "         [-0.1903,  0.0887, -0.3877, -0.5008, -0.7348, -0.2180],\n",
            "         [-0.2207,  0.1568, -0.3436, -0.5080, -0.7191, -0.2157],\n",
            "         [-0.2222,  0.0076, -0.4387, -0.4370, -0.6662, -0.2418],\n",
            "         [-0.2369, -0.0398, -0.4712, -0.4039, -0.6330, -0.2388],\n",
            "         [-0.2387, -0.0522, -0.4246, -0.3511, -0.5977, -0.2286],\n",
            "         [-0.2844,  0.2054, -0.4790, -0.3296, -0.5473, -0.1862],\n",
            "         [-0.2908,  0.0830, -0.4468, -0.4604, -0.6667, -0.2078],\n",
            "         [-0.2414,  0.1624, -0.4004, -0.4862, -0.6374, -0.1993],\n",
            "         [-0.2392, -0.0156, -0.4479, -0.4559, -0.7186, -0.2066],\n",
            "         [-0.2702,  0.0781, -0.3839, -0.5166, -0.7094, -0.1783],\n",
            "         [-0.2238,  0.1806, -0.3301, -0.5487, -0.6498, -0.1771],\n",
            "         [-0.2381,  0.0391, -0.3879, -0.4972, -0.6780, -0.1840],\n",
            "         [-0.1783,  0.2008, -0.3737, -0.5103, -0.6111, -0.1605],\n",
            "         [-0.2132,  0.1003, -0.3820, -0.4774, -0.6085, -0.1803],\n",
            "         [-0.2541,  0.2021, -0.3826, -0.4493, -0.4980, -0.1622],\n",
            "         [-0.2735,  0.1192, -0.3903, -0.4103, -0.5292, -0.1665],\n",
            "         [-0.3205,  0.0097, -0.4510, -0.3017, -0.3939, -0.1487],\n",
            "         [-0.3313,  0.0178, -0.4724, -0.2369, -0.2557, -0.0838]]],\n",
            "       grad_fn=<TransposeBackward1>)\n",
            "tensor([[[-0.0573,  0.1251, -0.2634, -0.5853, -0.6812, -0.2106],\n",
            "         [-0.0810,  0.1817, -0.3634, -0.5740, -0.7319, -0.2263],\n",
            "         [-0.0887,  0.1309, -0.4590, -0.5388, -0.7563, -0.2435],\n",
            "         [-0.1138,  0.0970, -0.4705, -0.5476, -0.7670, -0.2535],\n",
            "         [-0.1389,  0.0637, -0.4999, -0.5475, -0.7766, -0.2524],\n",
            "         [-0.1596,  0.0495, -0.4812, -0.5389, -0.7825, -0.2548],\n",
            "         [-0.1791,  0.0428, -0.4658, -0.5562, -0.7795, -0.2485],\n",
            "         [-0.2031,  0.0389, -0.4686, -0.5738, -0.7535, -0.2421],\n",
            "         [-0.1969,  0.2649, -0.3639, -0.5736, -0.6987, -0.2398],\n",
            "         [-0.2187,  0.0386, -0.4824, -0.4635, -0.7419, -0.3023],\n",
            "         [-0.2391, -0.0232, -0.5201, -0.4499, -0.7371, -0.3078],\n",
            "         [-0.2370, -0.0746, -0.5646, -0.4346, -0.7356, -0.3126],\n",
            "         [-0.2556, -0.0871, -0.5552, -0.4372, -0.7393, -0.3146],\n",
            "         [-0.2717, -0.0743, -0.5381, -0.4620, -0.7509, -0.3097],\n",
            "         [-0.2718, -0.0933, -0.5042, -0.4672, -0.7594, -0.3090],\n",
            "         [-0.2830, -0.0838, -0.4804, -0.4786, -0.7617, -0.2950],\n",
            "         [-0.3171,  0.0249, -0.4635, -0.4885, -0.7481, -0.2817],\n",
            "         [-0.3130, -0.0794, -0.5089, -0.4563, -0.7407, -0.2979],\n",
            "         [-0.3118, -0.0984, -0.5036, -0.4682, -0.7396, -0.2857],\n",
            "         [-0.3080, -0.1180, -0.5056, -0.4905, -0.7271, -0.2664],\n",
            "         [-0.2839,  0.1724, -0.3871, -0.5453, -0.6876, -0.2373],\n",
            "         [-0.2535, -0.0784, -0.4983, -0.4652, -0.7143, -0.2805],\n",
            "         [-0.2122,  0.1143, -0.4606, -0.5141, -0.6788, -0.2455],\n",
            "         [-0.2377, -0.0224, -0.4981, -0.4596, -0.7296, -0.2666],\n",
            "         [-0.3036, -0.1444, -0.5499, -0.4260, -0.6858, -0.2502],\n",
            "         [-0.2507,  0.1918, -0.5060, -0.5228, -0.6651, -0.1998],\n",
            "         [-0.2124,  0.2148, -0.4329, -0.6187, -0.7181, -0.2246],\n",
            "         [-0.2411,  0.0555, -0.4923, -0.5815, -0.7597, -0.2359],\n",
            "         [-0.2231,  0.2084, -0.4056, -0.6055, -0.7188, -0.2318],\n",
            "         [-0.2407,  0.0448, -0.4405, -0.5574, -0.7771, -0.2639],\n",
            "         [-0.2661,  0.0182, -0.4508, -0.5661, -0.7602, -0.2527],\n",
            "         [-0.2340,  0.1624, -0.3964, -0.6001, -0.7276, -0.2457],\n",
            "         [-0.2456,  0.0334, -0.4431, -0.5561, -0.7902, -0.2733],\n",
            "         [-0.2760,  0.1015, -0.3989, -0.5633, -0.7744, -0.2710],\n",
            "         [-0.2775, -0.0477, -0.4940, -0.4923, -0.7215, -0.2971],\n",
            "         [-0.2922, -0.0952, -0.5265, -0.4592, -0.6883, -0.2941],\n",
            "         [-0.2940, -0.1075, -0.4799, -0.4064, -0.6530, -0.2839],\n",
            "         [-0.3397,  0.1500, -0.5343, -0.3849, -0.6026, -0.2415],\n",
            "         [-0.3461,  0.0277, -0.5021, -0.5158, -0.7220, -0.2631],\n",
            "         [-0.2967,  0.1071, -0.4558, -0.5415, -0.6927, -0.2546],\n",
            "         [-0.2946, -0.0709, -0.5032, -0.5112, -0.7739, -0.2619],\n",
            "         [-0.3255,  0.0227, -0.4393, -0.5719, -0.7647, -0.2336],\n",
            "         [-0.2792,  0.1253, -0.3854, -0.6041, -0.7051, -0.2324],\n",
            "         [-0.2934, -0.0162, -0.4432, -0.5525, -0.7333, -0.2393],\n",
            "         [-0.2336,  0.1455, -0.4291, -0.5657, -0.6664, -0.2158],\n",
            "         [-0.2685,  0.0450, -0.4373, -0.5327, -0.6638, -0.2357],\n",
            "         [-0.3094,  0.1468, -0.4379, -0.5046, -0.5533, -0.2175],\n",
            "         [-0.3288,  0.0639, -0.4456, -0.4656, -0.5845, -0.2218],\n",
            "         [-0.3758, -0.0456, -0.5063, -0.3570, -0.4493, -0.2040],\n",
            "         [-0.3866, -0.0375, -0.5278, -0.2922, -0.3110, -0.1391]]],\n",
            "       grad_fn=<AddBackward0>)\n"
          ],
          "name": "stdout"
        }
      ]
    },
    {
      "cell_type": "markdown",
      "metadata": {
        "id": "zRc2Ghe5J-8X"
      },
      "source": [
        "![image.png](data:image/png;base64,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)"
      ]
    },
    {
      "cell_type": "code",
      "metadata": {
        "id": "imGefKRIAfBW"
      },
      "source": [
        "class Attention(nn.Module):\n",
        "  def __init__(self, hid_dim):\n",
        "    super(Attention, self).__init__()\n",
        "    self.hid_dim = hid_dim\n",
        "  \n",
        "  # 是用decoder的hidden还是decoder的output？\n",
        "  def forward(self, encoder_outputs, decoder_hidden):\n",
        "    # encoder_outputs = [batch size, sequence len, hid dim * directions]\n",
        "    # decoder_hidden = [num_layers, batch size, hid dim]\n",
        "    # 一般來說是取 Encoder 最後一層的 hidden state 來做 attention\n",
        "    # encoder最后一层的hidden state就是 encoder_outputs\n",
        "    # softmax到底要围绕哪个dimension？\n",
        "\n",
        "\n",
        "# 常見 Attention 的實作是用 Neural Network / Dot Product 來算 Decoder hidden state 和 Encoder outputs 之間的關係，\n",
        "# 再對所有算出來的數值做 softmax ，最後根據過完 softmax 的值對 Encoder outputs 做 weight sum\n",
        "# 你这里说attention是用decoder hidden state和encoder outputs做before softmax\n",
        "# pytorch官方tutorial上是用 decoder_input, decoder_hidden做before softmax pytorch这里并没有用encoder outputs\n",
        "# https://colab.research.google.com/github/pytorch/tutorials/blob/gh-pages/_downloads/a60617788061539b5449701ae76aee56/seq2seq_translation_tutorial.ipynb#scrollTo=Ulk5PKkSqr5U\n",
        "\n",
        "    ########\n",
        "    # TODO #\n",
        "    ########\n",
        "    batch_size, sequence_len, hid_dim_times_directions = encoder_outputs.shape\n",
        "    num_layers, _, _ = decoder_hidden.shape\n",
        "    dot_product = outputs.bmm(hidden.view(batch_size,hid_dim_times_directions,-1))\n",
        "    weights = F.softmax(nn.Linear(dot_product.shape[2],1)(dot_product),dim=1).squeeze(2)\n",
        "    squeezed_output = nn.Linear(hid_dim_times_directions,1)(outputs).squeeze(2)\n",
        "    weighted_sum = torch.sum(squeezed_output*weights,dim=1)\n",
        "\n",
        "\n",
        "    attention = weighted_sum\n",
        "    \n",
        "    return attention\n",
        "    "
      ],
      "execution_count": 102,
      "outputs": []
    },
    {
      "cell_type": "markdown",
      "metadata": {
        "id": "uJjxd56yySun"
      },
      "source": [
        "## Seq2Seq\n",
        "- 由 **Encoder** 和 **Decoder** 組成\n",
        "- 接收輸入並傳給 **Encoder** \n",
        "- 將 **Encoder** 的輸出傳給 **Decoder**\n",
        "- 不斷地將 **Decoder** 的輸出傳回 **Decoder** ，進行解碼  \n",
        "- 當解碼完成後，將 **Decoder** 的輸出傳回 "
      ]
    },
    {
      "cell_type": "code",
      "metadata": {
        "id": "jjko57senVKG"
      },
      "source": [
        "# 这种东西就很难写，因为是让你写一个class，根本看不到任何实时的反馈结果，也不知道是写对还是写错\n",
        "\n",
        "class Seq2Seq(nn.Module):\n",
        "  def __init__(self, encoder, decoder, device):\n",
        "    super().__init__()\n",
        "    self.encoder = encoder\n",
        "    self.decoder = decoder\n",
        "    self.device = device\n",
        "    assert encoder.n_layers == decoder.n_layers, \\\n",
        "            \"Encoder and decoder must have equal number of layers!\"\n",
        "            \n",
        "  def forward(self, input, target, teacher_forcing_ratio):\n",
        "    # input  = [batch size, input len, vocab size]\n",
        "    # target = [batch size, target len, vocab size]\n",
        "    # teacher_forcing_ratio 是有多少機率使用正確答案來訓練\n",
        "    batch_size = target.shape[0]\n",
        "    target_len = target.shape[1]\n",
        "    vocab_size = self.decoder.cn_vocab_size\n",
        "\n",
        "    # 準備一個儲存空間來儲存輸出\n",
        "    outputs = torch.zeros(batch_size, target_len, vocab_size).to(self.device)\n",
        "    # 將輸入放入 Encoder\n",
        "    encoder_outputs, hidden = self.encoder(input)\n",
        "    # Encoder 最後的隱藏層(hidden state) 用來初始化 Decoder\n",
        "    # encoder_outputs 主要是使用在 Attention\n",
        "    # 因為 Encoder 是雙向的RNN，所以需要將同一層兩個方向的 hidden state 接在一起\n",
        "    # hidden =  [num_layers * directions, batch size  , hid dim]  --> [num_layers, directions, batch size  , hid dim]\n",
        "    hidden = hidden.view(self.encoder.n_layers, 2, batch_size, -1)\n",
        "    hidden = torch.cat((hidden[:, -2, :, :], hidden[:, -1, :, :]), dim=2)\n",
        "    # 取的 <BOS> token\n",
        "    input = target[:, 0]\n",
        "    preds = []\n",
        "    for t in range(1, target_len):\n",
        "      output, hidden = self.decoder(input, hidden, encoder_outputs)\n",
        "      outputs[:, t] = output\n",
        "      # 決定是否用正確答案來做訓練\n",
        "      teacher_force = random.random() <= teacher_forcing_ratio\n",
        "      # 取出機率最大的單詞\n",
        "      top1 = output.argmax(1)\n",
        "      # 如果是 teacher force 則用正解訓練，反之用自己預測的單詞做預測\n",
        "      input = target[:, t] if teacher_force and t < target_len else top1\n",
        "      preds.append(top1.unsqueeze(1))\n",
        "    preds = torch.cat(preds, 1)\n",
        "    return outputs, preds\n",
        "\n",
        "  def inference(self, input, target):\n",
        "    ########\n",
        "    # TODO #\n",
        "    ########\n",
        "    # 在這裡實施 Beam Search\n",
        "    # 此函式的 batch size = 1  \n",
        "    # input  = [batch size, input len, vocab size]\n",
        "    # target = [batch size, target len, vocab size]\n",
        "    batch_size = input.shape[0]\n",
        "    input_len = input.shape[1]        # 取得最大字數\n",
        "    vocab_size = self.decoder.cn_vocab_size\n",
        "\n",
        "    # 準備一個儲存空間來儲存輸出\n",
        "    outputs = torch.zeros(batch_size, input_len, vocab_size).to(self.device)\n",
        "    # 將輸入放入 Encoder\n",
        "    encoder_outputs, hidden = self.encoder(input)\n",
        "    # Encoder 最後的隱藏層(hidden state) 用來初始化 Decoder\n",
        "    # encoder_outputs 主要是使用在 Attention\n",
        "    # 因為 Encoder 是雙向的RNN，所以需要將同一層兩個方向的 hidden state 接在一起\n",
        "    # hidden =  [num_layers * directions, batch size  , hid dim]  --> [num_layers, directions, batch size  , hid dim]\n",
        "    hidden = hidden.view(self.encoder.n_layers, 2, batch_size, -1)\n",
        "    hidden = torch.cat((hidden[:, -2, :, :], hidden[:, -1, :, :]), dim=2)\n",
        "    # 取的 <BOS> token\n",
        "    input = target[:, 0]\n",
        "    preds = []\n",
        "    for t in range(1, input_len):\n",
        "      output, hidden = self.decoder(input, hidden, encoder_outputs)\n",
        "      # 將預測結果存起來\n",
        "      outputs[:, t] = output\n",
        "      # 取出機率最大的單詞\n",
        "      top1 = output.argmax(1)\n",
        "      input = top1\n",
        "      preds.append(top1.unsqueeze(1))\n",
        "    preds = torch.cat(preds, 1)\n",
        "    return outputs, preds\n"
      ],
      "execution_count": 103,
      "outputs": []
    },
    {
      "cell_type": "markdown",
      "metadata": {
        "id": "eCOIUTOT59aL"
      },
      "source": [
        "# utils\n",
        "- 基本操作:\n",
        "  - 儲存模型\n",
        "  - 載入模型\n",
        "  - 建構模型\n",
        "  - 將一連串的數字還原回句子\n",
        "  - 計算 BLEU score\n",
        "  - 迭代 dataloader\n",
        "  "
      ]
    },
    {
      "cell_type": "markdown",
      "metadata": {
        "id": "vMBoCSH5MBLN"
      },
      "source": [
        "## 儲存模型"
      ]
    },
    {
      "cell_type": "code",
      "metadata": {
        "id": "uCZuQrWiMGmH"
      },
      "source": [
        "def save_model(model, optimizer, store_model_path, step):\n",
        "  torch.save(model.state_dict(), f'{store_model_path}/model_{step}.ckpt')\n",
        "  return"
      ],
      "execution_count": 104,
      "outputs": []
    },
    {
      "cell_type": "markdown",
      "metadata": {
        "id": "Nde98xvAMxAd"
      },
      "source": [
        "## 載入模型"
      ]
    },
    {
      "cell_type": "code",
      "metadata": {
        "id": "FGzZ2Yp2MxK-"
      },
      "source": [
        "def load_model(model, load_model_path):\n",
        "  print(f'Load model from {load_model_path}')\n",
        "  model.load_state_dict(torch.load(f'{load_model_path}.ckpt'))\n",
        "  return model"
      ],
      "execution_count": 105,
      "outputs": []
    },
    {
      "cell_type": "markdown",
      "metadata": {
        "id": "eoz6awEcOIAz"
      },
      "source": [
        "## 建構模型"
      ]
    },
    {
      "cell_type": "code",
      "metadata": {
        "id": "TvWqv_JlOOix"
      },
      "source": [
        "def build_model(config, en_vocab_size, cn_vocab_size):\n",
        "  # 建構模型\n",
        "  encoder = Encoder(en_vocab_size, config.emb_dim, config.hid_dim, config.n_layers, config.dropout)\n",
        "  decoder = Decoder(cn_vocab_size, config.emb_dim, config.hid_dim, config.n_layers, config.dropout, config.attention)\n",
        "  model = Seq2Seq(encoder, decoder, device)\n",
        "  print(model)\n",
        "  # 建構 optimizer\n",
        "  optimizer = torch.optim.Adam(model.parameters(), lr=config.learning_rate)\n",
        "  print(optimizer)\n",
        "  if config.load_model:\n",
        "    model = load_model(model, config.load_model_path)\n",
        "  model = model.to(device)\n",
        "\n",
        "  return model, optimizer\n"
      ],
      "execution_count": 106,
      "outputs": []
    },
    {
      "cell_type": "markdown",
      "metadata": {
        "id": "qEu4V_axXCF9"
      },
      "source": [
        "## 數字轉句子"
      ]
    },
    {
      "cell_type": "code",
      "metadata": {
        "id": "ekAoI7L5mlHq"
      },
      "source": [
        "def tokens2sentence(outputs, int2word):\n",
        "  sentences = []\n",
        "  for tokens in outputs:\n",
        "    sentence = []\n",
        "    for token in tokens:\n",
        "      word = int2word[str(int(token))]\n",
        "      if word == '<EOS>':\n",
        "        break\n",
        "      sentence.append(word)\n",
        "    sentences.append(sentence)\n",
        "  \n",
        "  return sentences\n"
      ],
      "execution_count": 107,
      "outputs": []
    },
    {
      "cell_type": "markdown",
      "metadata": {
        "id": "Kwpb4LDFWplj"
      },
      "source": [
        "## 計算 BLEU score"
      ]
    },
    {
      "cell_type": "code",
      "metadata": {
        "id": "WBRNZDsMo0hF"
      },
      "source": [
        "import nltk\n",
        "from nltk.translate.bleu_score import sentence_bleu\n",
        "from nltk.translate.bleu_score import SmoothingFunction\n",
        "\n",
        "def computebleu(sentences, targets):\n",
        "  score = 0 \n",
        "  assert (len(sentences) == len(targets))\n",
        "\n",
        "  def cut_token(sentence):\n",
        "    tmp = []\n",
        "    for token in sentence:\n",
        "      if token == '<UNK>' or token.isdigit() or len(bytes(token[0], encoding='utf-8')) == 1:\n",
        "        tmp.append(token)\n",
        "      else:\n",
        "        tmp += [word for word in token]\n",
        "    return tmp \n",
        "\n",
        "  for sentence, target in zip(sentences, targets):\n",
        "    sentence = cut_token(sentence)\n",
        "    target = cut_token(target)\n",
        "    score += sentence_bleu([target], sentence, weights=(1, 0, 0, 0))                                                                                          \n",
        "  \n",
        "  return score\n"
      ],
      "execution_count": 108,
      "outputs": []
    },
    {
      "cell_type": "markdown",
      "metadata": {
        "id": "-vijuXbMeJrn"
      },
      "source": [
        "##迭代 dataloader"
      ]
    },
    {
      "cell_type": "code",
      "metadata": {
        "id": "iIZ44EdfeJ3i"
      },
      "source": [
        "def infinite_iter(data_loader):\n",
        "  it = iter(data_loader)\n",
        "  while True:\n",
        "    try:\n",
        "      ret = next(it)\n",
        "      yield ret\n",
        "    except StopIteration:\n",
        "      it = iter(data_loader)"
      ],
      "execution_count": 109,
      "outputs": []
    },
    {
      "cell_type": "markdown",
      "metadata": {
        "id": "aIfx7oj5fAjP"
      },
      "source": [
        "## schedule_sampling"
      ]
    },
    {
      "cell_type": "code",
      "metadata": {
        "id": "AHuxM8m-fArz"
      },
      "source": [
        "########\n",
        "# TODO #\n",
        "########\n",
        "\n",
        "# 請在這裡直接 return 0 來取消 Teacher Forcing\n",
        "# 請在這裡實作 schedule_sampling 的策略\n",
        "\n",
        "def schedule_sampling():\n",
        "    return 1"
      ],
      "execution_count": 110,
      "outputs": []
    },
    {
      "cell_type": "markdown",
      "metadata": {
        "id": "bBHAhX5e5xm4"
      },
      "source": [
        "# 訓練步驟"
      ]
    },
    {
      "cell_type": "markdown",
      "metadata": {
        "id": "_q9Co3vuGWfu"
      },
      "source": [
        "## 訓練\n",
        "- 訓練階段"
      ]
    },
    {
      "cell_type": "code",
      "metadata": {
        "id": "TBnE9GbiO8Ob"
      },
      "source": [
        "def train(model, optimizer, train_iter, loss_function, total_steps, summary_steps, train_dataset):\n",
        "  model.train()\n",
        "  model.zero_grad()\n",
        "  losses = []\n",
        "  loss_sum = 0.0\n",
        "  for step in range(summary_steps):\n",
        "    sources, targets = next(train_iter)\n",
        "    sources, targets = sources.to(device), targets.to(device)\n",
        "    outputs, preds = model(sources, targets, schedule_sampling())\n",
        "    # targets 的第一個 token 是 <BOS> 所以忽略\n",
        "    outputs = outputs[:, 1:].reshape(-1, outputs.size(2))\n",
        "    targets = targets[:, 1:].reshape(-1)\n",
        "    loss = loss_function(outputs, targets)\n",
        "    \n",
        "    optimizer.zero_grad()\n",
        "    loss.backward()\n",
        "    grad_norm = torch.nn.utils.clip_grad_norm_(model.parameters(), 1)\n",
        "    optimizer.step()\n",
        "\n",
        "    loss_sum += loss.item()\n",
        "    if (step + 1) % 5 == 0:\n",
        "      loss_sum = loss_sum / 5\n",
        "      print (\"\\r\", \"train [{}] loss: {:.3f}, Perplexity: {:.3f}      \".format(total_steps + step + 1, loss_sum, np.exp(loss_sum)), end=\" \")\n",
        "      losses.append(loss_sum)\n",
        "      loss_sum = 0.0\n",
        "\n",
        "  return model, optimizer, losses\n"
      ],
      "execution_count": 111,
      "outputs": []
    },
    {
      "cell_type": "markdown",
      "metadata": {
        "id": "6cuHVXxAfHrA"
      },
      "source": [
        "## 檢驗/測試\n",
        "- 防止訓練發生overfitting"
      ]
    },
    {
      "cell_type": "code",
      "metadata": {
        "id": "ZBp-n3FrfOCe"
      },
      "source": [
        "def test(model, dataloader, loss_function):\n",
        "  model.eval()\n",
        "  loss_sum, bleu_score= 0.0, 0.0\n",
        "  n = 0\n",
        "  result = []\n",
        "  for sources, targets in dataloader:\n",
        "    sources, targets = sources.to(device), targets.to(device)\n",
        "    batch_size = sources.size(0)\n",
        "    outputs, preds = model.inference(sources, targets)\n",
        "    # targets 的第一個 token 是 <BOS> 所以忽略\n",
        "    outputs = outputs[:, 1:].reshape(-1, outputs.size(2))\n",
        "    targets = targets[:, 1:].reshape(-1)\n",
        "\n",
        "    loss = loss_function(outputs, targets)\n",
        "    loss_sum += loss.item()\n",
        "\n",
        "    # 將預測結果轉為文字\n",
        "    targets = targets.view(sources.size(0), -1)\n",
        "    preds = tokens2sentence(preds, dataloader.dataset.int2word_cn)\n",
        "    sources = tokens2sentence(sources, dataloader.dataset.int2word_en)\n",
        "    targets = tokens2sentence(targets, dataloader.dataset.int2word_cn)\n",
        "    for source, pred, target in zip(sources, preds, targets):\n",
        "      result.append((source, pred, target))\n",
        "    # 計算 Bleu Score\n",
        "    bleu_score += computebleu(preds, targets)\n",
        "\n",
        "    n += batch_size\n",
        "\n",
        "  return loss_sum / len(dataloader), bleu_score / n, result\n"
      ],
      "execution_count": 112,
      "outputs": []
    },
    {
      "cell_type": "markdown",
      "metadata": {
        "id": "dFEYmPAlx_SX"
      },
      "source": [
        "## 訓練流程\n",
        "- 先訓練，再檢驗"
      ]
    },
    {
      "cell_type": "code",
      "metadata": {
        "id": "cJ54vDP2yC2S"
      },
      "source": [
        "def train_process(config):\n",
        "  # 準備訓練資料\n",
        "  train_dataset = EN2CNDataset(config.data_path, config.max_output_len, 'training')\n",
        "  train_loader = data.DataLoader(train_dataset, batch_size=config.batch_size, shuffle=True)\n",
        "  train_iter = infinite_iter(train_loader)\n",
        "  # 準備檢驗資料\n",
        "  val_dataset = EN2CNDataset(config.data_path, config.max_output_len, 'validation')\n",
        "  val_loader = data.DataLoader(val_dataset, batch_size=1)\n",
        "  # 建構模型\n",
        "  model, optimizer = build_model(config, train_dataset.en_vocab_size, train_dataset.cn_vocab_size)\n",
        "  loss_function = nn.CrossEntropyLoss(ignore_index=0)\n",
        "\n",
        "  train_losses, val_losses, bleu_scores = [], [], []\n",
        "  total_steps = 0\n",
        "  while (total_steps < config.num_steps):\n",
        "    # 訓練模型\n",
        "    model, optimizer, loss = train(model, optimizer, train_iter, loss_function, total_steps, config.summary_steps, train_dataset)\n",
        "    train_losses += loss\n",
        "    # 檢驗模型\n",
        "    val_loss, bleu_score, result = test(model, val_loader, loss_function)\n",
        "    val_losses.append(val_loss)\n",
        "    bleu_scores.append(bleu_score)\n",
        "\n",
        "    total_steps += config.summary_steps\n",
        "    print (\"\\r\", \"val [{}] loss: {:.3f}, Perplexity: {:.3f}, blue score: {:.3f}       \".format(total_steps, val_loss, np.exp(val_loss), bleu_score))\n",
        "    \n",
        "    # 儲存模型和結果\n",
        "    if total_steps % config.store_steps == 0 or total_steps >= config.num_steps:\n",
        "      save_model(model, optimizer, config.store_model_path, total_steps)\n",
        "      with open(f'{config.store_model_path}/output_{total_steps}.txt', 'w') as f:\n",
        "        for line in result:\n",
        "          print (line, file=f)\n",
        "    \n",
        "  return train_losses, val_losses, bleu_scores\n"
      ],
      "execution_count": 113,
      "outputs": []
    },
    {
      "cell_type": "markdown",
      "metadata": {
        "id": "QZvo0u9SofwW"
      },
      "source": [
        "## 測試流程"
      ]
    },
    {
      "cell_type": "code",
      "metadata": {
        "id": "tvpiHCM-ogNh"
      },
      "source": [
        "def test_process(config):\n",
        "  # 準備測試資料\n",
        "  test_dataset = EN2CNDataset(config.data_path, config.max_output_len, 'testing')\n",
        "  test_loader = data.DataLoader(test_dataset, batch_size=1)\n",
        "  # 建構模型\n",
        "  model, optimizer = build_model(config, test_dataset.en_vocab_size, test_dataset.cn_vocab_size)\n",
        "  print (\"Finish build model\")\n",
        "  loss_function = nn.CrossEntropyLoss(ignore_index=0)\n",
        "  model.eval()\n",
        "  # 測試模型\n",
        "  test_loss, bleu_score, result = test(model, test_loader, loss_function)\n",
        "  # 儲存結果\n",
        "  with open(f'./test_output.txt', 'w') as f:\n",
        "    for line in result:\n",
        "      print (line, file=f)\n",
        "\n",
        "  return test_loss, bleu_score\n"
      ],
      "execution_count": 114,
      "outputs": []
    },
    {
      "cell_type": "markdown",
      "metadata": {
        "id": "7PbfgB3n9eoT"
      },
      "source": [
        "# Config\n",
        "- 實驗的參數設定表"
      ]
    },
    {
      "cell_type": "code",
      "metadata": {
        "id": "3kWSZ4w39gzj"
      },
      "source": [
        "class configurations(object):\n",
        "  def __init__(self):\n",
        "    self.batch_size = 60\n",
        "    self.emb_dim = 256\n",
        "    self.hid_dim = 512\n",
        "    self.n_layers = 3\n",
        "    self.dropout = 0.5\n",
        "    self.learning_rate = 0.00005\n",
        "    self.max_output_len = 50              # 最後輸出句子的最大長度\n",
        "    self.num_steps = 12000                # 總訓練次數\n",
        "    self.store_steps = 300                # 訓練多少次後須儲存模型\n",
        "    self.summary_steps = 300              # 訓練多少次後須檢驗是否有overfitting\n",
        "    self.load_model = False               # 是否需載入模型\n",
        "    self.store_model_path = \"./ckpt\"      # 儲存模型的位置\n",
        "    self.load_model_path = None           # 載入模型的位置 e.g. \"./ckpt/model_{step}\" \n",
        "    self.data_path = \"./cmn-eng\"          # 資料存放的位置\n",
        "    self.attention = False                # 是否使用 Attention Mechanism\n"
      ],
      "execution_count": 115,
      "outputs": []
    },
    {
      "cell_type": "markdown",
      "metadata": {
        "id": "w464f4KOLUh6"
      },
      "source": [
        "#Main Function\n",
        "- 讀入參數\n",
        "- 進行訓練或是推論"
      ]
    },
    {
      "cell_type": "markdown",
      "metadata": {
        "id": "qlwNx0z6vu_S"
      },
      "source": [
        "## train"
      ]
    },
    {
      "cell_type": "code",
      "metadata": {
        "id": "AJwVkorvLaSh",
        "colab": {
          "base_uri": "https://localhost:8080/"
        },
        "outputId": "376bd2d3-bef5-4071-eac9-61ba8d0c0247"
      },
      "source": [
        "if __name__ == '__main__':\n",
        "  config = configurations()\n",
        "  print ('config:\\n', vars(config))\n",
        "  train_losses, val_losses, bleu_scores = train_process(config)\n"
      ],
      "execution_count": 116,
      "outputs": [
        {
          "output_type": "stream",
          "text": [
            "config:\n",
            " {'batch_size': 60, 'emb_dim': 256, 'hid_dim': 512, 'n_layers': 3, 'dropout': 0.5, 'learning_rate': 5e-05, 'max_output_len': 50, 'num_steps': 12000, 'store_steps': 300, 'summary_steps': 300, 'load_model': False, 'store_model_path': './ckpt', 'load_model_path': None, 'data_path': './cmn-eng', 'attention': False}\n",
            "training dataset size: 18000\n",
            "validation dataset size: 500\n",
            "Seq2Seq(\n",
            "  (encoder): Encoder(\n",
            "    (embedding): Embedding(3922, 256)\n",
            "    (rnn): GRU(256, 512, num_layers=3, batch_first=True, dropout=0.5, bidirectional=True)\n",
            "    (dropout): Dropout(p=0.5, inplace=False)\n",
            "  )\n",
            "  (decoder): Decoder(\n",
            "    (embedding): Embedding(3805, 256)\n",
            "    (attention): Attention()\n",
            "    (rnn): GRU(256, 1024, num_layers=3, batch_first=True, dropout=0.5)\n",
            "    (embedding2vocab1): Linear(in_features=1024, out_features=2048, bias=True)\n",
            "    (embedding2vocab2): Linear(in_features=2048, out_features=4096, bias=True)\n",
            "    (embedding2vocab3): Linear(in_features=4096, out_features=3805, bias=True)\n",
            "    (dropout): Dropout(p=0.5, inplace=False)\n",
            "  )\n",
            ")\n",
            "Adam (\n",
            "Parameter Group 0\n",
            "    amsgrad: False\n",
            "    betas: (0.9, 0.999)\n",
            "    eps: 1e-08\n",
            "    lr: 5e-05\n",
            "    weight_decay: 0\n",
            ")\n",
            " train [300] loss: 4.264, Perplexity: 71.124       "
          ],
          "name": "stdout"
        },
        {
          "output_type": "stream",
          "text": [
            "/usr/local/lib/python3.7/dist-packages/nltk/translate/bleu_score.py:490: UserWarning: \n",
            "Corpus/Sentence contains 0 counts of 4-gram overlaps.\n",
            "BLEU scores might be undesirable; use SmoothingFunction().\n",
            "  warnings.warn(_msg)\n",
            "/usr/local/lib/python3.7/dist-packages/nltk/translate/bleu_score.py:490: UserWarning: \n",
            "Corpus/Sentence contains 0 counts of 2-gram overlaps.\n",
            "BLEU scores might be undesirable; use SmoothingFunction().\n",
            "  warnings.warn(_msg)\n",
            "/usr/local/lib/python3.7/dist-packages/nltk/translate/bleu_score.py:490: UserWarning: \n",
            "Corpus/Sentence contains 0 counts of 3-gram overlaps.\n",
            "BLEU scores might be undesirable; use SmoothingFunction().\n",
            "  warnings.warn(_msg)\n"
          ],
          "name": "stderr"
        },
        {
          "output_type": "stream",
          "text": [
            " val [300] loss: 6.101, Perplexity: 446.290, blue score: 0.204       \n",
            " val [600] loss: 5.765, Perplexity: 319.027, blue score: 0.266       \n",
            " val [900] loss: 5.625, Perplexity: 277.181, blue score: 0.285       \n",
            " val [1200] loss: 5.587, Perplexity: 266.929, blue score: 0.300       \n",
            " val [1500] loss: 5.521, Perplexity: 249.908, blue score: 0.315       \n",
            " val [1800] loss: 5.575, Perplexity: 263.792, blue score: 0.319       \n",
            " val [2100] loss: 5.420, Perplexity: 225.781, blue score: 0.346       \n",
            " val [2400] loss: 5.296, Perplexity: 199.594, blue score: 0.351       \n",
            " val [2700] loss: 5.381, Perplexity: 217.264, blue score: 0.365       \n",
            " val [3000] loss: 5.392, Perplexity: 219.673, blue score: 0.356       \n",
            " val [3300] loss: 5.458, Perplexity: 234.711, blue score: 0.376       \n",
            " val [3600] loss: 5.340, Perplexity: 208.521, blue score: 0.378       \n",
            " val [3900] loss: 5.227, Perplexity: 186.244, blue score: 0.386       \n",
            " val [4200] loss: 5.343, Perplexity: 209.220, blue score: 0.390       \n",
            " val [4500] loss: 5.196, Perplexity: 180.617, blue score: 0.402       \n",
            " val [4800] loss: 5.153, Perplexity: 172.961, blue score: 0.413       \n",
            " val [5100] loss: 5.284, Perplexity: 197.197, blue score: 0.408       \n",
            " val [5400] loss: 5.174, Perplexity: 176.641, blue score: 0.416       \n",
            " val [5700] loss: 5.179, Perplexity: 177.501, blue score: 0.424       \n",
            " val [6000] loss: 5.287, Perplexity: 197.815, blue score: 0.428       \n",
            " val [6300] loss: 5.289, Perplexity: 198.234, blue score: 0.439       \n",
            " val [6600] loss: 5.187, Perplexity: 178.873, blue score: 0.428       \n",
            " val [6900] loss: 5.063, Perplexity: 158.051, blue score: 0.444       \n",
            " val [7200] loss: 5.157, Perplexity: 173.566, blue score: 0.439       \n",
            " val [7500] loss: 5.146, Perplexity: 171.800, blue score: 0.452       \n",
            " val [7800] loss: 5.161, Perplexity: 174.303, blue score: 0.452       \n",
            " val [8100] loss: 5.128, Perplexity: 168.599, blue score: 0.456       \n",
            " val [8400] loss: 5.144, Perplexity: 171.400, blue score: 0.461       \n",
            " val [8700] loss: 5.177, Perplexity: 177.184, blue score: 0.465       \n",
            " val [9000] loss: 5.104, Perplexity: 164.622, blue score: 0.462       \n",
            " val [9300] loss: 5.110, Perplexity: 165.710, blue score: 0.472       \n",
            " val [9600] loss: 5.058, Perplexity: 157.199, blue score: 0.472       \n",
            " val [9900] loss: 5.122, Perplexity: 167.611, blue score: 0.471       \n",
            " val [10200] loss: 5.146, Perplexity: 171.784, blue score: 0.469       \n",
            " val [10500] loss: 5.200, Perplexity: 181.212, blue score: 0.470       \n",
            " val [10800] loss: 5.129, Perplexity: 168.771, blue score: 0.478       \n",
            " val [11100] loss: 5.241, Perplexity: 188.798, blue score: 0.472       \n",
            " val [11400] loss: 5.224, Perplexity: 185.756, blue score: 0.491       \n",
            " val [11700] loss: 5.278, Perplexity: 195.957, blue score: 0.482       \n",
            " val [12000] loss: 5.254, Perplexity: 191.349, blue score: 0.487       \n"
          ],
          "name": "stdout"
        }
      ]
    },
    {
      "cell_type": "markdown",
      "metadata": {
        "id": "EjDNDiwZvyCn"
      },
      "source": [
        "## test"
      ]
    },
    {
      "cell_type": "code",
      "metadata": {
        "id": "N00ZAkL7ieGP",
        "colab": {
          "base_uri": "https://localhost:8080/"
        },
        "outputId": "39ba32b1-0717-4826-9a27-a175fd9a323f"
      },
      "source": [
        "# 在執行 Test 之前，請先行至 config 設定所要載入的模型位置\n",
        "if __name__ == '__main__':\n",
        "  config = configurations()\n",
        "  print ('config:\\n', vars(config))\n",
        "  test_loss, bleu_score = test_process(config)\n",
        "  print (f'test loss: {test_loss}, bleu_score: {bleu_score}')"
      ],
      "execution_count": 121,
      "outputs": [
        {
          "output_type": "stream",
          "text": [
            "config:\n",
            " {'batch_size': 60, 'emb_dim': 256, 'hid_dim': 512, 'n_layers': 3, 'dropout': 0.5, 'learning_rate': 5e-05, 'max_output_len': 50, 'num_steps': 12000, 'store_steps': 300, 'summary_steps': 300, 'load_model': False, 'store_model_path': './ckpt', 'load_model_path': None, 'data_path': './cmn-eng', 'attention': False}\n",
            "testing dataset size: 2636\n",
            "Seq2Seq(\n",
            "  (encoder): Encoder(\n",
            "    (embedding): Embedding(3922, 256)\n",
            "    (rnn): GRU(256, 512, num_layers=3, batch_first=True, dropout=0.5, bidirectional=True)\n",
            "    (dropout): Dropout(p=0.5, inplace=False)\n",
            "  )\n",
            "  (decoder): Decoder(\n",
            "    (embedding): Embedding(3805, 256)\n",
            "    (attention): Attention()\n",
            "    (rnn): GRU(256, 1024, num_layers=3, batch_first=True, dropout=0.5)\n",
            "    (embedding2vocab1): Linear(in_features=1024, out_features=2048, bias=True)\n",
            "    (embedding2vocab2): Linear(in_features=2048, out_features=4096, bias=True)\n",
            "    (embedding2vocab3): Linear(in_features=4096, out_features=3805, bias=True)\n",
            "    (dropout): Dropout(p=0.5, inplace=False)\n",
            "  )\n",
            ")\n",
            "Adam (\n",
            "Parameter Group 0\n",
            "    amsgrad: False\n",
            "    betas: (0.9, 0.999)\n",
            "    eps: 1e-08\n",
            "    lr: 5e-05\n",
            "    weight_decay: 0\n",
            ")\n",
            "Finish build model\n"
          ],
          "name": "stdout"
        },
        {
          "output_type": "stream",
          "text": [
            "/usr/local/lib/python3.7/dist-packages/nltk/translate/bleu_score.py:490: UserWarning: \n",
            "Corpus/Sentence contains 0 counts of 2-gram overlaps.\n",
            "BLEU scores might be undesirable; use SmoothingFunction().\n",
            "  warnings.warn(_msg)\n",
            "/usr/local/lib/python3.7/dist-packages/nltk/translate/bleu_score.py:490: UserWarning: \n",
            "Corpus/Sentence contains 0 counts of 3-gram overlaps.\n",
            "BLEU scores might be undesirable; use SmoothingFunction().\n",
            "  warnings.warn(_msg)\n",
            "/usr/local/lib/python3.7/dist-packages/nltk/translate/bleu_score.py:490: UserWarning: \n",
            "Corpus/Sentence contains 0 counts of 4-gram overlaps.\n",
            "BLEU scores might be undesirable; use SmoothingFunction().\n",
            "  warnings.warn(_msg)\n"
          ],
          "name": "stderr"
        },
        {
          "output_type": "stream",
          "text": [
            "test loss: 8.246425354788263, bleu_score: 0.010818839057896011\n"
          ],
          "name": "stdout"
        }
      ]
    },
    {
      "cell_type": "markdown",
      "metadata": {
        "id": "JyhX44s2wS1I"
      },
      "source": [
        "# 圖形化訓練過程"
      ]
    },
    {
      "cell_type": "markdown",
      "metadata": {
        "id": "nNnx0AcDxiJz"
      },
      "source": [
        "## 以圖表呈現 訓練 的 loss 變化趨勢"
      ]
    },
    {
      "cell_type": "code",
      "metadata": {
        "id": "EahLuZ2X8zdF",
        "colab": {
          "base_uri": "https://localhost:8080/",
          "height": 440
        },
        "outputId": "9c686071-1994-45ff-8b62-a8786d2b2c66"
      },
      "source": [
        "import matplotlib.pyplot as plt\n",
        "plt.figure()\n",
        "plt.plot(train_losses)\n",
        "plt.xlabel('次數')\n",
        "plt.ylabel('loss')\n",
        "plt.title('train loss')\n",
        "plt.show()"
      ],
      "execution_count": 118,
      "outputs": [
        {
          "output_type": "stream",
          "text": [
            "/usr/local/lib/python3.7/dist-packages/matplotlib/backends/backend_agg.py:214: RuntimeWarning: Glyph 27425 missing from current font.\n",
            "  font.set_text(s, 0.0, flags=flags)\n",
            "/usr/local/lib/python3.7/dist-packages/matplotlib/backends/backend_agg.py:214: RuntimeWarning: Glyph 25976 missing from current font.\n",
            "  font.set_text(s, 0.0, flags=flags)\n",
            "/usr/local/lib/python3.7/dist-packages/matplotlib/backends/backend_agg.py:183: RuntimeWarning: Glyph 27425 missing from current font.\n",
            "  font.set_text(s, 0, flags=flags)\n",
            "/usr/local/lib/python3.7/dist-packages/matplotlib/backends/backend_agg.py:183: RuntimeWarning: Glyph 25976 missing from current font.\n",
            "  font.set_text(s, 0, flags=flags)\n"
          ],
          "name": "stderr"
        },
        {
          "output_type": "display_data",
          "data": {
            "image/png": "[encoded data removed]",
            "text/plain": [
              "<Figure size 432x288 with 1 Axes>"
            ]
          },
          "metadata": {
            "tags": [],
            "needs_background": "light"
          }
        }
      ]
    },
    {
      "cell_type": "markdown",
      "metadata": {
        "id": "WbEi0MMGxl-v"
      },
      "source": [
        "## 以圖表呈現 檢驗 的 loss 變化趨勢"
      ]
    },
    {
      "cell_type": "code",
      "metadata": {
        "id": "tJEqy0aBxA3E",
        "colab": {
          "base_uri": "https://localhost:8080/",
          "height": 440
        },
        "outputId": "dc9d4223-851e-42f7-c396-bdb770290ee5"
      },
      "source": [
        "import matplotlib.pyplot as plt\n",
        "plt.figure()\n",
        "plt.plot(val_losses)\n",
        "plt.xlabel('次數')\n",
        "plt.ylabel('loss')\n",
        "plt.title('validation loss')\n",
        "plt.show()"
      ],
      "execution_count": 119,
      "outputs": [
        {
          "output_type": "stream",
          "text": [
            "/usr/local/lib/python3.7/dist-packages/matplotlib/backends/backend_agg.py:214: RuntimeWarning: Glyph 27425 missing from current font.\n",
            "  font.set_text(s, 0.0, flags=flags)\n",
            "/usr/local/lib/python3.7/dist-packages/matplotlib/backends/backend_agg.py:214: RuntimeWarning: Glyph 25976 missing from current font.\n",
            "  font.set_text(s, 0.0, flags=flags)\n",
            "/usr/local/lib/python3.7/dist-packages/matplotlib/backends/backend_agg.py:183: RuntimeWarning: Glyph 27425 missing from current font.\n",
            "  font.set_text(s, 0, flags=flags)\n",
            "/usr/local/lib/python3.7/dist-packages/matplotlib/backends/backend_agg.py:183: RuntimeWarning: Glyph 25976 missing from current font.\n",
            "  font.set_text(s, 0, flags=flags)\n"
          ],
          "name": "stderr"
        },
        {
          "output_type": "display_data",
          "data": {
            "image/png": "[encoded data removed]",
            "text/plain": [
              "<Figure size 432x288 with 1 Axes>"
            ]
          },
          "metadata": {
            "tags": [],
            "needs_background": "light"
          }
        }
      ]
    },
    {
      "cell_type": "markdown",
      "metadata": {
        "id": "C5SJkPbgxp0m"
      },
      "source": [
        "## BLEU score"
      ]
    },
    {
      "cell_type": "code",
      "metadata": {
        "id": "jhQ3Z7NPxBB8",
        "colab": {
          "base_uri": "https://localhost:8080/",
          "height": 440
        },
        "outputId": "1fe571f2-c0dd-4d59-8dda-8b220c248b49"
      },
      "source": [
        "import matplotlib.pyplot as plt\n",
        "plt.figure()\n",
        "plt.plot(bleu_scores)\n",
        "plt.xlabel('次數')\n",
        "plt.ylabel('BLEU score')\n",
        "plt.title('BLEU score')\n",
        "plt.show()"
      ],
      "execution_count": 123,
      "outputs": [
        {
          "output_type": "stream",
          "text": [
            "/usr/local/lib/python3.7/dist-packages/matplotlib/backends/backend_agg.py:214: RuntimeWarning: Glyph 27425 missing from current font.\n",
            "  font.set_text(s, 0.0, flags=flags)\n",
            "/usr/local/lib/python3.7/dist-packages/matplotlib/backends/backend_agg.py:214: RuntimeWarning: Glyph 25976 missing from current font.\n",
            "  font.set_text(s, 0.0, flags=flags)\n",
            "/usr/local/lib/python3.7/dist-packages/matplotlib/backends/backend_agg.py:183: RuntimeWarning: Glyph 27425 missing from current font.\n",
            "  font.set_text(s, 0, flags=flags)\n",
            "/usr/local/lib/python3.7/dist-packages/matplotlib/backends/backend_agg.py:183: RuntimeWarning: Glyph 25976 missing from current font.\n",
            "  font.set_text(s, 0, flags=flags)\n"
          ],
          "name": "stderr"
        },
        {
          "output_type": "display_data",
          "data": {
            "image/png": "[encoded data removed]",
            "text/plain": [
              "<Figure size 432x288 with 1 Axes>"
            ]
          },
          "metadata": {
            "tags": [],
            "needs_background": "light"
          }
        }
      ]
    },
    {
      "cell_type": "code",
      "metadata": {
        "id": "TcmxaHOCwzHE"
      },
      "source": [
        "ss = torch.load(\"./ckpt/model_11400.ckpt\")"
      ],
      "execution_count": 126,
      "outputs": []
    },
    {
      "cell_type": "code",
      "metadata": {
        "id": "5nvnIKsJyB36",
        "outputId": "ba0cb906-5919-4c17-9e7f-3eacdaee86be",
        "colab": {
          "base_uri": "https://localhost:8080/",
          "height": 171
        }
      },
      "source": [
        "ss(en)"
      ],
      "execution_count": 132,
      "outputs": [
        {
          "output_type": "error",
          "ename": "TypeError",
          "evalue": "ignored",
          "traceback": [
            "\u001b[0;31m---------------------------------------------------------------------------\u001b[0m",
            "\u001b[0;31mTypeError\u001b[0m                                 Traceback (most recent call last)",
            "\u001b[0;32m<ipython-input-132-7d452a8279b9>\u001b[0m in \u001b[0;36m<module>\u001b[0;34m()\u001b[0m\n\u001b[0;32m----> 1\u001b[0;31m \u001b[0mss\u001b[0m\u001b[0;34m(\u001b[0m\u001b[0men\u001b[0m\u001b[0;34m)\u001b[0m\u001b[0;34m\u001b[0m\u001b[0;34m\u001b[0m\u001b[0m\n\u001b[0m",
            "\u001b[0;31mTypeError\u001b[0m: 'collections.OrderedDict' object is not callable"
          ]
        }
      ]
    }
  ]
}