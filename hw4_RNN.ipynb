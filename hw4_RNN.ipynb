{
  "nbformat": 4,
  "nbformat_minor": 0,
  "metadata": {
    "colab": {
      "name": "hw4_RNN.ipynb",
      "provenance": [],
      "collapsed_sections": [],
      "toc_visible": true,
      "include_colab_link": true
    },
    "kernelspec": {
      "name": "python3",
      "display_name": "Python 3"
    },
    "accelerator": "GPU"
  },
  "cells": [
    {
      "cell_type": "markdown",
      "metadata": {
        "id": "view-in-github",
        "colab_type": "text"
      },
      "source": [
        "<a href=\"https://colab.research.google.com/github/matthew-lyr/other_stuffs/blob/main/hw4_RNN.ipynb\" target=\"_parent\"><img src=\"https://colab.research.google.com/assets/colab-badge.svg\" alt=\"Open In Colab\"/></a>"
      ]
    },
    {
      "cell_type": "markdown",
      "metadata": {
        "id": "r67y9UpchZ38"
      },
      "source": [
        "# Recurrent Neural Networks\n",
        "\n",
        "本次作業是要讓同學接觸 NLP 當中一個簡單的 task —— 語句分類（文本分類）\n",
        "\n",
        "給定一個語句，判斷他有沒有惡意（負面標 1，正面標 0）\n",
        "\n",
        "若有任何問題，歡迎來信至助教信箱 ntu-ml-2020spring-ta@googlegroups.com"
      ]
    },
    {
      "cell_type": "code",
      "metadata": {
        "id": "9ajS_WskRo0S"
      },
      "source": [
        "# from google.colab import drive\n",
        "# drive.mount('/content/drive')\n",
        "# path_prefix = 'drive/My Drive/Colab Notebooks/hw4 - Recurrent Neural Network'\n",
        "path_prefix = './'"
      ],
      "execution_count": 1,
      "outputs": []
    },
    {
      "cell_type": "markdown",
      "metadata": {
        "id": "9YrAlczfM_w6"
      },
      "source": [
        "### Download Dataset\n",
        "有三個檔案，分別是 training_label.txt、training_nolabel.txt、testing_data.txt\n",
        "\n",
        "- training_label.txt：有 label 的 training data（句子配上 0 or 1，+++$+++ 只是分隔符號，不要理它）\n",
        "    - e.g., 1 +++$+++ are wtf ... awww thanks !\n",
        "\n",
        "- training_nolabel.txt：沒有 label 的 training data（只有句子），用來做 semi-supervised learning\n",
        "    - ex: hates being this burnt !! ouch\n",
        "\n",
        "- testing_data.txt：你要判斷 testing data 裡面的句子是 0 or 1\n",
        "\n",
        "    >id,text\n",
        "\n",
        "    >0,my dog ate our dinner . no , seriously ... he ate it .\n",
        "\n",
        "    >1,omg last day sooon n of primary noooooo x im gona be swimming out of school wif the amount of tears am gona cry\n",
        "\n",
        "    >2,stupid boys .. they ' re so .. stupid !"
      ]
    },
    {
      "cell_type": "code",
      "metadata": {
        "id": "x2gwKORmuViJ",
        "colab": {
          "base_uri": "https://localhost:8080/"
        },
        "outputId": "a62a69fa-0356-4ea7-ac66-fc22f058a9e6"
      },
      "source": [
        "# !wget --no-check-certificate 'https://drive.google.com/uc?export=download&id=1dPHIl8ZnfDz_fxNd2ZeBYedTat2lfxcO' -O 'drive/My Drive/Colab Notebooks/hw8-RNN/data/training_label.txt'\n",
        "# !wget --no-check-certificate 'https://drive.google.com/uc?export=download&id=1x1rJOX_ETqnOZjdMAbEE2pqIjRNa8xcc' -O 'drive/My Drive/Colab Notebooks/hw8-RNN/data/training_nolabel.txt'\n",
        "# !wget --no-check-certificate 'https://drive.google.com/uc?export=download&id=16CtnQwSDCob9xmm6EdHHR7PNFNiOrQ30' -O 'drive/My Drive/Colab Notebooks/hw8-RNN/data/testing_data.txt'\n",
        "\n",
        "!gdown --id '1lz0Wtwxsh5YCPdqQ3E3l_nbfJT1N13V8' --output data.zip\n",
        "!unzip data.zip\n",
        "!ls"
      ],
      "execution_count": 2,
      "outputs": [
        {
          "output_type": "stream",
          "text": [
            "Downloading...\n",
            "From: https://drive.google.com/uc?id=1lz0Wtwxsh5YCPdqQ3E3l_nbfJT1N13V8\n",
            "To: /content/data.zip\n",
            "45.1MB [00:00, 143MB/s] \n",
            "Archive:  data.zip\n",
            "  inflating: training_label.txt      \n",
            "  inflating: testing_data.txt        \n",
            "  inflating: training_nolabel.txt    \n",
            "data.zip     testing_data.txt\t training_nolabel.txt\n",
            "sample_data  training_label.txt\n"
          ],
          "name": "stdout"
        }
      ]
    },
    {
      "cell_type": "code",
      "metadata": {
        "id": "8hDIokoP6464"
      },
      "source": [
        "# this is for filtering the warnings\n",
        "import warnings\n",
        "warnings.filterwarnings('ignore')"
      ],
      "execution_count": 3,
      "outputs": []
    },
    {
      "cell_type": "markdown",
      "metadata": {
        "id": "fc143hSvNGr6"
      },
      "source": [
        "### Utils"
      ]
    },
    {
      "cell_type": "code",
      "metadata": {
        "id": "ICDIhhgCY2-M"
      },
      "source": [
        "# 什么是torch.eq\n",
        "# utils.py\n",
        "# 這個 block 用來先定義一些等等常用到的函式\n",
        "import torch\n",
        "import numpy as np\n",
        "import pandas as pd\n",
        "import torch.optim as optim\n",
        "import torch.nn.functional as F\n",
        "\n",
        "def load_training_data(path='training_label.txt'):\n",
        "    # 把 training 時需要的 data 讀進來\n",
        "    # 如果是 'training_label.txt'，需要讀取 label，如果是 'training_nolabel.txt'，不需要讀取 label\n",
        "    if 'training_label' in path:\n",
        "        with open(path, 'r') as f:\n",
        "            lines = f.readlines()\n",
        "            lines = [line.strip('\\n').split(' ') for line in lines]\n",
        "        x = [line[2:] for line in lines]\n",
        "        y = [line[0] for line in lines]\n",
        "        return x, y\n",
        "    else:\n",
        "        with open(path, 'r') as f:\n",
        "            lines = f.readlines()\n",
        "            x = [line.strip('\\n').split(' ') for line in lines]\n",
        "        return x\n",
        "\n",
        "def load_testing_data(path='testing_data'):\n",
        "    # 把 testing 時需要的 data 讀進來\n",
        "    with open(path, 'r') as f:\n",
        "        lines = f.readlines()\n",
        "        X = [\"\".join(line.strip('\\n').split(\",\")[1:]).strip() for line in lines[1:]]\n",
        "        X = [sen.split(' ') for sen in X]\n",
        "    return X\n",
        "\n",
        "def evaluation(outputs, labels):\n",
        "    # outputs => probability (float)\n",
        "    # labels => labels\n",
        "    outputs[outputs>=0.5] = 1 # 大於等於 0.5 為正面\n",
        "    outputs[outputs<0.5] = 0 # 小於 0.5 為負面\n",
        "    correct = torch.sum(torch.eq(outputs, labels)).item()\n",
        "    return correct"
      ],
      "execution_count": 4,
      "outputs": []
    },
    {
      "cell_type": "markdown",
      "metadata": {
        "id": "oYE8UYQsNIxM"
      },
      "source": [
        "### Train Word to Vector"
      ]
    },
    {
      "cell_type": "code",
      "metadata": {
        "id": "cgGWaF8_2S3q",
        "colab": {
          "base_uri": "https://localhost:8080/"
        },
        "outputId": "8ba8ca33-1825-4fd5-9faa-4c5efdec718a"
      },
      "source": [
        "# w2v.py\n",
        "# 這個 block 是用來訓練 word to vector 的 word embedding\n",
        "# 注意！這個 block 在訓練 word to vector 時是用 cpu，可能要花到 10 分鐘以上\n",
        "# 什么是vector size，window，min_count(字出现少于这个次数就删了), workers, iter, sg（是skip gram还是bag of words）\n",
        "# skip gram是target word的one-hot vector去同时预测window内所有words的one-hot vectors\n",
        "# continuous bag of word是反过来的，一堆字预测一个target word\n",
        "\n",
        "import os\n",
        "import numpy as np\n",
        "import pandas as pd\n",
        "import argparse\n",
        "from gensim.models import word2vec\n",
        "\n",
        "def train_word2vec(x):\n",
        "    # 訓練 word to vector 的 word embedding\n",
        "    model = word2vec.Word2Vec(x, size=250, window=5, min_count=5, workers=12, iter=10, sg=1)\n",
        "    return model\n",
        "\n",
        "if __name__ == \"__main__\":\n",
        "    print(\"loading training data ...\")\n",
        "    train_x, y = load_training_data('training_label.txt')\n",
        "    train_x_no_label = load_training_data('training_nolabel.txt')\n",
        "\n",
        "    print(\"loading testing data ...\")\n",
        "    test_x = load_testing_data('testing_data.txt')\n",
        "\n",
        "    #model = train_word2vec(train_x + train_x_no_label + test_x)\n",
        "    model = train_word2vec(train_x + test_x)\n",
        "    \n",
        "    print(\"saving model ...\")\n",
        "    # model.save(os.path.join(path_prefix, 'model/w2v_all.model'))\n",
        "    model.save(os.path.join(path_prefix, 'w2v_all.model'))"
      ],
      "execution_count": 5,
      "outputs": [
        {
          "output_type": "stream",
          "text": [
            "loading training data ...\n",
            "loading testing data ...\n",
            "saving model ...\n"
          ],
          "name": "stdout"
        }
      ]
    },
    {
      "cell_type": "code",
      "metadata": {
        "id": "Cl6UamYDK6RW",
        "colab": {
          "base_uri": "https://localhost:8080/"
        },
        "outputId": "a5617ff9-1050-4cde-b3a7-431014e21cab"
      },
      "source": [
        "model.vector_size"
      ],
      "execution_count": 9,
      "outputs": [
        {
          "output_type": "execute_result",
          "data": {
            "text/plain": [
              "250"
            ]
          },
          "metadata": {
            "tags": []
          },
          "execution_count": 9
        }
      ]
    },
    {
      "cell_type": "markdown",
      "metadata": {
        "id": "3wHLtS0wNR6w"
      },
      "source": [
        "### Data Preprocess"
      ]
    },
    {
      "cell_type": "code",
      "metadata": {
        "id": "CfGKiOitk5ob"
      },
      "source": [
        "# preprocess.py\n",
        "# no offense 这个block写的就是傻逼，写个class多此一举\n",
        "# 這個 block 用來做 data 的預處理\n",
        "from torch import nn\n",
        "from gensim.models import Word2Vec\n",
        "\n",
        "class Preprocess():\n",
        "    def __init__(self, sentences, sen_len, w2v_path=\"./w2v.model\"):\n",
        "        self.w2v_path = w2v_path\n",
        "        self.sentences = sentences\n",
        "        self.sen_len = sen_len\n",
        "        self.idx2word = []\n",
        "        self.word2idx = {}\n",
        "        self.embedding_matrix = []\n",
        "    def get_w2v_model(self):\n",
        "        # 把之前訓練好的 word to vec 模型讀進來\n",
        "        self.embedding = Word2Vec.load(self.w2v_path)\n",
        "        self.embedding_dim = self.embedding.vector_size\n",
        "    def add_embedding(self, word):\n",
        "        # 把 word 加進 embedding，並賦予他一個隨機生成的 representation vector\n",
        "        # what's torch.nn.init.uniform_？\n",
        "        # 是在initialize weights\n",
        "        # word 只會是 \"<PAD>\" 或 \"<UNK>\"\n",
        "        vector = torch.empty(1, self.embedding_dim)\n",
        "        torch.nn.init.uniform_(vector)\n",
        "        self.word2idx[word] = len(self.word2idx)\n",
        "        self.idx2word.append(word)\n",
        "        self.embedding_matrix = torch.cat([self.embedding_matrix, vector], 0)\n",
        "    def make_embedding(self, load=True):\n",
        "        print(\"Get embedding ...\")\n",
        "        # 取得訓練好的 Word2vec word embedding\n",
        "        if load:\n",
        "            print(\"loading word to vec model ...\")\n",
        "            self.get_w2v_model()\n",
        "        else:\n",
        "            raise NotImplementedError\n",
        "        # 製作一個 word2idx 的 dictionary\n",
        "        # 製作一個 idx2word 的 list\n",
        "        # 製作一個 word2vector 的 list\n",
        "        for i, word in enumerate(self.embedding.wv.vocab):\n",
        "            print('get words #{}'.format(i+1), end='\\r')\n",
        "            #e.g. self.word2index['he'] = 1 \n",
        "            #e.g. self.index2word[1] = 'he'\n",
        "            #e.g. self.vectors[1] = 'he' vector\n",
        "            self.word2idx[word] = len(self.word2idx)\n",
        "            self.idx2word.append(word)\n",
        "            self.embedding_matrix.append(self.embedding[word])\n",
        "        print('')\n",
        "        self.embedding_matrix = torch.tensor(self.embedding_matrix)\n",
        "        # 將 \"<PAD>\" 跟 \"<UNK>\" 加進 embedding 裡面\n",
        "        self.add_embedding(\"<PAD>\")\n",
        "        self.add_embedding(\"<UNK>\")\n",
        "        print(\"total words: {}\".format(len(self.embedding_matrix)))\n",
        "        return self.embedding_matrix\n",
        "    def pad_sequence(self, sentence):\n",
        "        # 將每個句子變成一樣的長度\n",
        "        # 应该是pad sentence id因为这个不是句子，而是被转化成id的句子\n",
        "        if len(sentence) > self.sen_len:\n",
        "            sentence = sentence[:self.sen_len]\n",
        "        else:\n",
        "            pad_len = self.sen_len - len(sentence)\n",
        "            for _ in range(pad_len):\n",
        "                sentence.append(self.word2idx[\"<PAD>\"])\n",
        "        assert len(sentence) == self.sen_len\n",
        "        return sentence\n",
        "    def sentence_word2idx(self):\n",
        "        # 把句子裡面的字轉成相對應的 index\n",
        "        sentence_list = []\n",
        "        for i, sen in enumerate(self.sentences):\n",
        "            print('sentence count #{}'.format(i+1), end='\\r')\n",
        "            sentence_idx = []\n",
        "            for word in sen:\n",
        "                if (word in self.word2idx.keys()):\n",
        "                    sentence_idx.append(self.word2idx[word])\n",
        "                else:\n",
        "                    sentence_idx.append(self.word2idx[\"<UNK>\"])\n",
        "            # 將每個句子變成一樣的長度\n",
        "            sentence_idx = self.pad_sequence(sentence_idx)\n",
        "            sentence_list.append(sentence_idx)\n",
        "        return torch.LongTensor(sentence_list)\n",
        "    def labels_to_tensor(self, y):\n",
        "        # 把 labels 轉成 tensor\n",
        "        y = [int(label) for label in y]\n",
        "        return torch.LongTensor(y)\n"
      ],
      "execution_count": 6,
      "outputs": []
    },
    {
      "cell_type": "code",
      "metadata": {
        "id": "QC_dbtTvepvj"
      },
      "source": [
        "# words = []\n",
        "# for i, word in enumerate(model.wv.vocab):\n",
        "#     words.append(word)\n",
        "# words  \n",
        "# model['ate'].shape\n",
        "\n",
        "embedding = []\n",
        "for i, word in enumerate(model.wv.vocab):\n",
        "    embedding.append(model[word])\n",
        "embedding = torch.tensor(embedding)"
      ],
      "execution_count": 30,
      "outputs": []
    },
    {
      "cell_type": "code",
      "metadata": {
        "colab": {
          "base_uri": "https://localhost:8080/"
        },
        "id": "dQF2zyuLg5yd",
        "outputId": "2d075d15-a476-46a8-f790-2cc6c300e109"
      },
      "source": [
        "embedding"
      ],
      "execution_count": 32,
      "outputs": [
        {
          "output_type": "execute_result",
          "data": {
            "text/plain": [
              "tensor([[-0.0881,  0.2244, -0.0161,  ...,  0.0138, -0.2250,  0.1842],\n",
              "        [ 0.0135, -0.0275, -0.2926,  ...,  0.0954, -0.0447, -0.2557],\n",
              "        [ 0.0637,  0.1814,  0.0685,  ..., -0.0070, -0.1157,  0.0535],\n",
              "        ...,\n",
              "        [-0.0078, -0.0156, -0.0111,  ...,  0.1844, -0.3107, -0.0750],\n",
              "        [-0.0678,  0.0389,  0.1543,  ...,  0.0513, -0.1473,  0.1277],\n",
              "        [ 0.0294,  0.1446,  0.1994,  ...,  0.0735, -0.2691,  0.1257]])"
            ]
          },
          "metadata": {
            "tags": []
          },
          "execution_count": 32
        }
      ]
    },
    {
      "cell_type": "markdown",
      "metadata": {
        "id": "3WJB7go5NWL0"
      },
      "source": [
        "### Dataset"
      ]
    },
    {
      "cell_type": "code",
      "metadata": {
        "id": "XketwKs4lFfB"
      },
      "source": [
        "# data.py\n",
        "# 實作了 dataset 所需要的 '__init__', '__getitem__', '__len__'\n",
        "# 好讓 dataloader 能使用\n",
        "import torch\n",
        "from torch.utils import data\n",
        "\n",
        "class TwitterDataset(data.Dataset):\n",
        "    \"\"\"\n",
        "    Expected data shape like:(data_num, data_len)\n",
        "    Data can be a list of numpy array or a list of lists\n",
        "    input data shape : (data_num, seq_len, feature_dim)\n",
        "    \n",
        "    __len__ will return the number of data\n",
        "    \"\"\"\n",
        "    def __init__(self, X, y):\n",
        "        self.data = X\n",
        "        self.label = y\n",
        "    def __getitem__(self, idx):\n",
        "        if self.label is None: return self.data[idx]\n",
        "        return self.data[idx], self.label[idx]\n",
        "    def __len__(self):\n",
        "        return len(self.data)"
      ],
      "execution_count": null,
      "outputs": []
    },
    {
      "cell_type": "markdown",
      "metadata": {
        "id": "uNJ8xWIMNa2r"
      },
      "source": [
        "### Model"
      ]
    },
    {
      "cell_type": "code",
      "metadata": {
        "id": "v67syGgDhOEq"
      },
      "source": [
        "# embedding\n",
        "embedding = []\n",
        "for i, word in enumerate(model.wv.vocab):\n",
        "    embedding.append(model[word])\n",
        "embedding = torch.tensor(embedding)\n",
        "# embedding layer\n",
        "embedding_layer = torch.nn.Embedding(embedding.size(0),embedding.size(1))\n",
        "embedding_layer.weight = torch.nn.Parameter(embedding)\n",
        "\n",
        "\n",
        "embedding.weight.requires_grad = False if fix_embedding else True\n",
        "embedding_dim = embedding.size(1)\n",
        "hidden_dim = hidden_dim\n",
        "num_layers = num_layers\n",
        "dropout = dropout\n",
        "lstm = nn.LSTM(embedding_dim, hidden_dim, num_layers=num_layers, batch_first=True)\n",
        "\n"
      ],
      "execution_count": 10,
      "outputs": []
    },
    {
      "cell_type": "code",
      "metadata": {
        "id": "uU5mdAsjheHK"
      },
      "source": [
        "# print(embedding[0])\n",
        "# print(embedding_layer(torch.LongTensor([0])))\n",
        "train_x, y = load_training_data('training_label.txt')\n",
        "# train_x\n",
        "# input = embedding_layer(train_x)"
      ],
      "execution_count": null,
      "outputs": []
    },
    {
      "cell_type": "code",
      "metadata": {
        "id": "ZS6RJADulIq1"
      },
      "source": [
        "# model.py\n",
        "# 這個 block 是要拿來訓練的模型\n",
        "# embedding和embedding layer有什么区别\n",
        "# 用word2vec这个package能train出一个matrix，每一行是一个词，matrix shape为a x b，所以a表示有多少个词，b是每个词对应的vector里面的element数量，\n",
        "# 这个matrix只是matrix而已，需要被变成torch.nn module才能被pytorch用到\n",
        "# pytorch有个特意的module叫做torch.nn.Embedding，用来把之前学到的matrix变成embedding layer\n",
        "# embedding layer除了是pytorch module外，shape，和里面的内容跟之前的embedding matrix一摸一样\n",
        "# 把input输入到embedding layer里时，不会进行任何matrix乘法，加法的运算，\n",
        "# 只是单纯的lookup。input里面的每一个数字，都会被当作index去找embedding layer里面对应的行，比如input是[2,3]，输入到embedding layer里后 embedding(input) \n",
        "# output就是embedding里的第二行和第三行\n",
        "# embedding layer 吃什么？\n",
        "# embedding layer可以吃array，array of array，array of array of array 等等，但里面每一个数字都会被当作index来去找embedding layer里对应的行数\n",
        "# LSTM里面是怎么回事，吃什么，吐什么\n",
        "# LSTM 吃input 和 一个tuple，\n",
        "# input必须是3 dimensional，分别是（batch_size, seq_len, input_size）batch_size是说一共有几个句子 seq_len指句子里有几个词 input_size只每个词是用含有几个element的array表示出来的\n",
        "# setting batch_first=True requires the input to have the shape [batch_size, seq_len, input_size]\n",
        "# tuple里是（h0,c0）是起始记忆，可以随便开始，也可以用之前train过LSTM的记忆\n",
        "# LSTM吃inputs，但what the fuck is in inputs\n",
        "# LSTM吐outputs 和一个tuple\n",
        "# output就是之前的input，只是把每个词构建array所需要的elements数量变了\n",
        "# tuple变成了（h1，c1）是之后的记忆\n",
        "\n",
        "\n",
        "import torch\n",
        "from torch import nn\n",
        "class LSTM_Net(nn.Module):\n",
        "    def __init__(self, embedding, embedding_dim, hidden_dim, num_layers, dropout=0.5, fix_embedding=True):\n",
        "        super(LSTM_Net, self).__init__()\n",
        "        # 製作 embedding layer\n",
        "        self.embedding = torch.nn.Embedding(embedding.size(0),embedding.size(1))\n",
        "        self.embedding.weight = torch.nn.Parameter(embedding)\n",
        "        # 是否將 embedding fix 住，如果 fix_embedding 為 False，在訓練過程中，embedding 也會跟著被訓練\n",
        "        self.embedding.weight.requires_grad = False if fix_embedding else True\n",
        "        self.embedding_dim = embedding.size(1)\n",
        "        self.hidden_dim = hidden_dim\n",
        "        self.num_layers = num_layers\n",
        "        self.dropout = dropout\n",
        "        self.lstm = nn.LSTM(embedding_dim, hidden_dim, num_layers=num_layers, batch_first=True)\n",
        "        self.classifier = nn.Sequential( nn.Dropout(dropout),\n",
        "                                         nn.Linear(hidden_dim, 1),\n",
        "                                         nn.Sigmoid() )\n",
        "    def forward(self, inputs):\n",
        "        inputs = self.embedding(inputs)\n",
        "        x, _ = self.lstm(inputs, None)\n",
        "        # x 的 dimension (batch, seq_len, hidden_size)\n",
        "        # 取用 LSTM 最後一層的 hidden state\n",
        "        x = x[:, -1, :] \n",
        "        x = self.classifier(x)\n",
        "        return x"
      ],
      "execution_count": 23,
      "outputs": []
    },
    {
      "cell_type": "code",
      "metadata": {
        "colab": {
          "base_uri": "https://localhost:8080/"
        },
        "id": "l9UeRrwXd19M",
        "outputId": "18692789-b23b-408a-b0f3-37c836385df9"
      },
      "source": [
        "# main.py\n",
        "import os\n",
        "import torch\n",
        "import argparse\n",
        "import numpy as np\n",
        "from torch import nn\n",
        "from gensim.models import word2vec\n",
        "from sklearn.model_selection import train_test_split\n",
        "\n",
        "# 處理好各個 data 的路徑\n",
        "train_with_label = os.path.join(path_prefix, 'training_label.txt')\n",
        "\n",
        "w2v_path = os.path.join(path_prefix, 'w2v_all.model') # 處理 word to vec model 的路徑\n",
        "\n",
        "train_x, y = load_training_data(train_with_label)\n",
        "\n",
        "print(train_x[:10])\n",
        "print(y[:10])\n",
        "\n",
        "# # 對 input 跟 labels 做預處理\n",
        "embedding = []\n",
        "for i, word in enumerate(model.wv.vocab):\n",
        "    embedding.append(model[word])\n",
        "embedding = torch.tensor(embedding)\n",
        "\n",
        "print(embedding[:10])\n",
        "\n",
        "word2idx = {}\n",
        "\n",
        "for i, word in enumerate(model.wv.vocab):\n",
        "    word2idx[word] = len(word2idx)\n",
        "\n",
        "word2idx['<PAD>'] = len(word2idx)\n",
        "vector = torch.empty(1, embedding.shape[1])\n",
        "torch.nn.init.uniform_(vector)\n",
        "embedding = torch.cat([embedding, vector], 0)\n",
        "\n",
        "word2idx['<UNK>'] = len(word2idx)\n",
        "vector = torch.empty(1, embedding.shape[1])\n",
        "torch.nn.init.uniform_(vector)\n",
        "embedding = torch.cat([embedding, vector], 0)\n",
        "\n",
        "sentence_list = []\n",
        "for i, sen in enumerate(train_x):\n",
        "    sentence_idx = []\n",
        "    for word in sen:\n",
        "        if (word in word2idx.keys()):\n",
        "            sentence_idx.append(word2idx[word])\n",
        "        else:\n",
        "            sentence_idx.append(word2idx[\"<UNK>\"])\n",
        "            # 將每個句子變成一樣的長度\n",
        "    if len(sentence_idx) > 7:\n",
        "        sentence_idx = sentence_idx[:7]\n",
        "    else:\n",
        "        pad_len = 7 - len(sentence_idx)\n",
        "        for _ in range(pad_len):\n",
        "            sentence_idx.append(word2idx[\"<PAD>\"])\n",
        "    sentence_list.append(sentence_idx)\n",
        "# sentence_word2idx的结果\n",
        "train_x = torch.LongTensor(sentence_list)\n",
        "\n",
        "print(train_x[:10])\n",
        "\n",
        "y = [int(label) for label in y]\n",
        "y = torch.LongTensor(y)\n",
        "\n",
        "print(y[:10])\n",
        "\n",
        "\n",
        "\n",
        "# embedding layer\n",
        "embedding_layer = torch.nn.Embedding(embedding.size(0),embedding.size(1))\n",
        "embedding_layer.weight = torch.nn.Parameter(embedding)\n",
        "\n",
        "\n",
        "embedding_layer.weight.requires_grad = False \n",
        "embedding_dim = embedding.size(1)\n",
        "\n",
        "print(embedding_dim)\n",
        "print(embedding.shape)\n",
        "\n",
        "hidden_dim = 100\n",
        "num_layers = 10\n",
        "dropout = 0.5\n",
        "\n",
        "lstm = nn.LSTM(embedding_dim, hidden_dim, num_layers=num_layers, batch_first=True)\n",
        "\n",
        "\n",
        "\n",
        "# # 製作一個 model 的對象\n",
        "# model = LSTM_Net(embedding, embedding_dim=250, hidden_dim=150, num_layers=1, dropout=0.5, fix_embedding=fix_embedding)\n",
        "# training(batch_size, epoch, lr, model_dir, train_loader, val_loader, model, device)"
      ],
      "execution_count": 42,
      "outputs": [
        {
          "output_type": "stream",
          "text": [
            "[['are', 'wtf', '...', 'awww', 'thanks', '!'], ['leavingg', 'to', 'wait', 'for', 'kaysie', 'to', 'arrive', 'myspacin', 'itt', 'for', 'now', 'ilmmthek', '.!'], ['i', 'wish', 'i', 'could', 'go', 'and', 'see', 'duffy', 'when', 'she', 'comes', 'to', 'mamaia', 'romania', '.'], ['i', 'know', 'eep', '!', 'i', 'can', \"'\", 't', 'wait', 'for', 'one', 'more', 'day', '....'], ['so', 'scared', 'and', 'feeling', 'sick', '.', 'fuck', '!', 'hope', 'someone', 'at', 'hr', 'help', '...', 'wish', 'it', 'would', 'be', 'wendita', 'or', 'karen', '.'], ['my', 'b', 'day', 'was', 'thurs', '.', 'i', 'wanted', '2', 'do', '5', 'this', 'weekend', 'for', 'my', 'b', 'day', 'but', 'i', 'guess', 'close', 'enough', 'next', 'weekend', '.', 'going', 'alone'], ['e3', 'is', 'in', 'the', 'trending', 'topics', 'only', 'just', 'noticed', 'ive', 'been', 'tweeting', 'on', 'my', 'iphone', 'until', 'now'], ['where', 'did', 'you', 'get', 'him', 'from', 'i', 'know', 'someone', 'who', 'would', 'love', 'that', '!'], ['dam', 'just', 'got', 'buzzed', 'by', 'another', 'huge', 'fly', '!', 'this', 'time', 'it', 'landed', 'on', 'my', 'head', '...', 'not', 'impressed'], ['tomorrowwwwwwwww', '!!!', 'you', \"'\", 'll', 'love', 'tomorrow', \"'\", 's', 'news', '!']]\n",
            "['1', '1', '0', '1', '0', '0', '1', '1', '0', '1']\n",
            "tensor([[-0.2344, -0.1906,  0.0504,  ..., -0.1972,  0.0304, -0.1410],\n",
            "        [ 0.1448,  0.0139, -0.2921,  ..., -0.2492, -0.1936,  0.0598],\n",
            "        [-0.1230, -0.0452,  0.1611,  ..., -0.2479, -0.1225,  0.0611],\n",
            "        ...,\n",
            "        [-0.0298, -0.3123,  0.0188,  ...,  0.1792, -0.1787,  0.2682],\n",
            "        [ 0.1622, -0.3672,  0.0839,  ..., -0.0866,  0.1954,  0.0680],\n",
            "        [-0.1655, -0.3279,  0.0510,  ...,  0.2309, -0.2108, -0.3705]])\n",
            "tensor([[    0,     1,     2,     3,     4,     5, 24694],\n",
            "        [24695,     6,     7,     8, 24695,     6,     9],\n",
            "        [   13,    14,    13,    15,    16,    17,    18],\n",
            "        [   13,    24,    25,     5,    13,    26,    27],\n",
            "        [   33,    34,    17,    35,    36,    23,    37],\n",
            "        [   48,    49,    31,    50,    51,    23,    13],\n",
            "        [   65,    66,    67,    68,    69,    70,    71],\n",
            "        [   80,    81,    82,    83,    84,    85,    13],\n",
            "        [   89,    72,    90,    91,    92,    93,    94],\n",
            "        [24695,   101,    82,    27,   102,    87,   103]])\n",
            "tensor([1, 1, 0, 1, 0, 0, 1, 1, 0, 1])\n",
            "250\n",
            "torch.Size([24696, 250])\n"
          ],
          "name": "stdout"
        }
      ]
    },
    {
      "cell_type": "markdown",
      "metadata": {
        "id": "ZNiAPsxBcVwu"
      },
      "source": [
        "![image.png](data:image/png;base64,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)"
      ]
    },
    {
      "cell_type": "code",
      "metadata": {
        "colab": {
          "base_uri": "https://localhost:8080/"
        },
        "id": "rrlb4Qk3i1lj",
        "outputId": "98ed5afa-905c-43da-9645-bce7507cc3c5"
      },
      "source": [
        "\n",
        "\n",
        "\n",
        "print(train_x.shape)\n",
        "# print(embedding_layer)\n",
        "input = embedding_layer(train_x)\n",
        "print(input.shape)\n",
        "lstm = nn.LSTM(input_size = 250, hidden_size = 8, num_layers = 5, batch_first=True)\n",
        "a = lstm(input)\n",
        "print(a[0].shape)\n",
        "\n",
        "print(a[0][0])\n",
        "print(a[0][0].shape)\n",
        "\n",
        "print(a[0][:,0,:].shape)"
      ],
      "execution_count": null,
      "outputs": [
        {
          "output_type": "stream",
          "text": [
            "torch.Size([200000, 7])\n",
            "torch.Size([200000, 7, 250])\n"
          ],
          "name": "stdout"
        }
      ]
    },
    {
      "cell_type": "code",
      "metadata": {
        "colab": {
          "base_uri": "https://localhost:8080/",
          "height": 831
        },
        "id": "Hzb6M2CJ5KZh",
        "outputId": "3c51ebd6-2b67-4f96-b685-f006aee28e88"
      },
      "source": [
        "from torch import nn\n",
        "#  5 \n",
        "x = torch.rand([5,4,3])\n",
        "print(x)\n",
        "x = nn.LSTM(, num_layers=2, batch_first=True)(x,None)\n",
        "print(x)"
      ],
      "execution_count": 13,
      "outputs": [
        {
          "output_type": "stream",
          "text": [
            "tensor([[[0.3569, 0.6196, 0.0428],\n",
            "         [0.2071, 0.3757, 0.6306],\n",
            "         [0.2115, 0.1512, 0.8808],\n",
            "         [0.8912, 0.1054, 0.2327]],\n",
            "\n",
            "        [[0.9929, 0.6118, 0.0184],\n",
            "         [0.4313, 0.3615, 0.8026],\n",
            "         [0.4923, 0.0164, 0.8610],\n",
            "         [0.5669, 0.3129, 0.5037]],\n",
            "\n",
            "        [[0.8783, 0.2691, 0.9538],\n",
            "         [0.9745, 0.1745, 0.1450],\n",
            "         [0.0115, 0.6145, 0.7512],\n",
            "         [0.4000, 0.8153, 0.1036]],\n",
            "\n",
            "        [[0.3495, 0.1458, 0.3919],\n",
            "         [0.5251, 0.3193, 0.9116],\n",
            "         [0.7709, 0.2423, 0.6467],\n",
            "         [0.9586, 0.7667, 0.3692]],\n",
            "\n",
            "        [[0.1175, 0.8370, 0.9423],\n",
            "         [0.8454, 0.3778, 0.0580],\n",
            "         [0.9952, 0.6535, 0.5155],\n",
            "         [0.2686, 0.0030, 0.5438]]])\n"
          ],
          "name": "stdout"
        },
        {
          "output_type": "error",
          "ename": "TypeError",
          "evalue": "ignored",
          "traceback": [
            "\u001b[0;31m---------------------------------------------------------------------------\u001b[0m",
            "\u001b[0;31mTypeError\u001b[0m                                 Traceback (most recent call last)",
            "\u001b[0;32m<ipython-input-13-4e59600a27b4>\u001b[0m in \u001b[0;36m<module>\u001b[0;34m()\u001b[0m\n\u001b[1;32m      2\u001b[0m \u001b[0mx\u001b[0m \u001b[0;34m=\u001b[0m \u001b[0mtorch\u001b[0m\u001b[0;34m.\u001b[0m\u001b[0mrand\u001b[0m\u001b[0;34m(\u001b[0m\u001b[0;34m[\u001b[0m\u001b[0;36m5\u001b[0m\u001b[0;34m,\u001b[0m\u001b[0;36m4\u001b[0m\u001b[0;34m,\u001b[0m\u001b[0;36m3\u001b[0m\u001b[0;34m]\u001b[0m\u001b[0;34m)\u001b[0m\u001b[0;34m\u001b[0m\u001b[0;34m\u001b[0m\u001b[0m\n\u001b[1;32m      3\u001b[0m \u001b[0mprint\u001b[0m\u001b[0;34m(\u001b[0m\u001b[0mx\u001b[0m\u001b[0;34m)\u001b[0m\u001b[0;34m\u001b[0m\u001b[0;34m\u001b[0m\u001b[0m\n\u001b[0;32m----> 4\u001b[0;31m \u001b[0mx\u001b[0m \u001b[0;34m=\u001b[0m \u001b[0mnn\u001b[0m\u001b[0;34m.\u001b[0m\u001b[0mLSTM\u001b[0m\u001b[0;34m(\u001b[0m\u001b[0;34m(\u001b[0m\u001b[0;36m4\u001b[0m\u001b[0;34m,\u001b[0m\u001b[0;36m3\u001b[0m\u001b[0;34m)\u001b[0m\u001b[0;34m,\u001b[0m \u001b[0;34m(\u001b[0m\u001b[0;36m3\u001b[0m\u001b[0;34m,\u001b[0m\u001b[0;36m2\u001b[0m\u001b[0;34m)\u001b[0m\u001b[0;34m,\u001b[0m \u001b[0mnum_layers\u001b[0m\u001b[0;34m=\u001b[0m\u001b[0;36m2\u001b[0m\u001b[0;34m,\u001b[0m \u001b[0mbatch_first\u001b[0m\u001b[0;34m=\u001b[0m\u001b[0;32mTrue\u001b[0m\u001b[0;34m)\u001b[0m\u001b[0;34m(\u001b[0m\u001b[0mx\u001b[0m\u001b[0;34m,\u001b[0m\u001b[0;32mNone\u001b[0m\u001b[0;34m)\u001b[0m\u001b[0;34m\u001b[0m\u001b[0;34m\u001b[0m\u001b[0m\n\u001b[0m\u001b[1;32m      5\u001b[0m \u001b[0mprint\u001b[0m\u001b[0;34m(\u001b[0m\u001b[0mx\u001b[0m\u001b[0;34m)\u001b[0m\u001b[0;34m\u001b[0m\u001b[0;34m\u001b[0m\u001b[0m\n",
            "\u001b[0;32m/usr/local/lib/python3.7/dist-packages/torch/nn/modules/rnn.py\u001b[0m in \u001b[0;36m__init__\u001b[0;34m(self, *args, **kwargs)\u001b[0m\n\u001b[1;32m    588\u001b[0m \u001b[0;34m\u001b[0m\u001b[0m\n\u001b[1;32m    589\u001b[0m     \u001b[0;32mdef\u001b[0m \u001b[0m__init__\u001b[0m\u001b[0;34m(\u001b[0m\u001b[0mself\u001b[0m\u001b[0;34m,\u001b[0m \u001b[0;34m*\u001b[0m\u001b[0margs\u001b[0m\u001b[0;34m,\u001b[0m \u001b[0;34m**\u001b[0m\u001b[0mkwargs\u001b[0m\u001b[0;34m)\u001b[0m\u001b[0;34m:\u001b[0m\u001b[0;34m\u001b[0m\u001b[0;34m\u001b[0m\u001b[0m\n\u001b[0;32m--> 590\u001b[0;31m         \u001b[0msuper\u001b[0m\u001b[0;34m(\u001b[0m\u001b[0mLSTM\u001b[0m\u001b[0;34m,\u001b[0m \u001b[0mself\u001b[0m\u001b[0;34m)\u001b[0m\u001b[0;34m.\u001b[0m\u001b[0m__init__\u001b[0m\u001b[0;34m(\u001b[0m\u001b[0;34m'LSTM'\u001b[0m\u001b[0;34m,\u001b[0m \u001b[0;34m*\u001b[0m\u001b[0margs\u001b[0m\u001b[0;34m,\u001b[0m \u001b[0;34m**\u001b[0m\u001b[0mkwargs\u001b[0m\u001b[0;34m)\u001b[0m\u001b[0;34m\u001b[0m\u001b[0;34m\u001b[0m\u001b[0m\n\u001b[0m\u001b[1;32m    591\u001b[0m \u001b[0;34m\u001b[0m\u001b[0m\n\u001b[1;32m    592\u001b[0m     \u001b[0;32mdef\u001b[0m \u001b[0mget_expected_cell_size\u001b[0m\u001b[0;34m(\u001b[0m\u001b[0mself\u001b[0m\u001b[0;34m,\u001b[0m \u001b[0minput\u001b[0m\u001b[0;34m:\u001b[0m \u001b[0mTensor\u001b[0m\u001b[0;34m,\u001b[0m \u001b[0mbatch_sizes\u001b[0m\u001b[0;34m:\u001b[0m \u001b[0mOptional\u001b[0m\u001b[0;34m[\u001b[0m\u001b[0mTensor\u001b[0m\u001b[0;34m]\u001b[0m\u001b[0;34m)\u001b[0m \u001b[0;34m->\u001b[0m \u001b[0mTuple\u001b[0m\u001b[0;34m[\u001b[0m\u001b[0mint\u001b[0m\u001b[0;34m,\u001b[0m \u001b[0mint\u001b[0m\u001b[0;34m,\u001b[0m \u001b[0mint\u001b[0m\u001b[0;34m]\u001b[0m\u001b[0;34m:\u001b[0m\u001b[0;34m\u001b[0m\u001b[0;34m\u001b[0m\u001b[0m\n",
            "\u001b[0;32m/usr/local/lib/python3.7/dist-packages/torch/nn/modules/rnn.py\u001b[0m in \u001b[0;36m__init__\u001b[0;34m(self, mode, input_size, hidden_size, num_layers, bias, batch_first, dropout, bidirectional, proj_size)\u001b[0m\n\u001b[1;32m     64\u001b[0m         \u001b[0;32mif\u001b[0m \u001b[0mproj_size\u001b[0m \u001b[0;34m<\u001b[0m \u001b[0;36m0\u001b[0m\u001b[0;34m:\u001b[0m\u001b[0;34m\u001b[0m\u001b[0;34m\u001b[0m\u001b[0m\n\u001b[1;32m     65\u001b[0m             \u001b[0;32mraise\u001b[0m \u001b[0mValueError\u001b[0m\u001b[0;34m(\u001b[0m\u001b[0;34m\"proj_size should be a positive integer or zero to disable projections\"\u001b[0m\u001b[0;34m)\u001b[0m\u001b[0;34m\u001b[0m\u001b[0;34m\u001b[0m\u001b[0m\n\u001b[0;32m---> 66\u001b[0;31m         \u001b[0;32mif\u001b[0m \u001b[0mproj_size\u001b[0m \u001b[0;34m>=\u001b[0m \u001b[0mhidden_size\u001b[0m\u001b[0;34m:\u001b[0m\u001b[0;34m\u001b[0m\u001b[0;34m\u001b[0m\u001b[0m\n\u001b[0m\u001b[1;32m     67\u001b[0m             \u001b[0;32mraise\u001b[0m \u001b[0mValueError\u001b[0m\u001b[0;34m(\u001b[0m\u001b[0;34m\"proj_size has to be smaller than hidden_size\"\u001b[0m\u001b[0;34m)\u001b[0m\u001b[0;34m\u001b[0m\u001b[0;34m\u001b[0m\u001b[0m\n\u001b[1;32m     68\u001b[0m \u001b[0;34m\u001b[0m\u001b[0m\n",
            "\u001b[0;31mTypeError\u001b[0m: '>=' not supported between instances of 'int' and 'tuple'"
          ]
        }
      ]
    },
    {
      "cell_type": "markdown",
      "metadata": {
        "id": "aWlpEL0sNc10"
      },
      "source": [
        "### Train"
      ]
    },
    {
      "cell_type": "code",
      "metadata": {
        "id": "4QR4MMz-lR7i"
      },
      "source": [
        "# train.py\n",
        "# 這個 block 是用來訓練模型的\n",
        "import torch\n",
        "from torch import nn\n",
        "import torch.optim as optim\n",
        "import torch.nn.functional as F\n",
        "\n",
        "def training(batch_size, n_epoch, lr, model_dir, train, valid, model, device):\n",
        "    total = sum(p.numel() for p in model.parameters())\n",
        "    trainable = sum(p.numel() for p in model.parameters() if p.requires_grad)\n",
        "    print('\\nstart training, parameter total:{}, trainable:{}\\n'.format(total, trainable))\n",
        "    model.train() # 將 model 的模式設為 train，這樣 optimizer 就可以更新 model 的參數\n",
        "    criterion = nn.BCELoss() # 定義損失函數，這裡我們使用 binary cross entropy loss\n",
        "    t_batch = len(train) \n",
        "    v_batch = len(valid) \n",
        "    optimizer = optim.Adam(model.parameters(), lr=lr) # 將模型的參數給 optimizer，並給予適當的 learning rate\n",
        "    total_loss, total_acc, best_acc = 0, 0, 0\n",
        "    for epoch in range(n_epoch):\n",
        "        total_loss, total_acc = 0, 0\n",
        "        # 這段做 training\n",
        "        for i, (inputs, labels) in enumerate(train):\n",
        "            inputs = inputs.to(device, dtype=torch.long) # device 為 \"cuda\"，將 inputs 轉成 torch.cuda.LongTensor\n",
        "            labels = labels.to(device, dtype=torch.float) # device為 \"cuda\"，將 labels 轉成 torch.cuda.FloatTensor，因為等等要餵進 criterion，所以型態要是 float\n",
        "            optimizer.zero_grad() # 由於 loss.backward() 的 gradient 會累加，所以每次餵完一個 batch 後需要歸零\n",
        "            outputs = model(inputs) # 將 input 餵給模型\n",
        "            outputs = outputs.squeeze() # 去掉最外面的 dimension，好讓 outputs 可以餵進 criterion()\n",
        "            loss = criterion(outputs, labels) # 計算此時模型的 training loss\n",
        "            loss.backward() # 算 loss 的 gradient\n",
        "            optimizer.step() # 更新訓練模型的參數\n",
        "            correct = evaluation(outputs, labels) # 計算此時模型的 training accuracy\n",
        "            total_acc += (correct / batch_size)\n",
        "            total_loss += loss.item()\n",
        "            print('[ Epoch{}: {}/{} ] loss:{:.3f} acc:{:.3f} '.format(\n",
        "            \tepoch+1, i+1, t_batch, loss.item(), correct*100/batch_size), end='\\r')\n",
        "        print('\\nTrain | Loss:{:.5f} Acc: {:.3f}'.format(total_loss/t_batch, total_acc/t_batch*100))\n",
        "\n",
        "        # 這段做 validation\n",
        "        model.eval() # 將 model 的模式設為 eval，這樣 model 的參數就會固定住\n",
        "        with torch.no_grad():\n",
        "            total_loss, total_acc = 0, 0\n",
        "            for i, (inputs, labels) in enumerate(valid):\n",
        "                inputs = inputs.to(device, dtype=torch.long) # device 為 \"cuda\"，將 inputs 轉成 torch.cuda.LongTensor\n",
        "                labels = labels.to(device, dtype=torch.float) # device 為 \"cuda\"，將 labels 轉成 torch.cuda.FloatTensor，因為等等要餵進 criterion，所以型態要是 float\n",
        "                outputs = model(inputs) # 將 input 餵給模型\n",
        "                outputs = outputs.squeeze() # 去掉最外面的 dimension，好讓 outputs 可以餵進 criterion()\n",
        "                loss = criterion(outputs, labels) # 計算此時模型的 validation loss\n",
        "                correct = evaluation(outputs, labels) # 計算此時模型的 validation accuracy\n",
        "                total_acc += (correct / batch_size)\n",
        "                total_loss += loss.item()\n",
        "\n",
        "            print(\"Valid | Loss:{:.5f} Acc: {:.3f} \".format(total_loss/v_batch, total_acc/v_batch*100))\n",
        "            if total_acc > best_acc:\n",
        "                # 如果 validation 的結果優於之前所有的結果，就把當下的模型存下來以備之後做預測時使用\n",
        "                best_acc = total_acc\n",
        "                #torch.save(model, \"{}/val_acc_{:.3f}.model\".format(model_dir,total_acc/v_batch*100))\n",
        "                torch.save(model, \"{}/ckpt.model\".format(model_dir))\n",
        "                print('saving model with acc {:.3f}'.format(total_acc/v_batch*100))\n",
        "        print('-----------------------------------------------')\n",
        "        model.train() # 將 model 的模式設為 train，這樣 optimizer 就可以更新 model 的參數（因為剛剛轉成 eval 模式）"
      ],
      "execution_count": null,
      "outputs": []
    },
    {
      "cell_type": "markdown",
      "metadata": {
        "id": "qF5YQrupNfCS"
      },
      "source": [
        "### Test"
      ]
    },
    {
      "cell_type": "code",
      "metadata": {
        "id": "2X2wkdAYxHYA"
      },
      "source": [
        "# test.py\n",
        "# 這個 block 用來對 testing_data.txt 做預測\n",
        "import torch\n",
        "from torch import nn\n",
        "import torch.optim as optim\n",
        "import torch.nn.functional as F\n",
        "\n",
        "def testing(batch_size, test_loader, model, device):\n",
        "    model.eval()\n",
        "    ret_output = []\n",
        "    with torch.no_grad():\n",
        "        for i, inputs in enumerate(test_loader):\n",
        "            inputs = inputs.to(device, dtype=torch.long)\n",
        "            outputs = model(inputs)\n",
        "            outputs = outputs.squeeze()\n",
        "            outputs[outputs>=0.5] = 1 # 大於等於 0.5 為正面\n",
        "            outputs[outputs<0.5] = 0 # 小於 0.5 為負面\n",
        "            ret_output += outputs.int().tolist()\n",
        "    \n",
        "    return ret_output"
      ],
      "execution_count": null,
      "outputs": []
    },
    {
      "cell_type": "markdown",
      "metadata": {
        "id": "dfnKj0KXNeoz"
      },
      "source": [
        "### Main"
      ]
    },
    {
      "cell_type": "code",
      "metadata": {
        "id": "EztIWqCmlZof"
      },
      "source": [
        "# main.py\n",
        "import os\n",
        "import torch\n",
        "import argparse\n",
        "import numpy as np\n",
        "from torch import nn\n",
        "from gensim.models import word2vec\n",
        "from sklearn.model_selection import train_test_split\n",
        "\n",
        "# 通過 torch.cuda.is_available() 的回傳值進行判斷是否有使用 GPU 的環境，如果有的話 device 就設為 \"cuda\"，沒有的話就設為 \"cpu\"\n",
        "device = torch.device(\"cuda\" if torch.cuda.is_available() else \"cpu\")\n",
        "\n",
        "# 處理好各個 data 的路徑\n",
        "train_with_label = os.path.join(path_prefix, 'training_label.txt')\n",
        "train_no_label = os.path.join(path_prefix, 'training_nolabel.txt')\n",
        "testing_data = os.path.join(path_prefix, 'testing_data.txt')\n",
        "\n",
        "w2v_path = os.path.join(path_prefix, 'w2v_all.model') # 處理 word to vec model 的路徑\n",
        "\n",
        "# 定義句子長度、要不要固定 embedding、batch 大小、要訓練幾個 epoch、learning rate 的值、model 的資料夾路徑\n",
        "sen_len = 20\n",
        "fix_embedding = True # fix embedding during training\n",
        "batch_size = 128\n",
        "epoch = 5\n",
        "lr = 0.001\n",
        "# model_dir = os.path.join(path_prefix, 'model/') # model directory for checkpoint model\n",
        "model_dir = path_prefix # model directory for checkpoint model\n",
        "\n",
        "print(\"loading data ...\") # 把 'training_label.txt' 跟 'training_nolabel.txt' 讀進來\n",
        "train_x, y = load_training_data(train_with_label)\n",
        "train_x_no_label = load_training_data(train_no_label)\n",
        "\n",
        "# 對 input 跟 labels 做預處理\n",
        "preprocess = Preprocess(train_x, sen_len, w2v_path=w2v_path)\n",
        "embedding = preprocess.make_embedding(load=True)\n",
        "train_x = preprocess.sentence_word2idx()\n",
        "y = preprocess.labels_to_tensor(y)\n",
        "\n",
        "# 製作一個 model 的對象\n",
        "model = LSTM_Net(embedding, embedding_dim=250, hidden_dim=150, num_layers=1, dropout=0.5, fix_embedding=fix_embedding)\n",
        "model = model.to(device) # device為 \"cuda\"，model 使用 GPU 來訓練（餵進去的 inputs 也需要是 cuda tensor）\n",
        "\n",
        "# 把 data 分為 training data 跟 validation data（將一部份 training data 拿去當作 validation data）\n",
        "X_train, X_val, y_train, y_val = train_x[:180000], train_x[180000:], y[:180000], y[180000:]\n",
        "\n",
        "# 把 data 做成 dataset 供 dataloader 取用\n",
        "train_dataset = TwitterDataset(X=X_train, y=y_train)\n",
        "val_dataset = TwitterDataset(X=X_val, y=y_val)\n",
        "\n",
        "# 把 data 轉成 batch of tensors\n",
        "train_loader = torch.utils.data.DataLoader(dataset = train_dataset,\n",
        "                                            batch_size = batch_size,\n",
        "                                            shuffle = True,\n",
        "                                            num_workers = 8)\n",
        "\n",
        "val_loader = torch.utils.data.DataLoader(dataset = val_dataset,\n",
        "                                            batch_size = batch_size,\n",
        "                                            shuffle = False,\n",
        "                                            num_workers = 8)\n",
        "\n",
        "# 開始訓練\n",
        "training(batch_size, epoch, lr, model_dir, train_loader, val_loader, model, device)"
      ],
      "execution_count": null,
      "outputs": []
    },
    {
      "cell_type": "markdown",
      "metadata": {
        "id": "8fQeaQNeNm3L"
      },
      "source": [
        "### Predict and Write to csv file"
      ]
    },
    {
      "cell_type": "code",
      "metadata": {
        "id": "vFvjFQopxVrt"
      },
      "source": [
        "# 開始測試模型並做預測\n",
        "print(\"loading testing data ...\")\n",
        "test_x = load_testing_data(testing_data)\n",
        "preprocess = Preprocess(test_x, sen_len, w2v_path=w2v_path)\n",
        "embedding = preprocess.make_embedding(load=True)\n",
        "test_x = preprocess.sentence_word2idx()\n",
        "test_dataset = TwitterDataset(X=test_x, y=None)\n",
        "test_loader = torch.utils.data.DataLoader(dataset = test_dataset,\n",
        "                                            batch_size = batch_size,\n",
        "                                            shuffle = False,\n",
        "                                            num_workers = 8)\n",
        "print('\\nload model ...')\n",
        "model = torch.load(os.path.join(model_dir, 'ckpt.model'))\n",
        "outputs = testing(batch_size, test_loader, model, device)\n",
        "\n",
        "# 寫到 csv 檔案供上傳 Kaggle\n",
        "tmp = pd.DataFrame({\"id\":[str(i) for i in range(len(test_x))],\"label\":outputs})\n",
        "print(\"save csv ...\")\n",
        "tmp.to_csv(os.path.join(path_prefix, 'predict.csv'), index=False)\n",
        "print(\"Finish Predicting\")\n",
        "\n",
        "# 以下是使用 command line 上傳到 Kaggle 的方式\n",
        "# 需要先 pip install kaggle、Create API Token，詳細請看 https://github.com/Kaggle/kaggle-api 以及 https://www.kaggle.com/code1110/how-to-submit-from-google-colab\n",
        "# kaggle competitions submit [competition-name] -f [csv file path]] -m [message]\n",
        "# e.g., kaggle competitions submit ml-2020spring-hw4 -f output/predict.csv -m \"......\""
      ],
      "execution_count": null,
      "outputs": []
    },
    {
      "cell_type": "markdown",
      "metadata": {
        "id": "qSvgTRuGu2Qb"
      },
      "source": [
        "#### Check where the files are"
      ]
    },
    {
      "cell_type": "code",
      "metadata": {
        "id": "8SZYJQ62utiK"
      },
      "source": [
        "!pwd\n",
        "!ls"
      ],
      "execution_count": null,
      "outputs": []
    },
    {
      "cell_type": "markdown",
      "metadata": {
        "id": "uZf3E2O1wsQo"
      },
      "source": [
        "#### Download the files to your computer"
      ]
    },
    {
      "cell_type": "code",
      "metadata": {
        "id": "pzsAmmRUwqdA"
      },
      "source": [
        "from google.colab import files\n",
        "files.download('predict.csv')"
      ],
      "execution_count": null,
      "outputs": []
    }
  ]
}